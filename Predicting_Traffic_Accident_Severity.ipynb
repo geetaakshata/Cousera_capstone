{
  "nbformat": 4,
  "nbformat_minor": 0,
  "metadata": {
    "colab": {
      "name": "Predicting Traffic Accident Severity.ipynb",
      "provenance": [],
      "authorship_tag": "ABX9TyPjW70eHQe9CBkNBLLwb5T+",
      "include_colab_link": true
    },
    "kernelspec": {
      "name": "python3",
      "display_name": "Python 3"
    }
  },
  "cells": [
    {
      "cell_type": "markdown",
      "metadata": {
        "id": "view-in-github",
        "colab_type": "text"
      },
      "source": [
        "<a href=\"https://colab.research.google.com/github/geetaakshata/Cousera_capstone/blob/main/Predicting_Traffic_Accident_Severity.ipynb\" target=\"_parent\"><img src=\"https://colab.research.google.com/assets/colab-badge.svg\" alt=\"Open In Colab\"/></a>"
      ]
    },
    {
      "cell_type": "markdown",
      "metadata": {
        "id": "A7mwF0iuFx5w"
      },
      "source": [
        "# Capstone Project - Predicting Traffic Accident Severity\n",
        "## Applied DSc Capstone by IBM/Coursera"
      ]
    },
    {
      "cell_type": "markdown",
      "metadata": {
        "id": "ZvzZvYIMOY-3"
      },
      "source": [
        "#Table of Contants"
      ]
    },
    {
      "cell_type": "markdown",
      "metadata": {
        "id": "n4ib4D1yOhfN"
      },
      "source": [
        "1. Introduction\n",
        "2. Data\n",
        "3. Data Cleaning\n",
        "4. Exploratory Data Analysis\n",
        "5. Data Preparation\n",
        "6. Model Development\n",
        "7. Results"
      ]
    },
    {
      "cell_type": "markdown",
      "metadata": {
        "id": "gGcu8-TiGHPW"
      },
      "source": [
        "#### 1. Introduction/Business Problem "
      ]
    },
    {
      "cell_type": "markdown",
      "metadata": {
        "id": "XWkNyKZJGYJx"
      },
      "source": [
        "Road traffic injuries are currently estimated to be the eighth leading cause of death across all age groups globally, and are predicted to become the seventh leading cause of death by 2030.\n",
        "\n",
        "Analysing a significant range of factors, including weather conditions, special events, roadworks, traffic jams among others, an accurate prediction of the severity of the accidents can be performed.\n",
        "\n",
        "These insights, could allow law enforcement bodies to allocate their resources more effectively in advance of potential accidents, preventing when and where a severe accidents can occur as well as saving both, time and money. In addition, this knowledge of a severe accident situation can be warned to drivers so that they would drive more carefully or even change their route if it is possible or to hospital which could have set everything ready for a severe intervention in advance.\n",
        "\n",
        "Governments should be highly interested in accurate predictions of the severity of an accident, in order to reduce the time of arrival and thus save a significant amount of people each year. Others interested could be private companies investing in technologies aiming to improve road safeness."
      ]
    },
    {
      "cell_type": "markdown",
      "metadata": {
        "id": "F_ApHuxuGfyx"
      },
      "source": [
        "#### 2. Data"
      ]
    },
    {
      "cell_type": "markdown",
      "metadata": {
        "id": "kPwx6ZfLGnb0"
      },
      "source": [
        "The original data for this project comes from the following Kaggle data set. \n",
        "The features of the dataset resulting are the following:\n",
        "\n",
        "In the characteristics dataset, the features are : \"lighting\", \"localisation\"(agg), \"type of intersection\", \"atmospheric conditions\", \"type of collisions\", \"department\", \"adress\", \"time\" and the coordinates. Added two new features from this original dataset: \"date\" and \"weekend\" indicating if the accident occurred during the weekend or not.\n",
        "\n",
        "In the places dataset,  keep only the features: \"road categorie\", \"traffic regime\", \"number of traffic lanes\", \"road profile\", \"road shape\", \"surface condition\", \"situation\", \"school nearby\" and \"infrastructure\".\n",
        "\n",
        "From the users dataset, I have created the following features:\n",
        "\n",
        "* num_us: total number of users involved in the accident.\n",
        "* ped: Wether there are pedestrians involved or not.\n",
        "* critic_age: If there is any user in between 17 and 31 y.o.\n",
        "* sev : maximum gravity suffered by any user involved in the accident:\n",
        " * 0 = Unscathered or Light injury\n",
        " * 1 = Hospitalized wonded or Death"
      ]
    },
    {
      "cell_type": "code",
      "metadata": {
        "id": "-SZfNbTtGZaZ"
      },
      "source": [
        "import pandas as pd\n",
        "import numpy as np\n",
        "import seaborn as sns\n",
        "\n",
        "import matplotlib.pyplot as plt"
      ],
      "execution_count": 3,
      "outputs": []
    },
    {
      "cell_type": "markdown",
      "metadata": {
        "id": "kadtHG93IDbu"
      },
      "source": [
        "### Importing Data"
      ]
    },
    {
      "cell_type": "code",
      "metadata": {
        "id": "4WsseZlAHwOJ",
        "outputId": "5e441051-b260-4349-f885-429cdf123396",
        "colab": {
          "base_uri": "https://localhost:8080/",
          "height": 51
        }
      },
      "source": [
        "df_char = pd.read_csv('/caracteristics.csv', encoding='latin-1', low_memory=False)\n",
        "df_pl = pd.read_csv('/places.csv')\n",
        "df_users = pd.read_csv(r'/users.csv')\n",
        "df_veh = pd.read_csv(r'/vehicles.csv')\n",
        "df_holi = pd.read_csv('/holidays.csv')"
      ],
      "execution_count": 4,
      "outputs": [
        {
          "output_type": "stream",
          "text": [
            "/usr/local/lib/python3.6/dist-packages/IPython/core/interactiveshell.py:2718: DtypeWarning: Columns (2) have mixed types.Specify dtype option on import or set low_memory=False.\n",
            "  interactivity=interactivity, compiler=compiler, result=result)\n"
          ],
          "name": "stderr"
        }
      ]
    },
    {
      "cell_type": "markdown",
      "metadata": {
        "id": "-KEgixURKj-J"
      },
      "source": [
        "## caracteristics and places"
      ]
    },
    {
      "cell_type": "code",
      "metadata": {
        "id": "LIcjq97PIU21",
        "outputId": "46f3d27c-90b5-4141-914c-6ac0361a9352",
        "colab": {
          "base_uri": "https://localhost:8080/",
          "height": 204
        }
      },
      "source": [
        "df_char.head()"
      ],
      "execution_count": 5,
      "outputs": [
        {
          "output_type": "execute_result",
          "data": {
            "text/html": [
              "<div>\n",
              "<style scoped>\n",
              "    .dataframe tbody tr th:only-of-type {\n",
              "        vertical-align: middle;\n",
              "    }\n",
              "\n",
              "    .dataframe tbody tr th {\n",
              "        vertical-align: top;\n",
              "    }\n",
              "\n",
              "    .dataframe thead th {\n",
              "        text-align: right;\n",
              "    }\n",
              "</style>\n",
              "<table border=\"1\" class=\"dataframe\">\n",
              "  <thead>\n",
              "    <tr style=\"text-align: right;\">\n",
              "      <th></th>\n",
              "      <th>Num_Acc</th>\n",
              "      <th>an</th>\n",
              "      <th>mois</th>\n",
              "      <th>jour</th>\n",
              "      <th>hrmn</th>\n",
              "      <th>lum</th>\n",
              "      <th>agg</th>\n",
              "      <th>int</th>\n",
              "      <th>atm</th>\n",
              "      <th>col</th>\n",
              "      <th>com</th>\n",
              "      <th>adr</th>\n",
              "      <th>gps</th>\n",
              "      <th>lat</th>\n",
              "      <th>long</th>\n",
              "      <th>dep</th>\n",
              "    </tr>\n",
              "  </thead>\n",
              "  <tbody>\n",
              "    <tr>\n",
              "      <th>0</th>\n",
              "      <td>201600000001</td>\n",
              "      <td>16</td>\n",
              "      <td>2</td>\n",
              "      <td>1</td>\n",
              "      <td>1445</td>\n",
              "      <td>1</td>\n",
              "      <td>2</td>\n",
              "      <td>1</td>\n",
              "      <td>8.0</td>\n",
              "      <td>3.0</td>\n",
              "      <td>5.0</td>\n",
              "      <td>46, rue Sonneville</td>\n",
              "      <td>M</td>\n",
              "      <td>0.0</td>\n",
              "      <td>0</td>\n",
              "      <td>590</td>\n",
              "    </tr>\n",
              "    <tr>\n",
              "      <th>1</th>\n",
              "      <td>201600000002</td>\n",
              "      <td>16</td>\n",
              "      <td>3</td>\n",
              "      <td>16</td>\n",
              "      <td>1800</td>\n",
              "      <td>1</td>\n",
              "      <td>2</td>\n",
              "      <td>6</td>\n",
              "      <td>1.0</td>\n",
              "      <td>6.0</td>\n",
              "      <td>5.0</td>\n",
              "      <td>1a rue du cimetière</td>\n",
              "      <td>M</td>\n",
              "      <td>0.0</td>\n",
              "      <td>0</td>\n",
              "      <td>590</td>\n",
              "    </tr>\n",
              "    <tr>\n",
              "      <th>2</th>\n",
              "      <td>201600000003</td>\n",
              "      <td>16</td>\n",
              "      <td>7</td>\n",
              "      <td>13</td>\n",
              "      <td>1900</td>\n",
              "      <td>1</td>\n",
              "      <td>1</td>\n",
              "      <td>1</td>\n",
              "      <td>1.0</td>\n",
              "      <td>6.0</td>\n",
              "      <td>11.0</td>\n",
              "      <td>NaN</td>\n",
              "      <td>M</td>\n",
              "      <td>0.0</td>\n",
              "      <td>0</td>\n",
              "      <td>590</td>\n",
              "    </tr>\n",
              "    <tr>\n",
              "      <th>3</th>\n",
              "      <td>201600000004</td>\n",
              "      <td>16</td>\n",
              "      <td>8</td>\n",
              "      <td>15</td>\n",
              "      <td>1930</td>\n",
              "      <td>2</td>\n",
              "      <td>2</td>\n",
              "      <td>1</td>\n",
              "      <td>7.0</td>\n",
              "      <td>3.0</td>\n",
              "      <td>477.0</td>\n",
              "      <td>52 rue victor hugo</td>\n",
              "      <td>M</td>\n",
              "      <td>0.0</td>\n",
              "      <td>0</td>\n",
              "      <td>590</td>\n",
              "    </tr>\n",
              "    <tr>\n",
              "      <th>4</th>\n",
              "      <td>201600000005</td>\n",
              "      <td>16</td>\n",
              "      <td>12</td>\n",
              "      <td>23</td>\n",
              "      <td>1100</td>\n",
              "      <td>1</td>\n",
              "      <td>2</td>\n",
              "      <td>3</td>\n",
              "      <td>1.0</td>\n",
              "      <td>3.0</td>\n",
              "      <td>11.0</td>\n",
              "      <td>rue Joliot curie</td>\n",
              "      <td>M</td>\n",
              "      <td>0.0</td>\n",
              "      <td>0</td>\n",
              "      <td>590</td>\n",
              "    </tr>\n",
              "  </tbody>\n",
              "</table>\n",
              "</div>"
            ],
            "text/plain": [
              "        Num_Acc  an  mois  jour  hrmn  ...                  adr  gps  lat  long  dep\n",
              "0  201600000001  16     2     1  1445  ...   46, rue Sonneville    M  0.0     0  590\n",
              "1  201600000002  16     3    16  1800  ...  1a rue du cimetière    M  0.0     0  590\n",
              "2  201600000003  16     7    13  1900  ...                  NaN    M  0.0     0  590\n",
              "3  201600000004  16     8    15  1930  ...   52 rue victor hugo    M  0.0     0  590\n",
              "4  201600000005  16    12    23  1100  ...     rue Joliot curie    M  0.0     0  590\n",
              "\n",
              "[5 rows x 16 columns]"
            ]
          },
          "metadata": {
            "tags": []
          },
          "execution_count": 5
        }
      ]
    },
    {
      "cell_type": "code",
      "metadata": {
        "id": "dbyAVwTGI61-",
        "outputId": "3484bb22-94a0-41bd-94c4-4f67b5352e40",
        "colab": {
          "base_uri": "https://localhost:8080/",
          "height": 436
        }
      },
      "source": [
        "# dropping unrelevant columns.\n",
        "df_char.drop(['adr','com', 'gps'], axis=1, inplace=True)\n",
        "df_pl.drop(['v1', 'v2', 'pr', 'pr1', 'lartpc', 'larrout'], axis=1,  inplace=True)\n",
        "df_veh.drop(['senc', 'occutc', 'obs', 'obsm', 'choc', 'manv', 'num_veh'], axis=1, inplace=True)\n",
        "print(df_char.shape, df_pl.shape, df_veh.shape, df_users.shape)\n",
        "df_pl"
      ],
      "execution_count": 6,
      "outputs": [
        {
          "output_type": "stream",
          "text": [
            "(839985, 13) (839985, 12) (1433389, 2) (1876005, 12)\n"
          ],
          "name": "stdout"
        },
        {
          "output_type": "execute_result",
          "data": {
            "text/html": [
              "<div>\n",
              "<style scoped>\n",
              "    .dataframe tbody tr th:only-of-type {\n",
              "        vertical-align: middle;\n",
              "    }\n",
              "\n",
              "    .dataframe tbody tr th {\n",
              "        vertical-align: top;\n",
              "    }\n",
              "\n",
              "    .dataframe thead th {\n",
              "        text-align: right;\n",
              "    }\n",
              "</style>\n",
              "<table border=\"1\" class=\"dataframe\">\n",
              "  <thead>\n",
              "    <tr style=\"text-align: right;\">\n",
              "      <th></th>\n",
              "      <th>Num_Acc</th>\n",
              "      <th>catr</th>\n",
              "      <th>voie</th>\n",
              "      <th>circ</th>\n",
              "      <th>nbv</th>\n",
              "      <th>vosp</th>\n",
              "      <th>prof</th>\n",
              "      <th>plan</th>\n",
              "      <th>surf</th>\n",
              "      <th>infra</th>\n",
              "      <th>situ</th>\n",
              "      <th>env1</th>\n",
              "    </tr>\n",
              "  </thead>\n",
              "  <tbody>\n",
              "    <tr>\n",
              "      <th>0</th>\n",
              "      <td>201600000001</td>\n",
              "      <td>3.0</td>\n",
              "      <td>39</td>\n",
              "      <td>2.0</td>\n",
              "      <td>0.0</td>\n",
              "      <td>0.0</td>\n",
              "      <td>1.0</td>\n",
              "      <td>3.0</td>\n",
              "      <td>1.0</td>\n",
              "      <td>0.0</td>\n",
              "      <td>1.0</td>\n",
              "      <td>0.0</td>\n",
              "    </tr>\n",
              "    <tr>\n",
              "      <th>1</th>\n",
              "      <td>201600000002</td>\n",
              "      <td>3.0</td>\n",
              "      <td>39</td>\n",
              "      <td>1.0</td>\n",
              "      <td>0.0</td>\n",
              "      <td>0.0</td>\n",
              "      <td>1.0</td>\n",
              "      <td>2.0</td>\n",
              "      <td>1.0</td>\n",
              "      <td>0.0</td>\n",
              "      <td>1.0</td>\n",
              "      <td>0.0</td>\n",
              "    </tr>\n",
              "    <tr>\n",
              "      <th>2</th>\n",
              "      <td>201600000003</td>\n",
              "      <td>3.0</td>\n",
              "      <td>1</td>\n",
              "      <td>2.0</td>\n",
              "      <td>2.0</td>\n",
              "      <td>0.0</td>\n",
              "      <td>1.0</td>\n",
              "      <td>3.0</td>\n",
              "      <td>2.0</td>\n",
              "      <td>0.0</td>\n",
              "      <td>3.0</td>\n",
              "      <td>99.0</td>\n",
              "    </tr>\n",
              "    <tr>\n",
              "      <th>3</th>\n",
              "      <td>201600000004</td>\n",
              "      <td>4.0</td>\n",
              "      <td>0</td>\n",
              "      <td>2.0</td>\n",
              "      <td>0.0</td>\n",
              "      <td>0.0</td>\n",
              "      <td>1.0</td>\n",
              "      <td>1.0</td>\n",
              "      <td>1.0</td>\n",
              "      <td>0.0</td>\n",
              "      <td>1.0</td>\n",
              "      <td>99.0</td>\n",
              "    </tr>\n",
              "    <tr>\n",
              "      <th>4</th>\n",
              "      <td>201600000005</td>\n",
              "      <td>4.0</td>\n",
              "      <td>0</td>\n",
              "      <td>0.0</td>\n",
              "      <td>0.0</td>\n",
              "      <td>0.0</td>\n",
              "      <td>0.0</td>\n",
              "      <td>1.0</td>\n",
              "      <td>1.0</td>\n",
              "      <td>0.0</td>\n",
              "      <td>1.0</td>\n",
              "      <td>3.0</td>\n",
              "    </tr>\n",
              "    <tr>\n",
              "      <th>...</th>\n",
              "      <td>...</td>\n",
              "      <td>...</td>\n",
              "      <td>...</td>\n",
              "      <td>...</td>\n",
              "      <td>...</td>\n",
              "      <td>...</td>\n",
              "      <td>...</td>\n",
              "      <td>...</td>\n",
              "      <td>...</td>\n",
              "      <td>...</td>\n",
              "      <td>...</td>\n",
              "      <td>...</td>\n",
              "    </tr>\n",
              "    <tr>\n",
              "      <th>839980</th>\n",
              "      <td>200500087950</td>\n",
              "      <td>4.0</td>\n",
              "      <td>0</td>\n",
              "      <td>2.0</td>\n",
              "      <td>3.0</td>\n",
              "      <td>0.0</td>\n",
              "      <td>1.0</td>\n",
              "      <td>1.0</td>\n",
              "      <td>1.0</td>\n",
              "      <td>0.0</td>\n",
              "      <td>1.0</td>\n",
              "      <td>3.0</td>\n",
              "    </tr>\n",
              "    <tr>\n",
              "      <th>839981</th>\n",
              "      <td>200500087951</td>\n",
              "      <td>4.0</td>\n",
              "      <td>0</td>\n",
              "      <td>2.0</td>\n",
              "      <td>2.0</td>\n",
              "      <td>0.0</td>\n",
              "      <td>1.0</td>\n",
              "      <td>2.0</td>\n",
              "      <td>1.0</td>\n",
              "      <td>0.0</td>\n",
              "      <td>1.0</td>\n",
              "      <td>0.0</td>\n",
              "    </tr>\n",
              "    <tr>\n",
              "      <th>839982</th>\n",
              "      <td>200500087952</td>\n",
              "      <td>4.0</td>\n",
              "      <td>0</td>\n",
              "      <td>1.0</td>\n",
              "      <td>2.0</td>\n",
              "      <td>0.0</td>\n",
              "      <td>1.0</td>\n",
              "      <td>1.0</td>\n",
              "      <td>1.0</td>\n",
              "      <td>0.0</td>\n",
              "      <td>1.0</td>\n",
              "      <td>3.0</td>\n",
              "    </tr>\n",
              "    <tr>\n",
              "      <th>839983</th>\n",
              "      <td>200500087953</td>\n",
              "      <td>4.0</td>\n",
              "      <td>0</td>\n",
              "      <td>2.0</td>\n",
              "      <td>0.0</td>\n",
              "      <td>0.0</td>\n",
              "      <td>1.0</td>\n",
              "      <td>1.0</td>\n",
              "      <td>1.0</td>\n",
              "      <td>0.0</td>\n",
              "      <td>1.0</td>\n",
              "      <td>0.0</td>\n",
              "    </tr>\n",
              "    <tr>\n",
              "      <th>839984</th>\n",
              "      <td>200500087954</td>\n",
              "      <td>2.0</td>\n",
              "      <td>0</td>\n",
              "      <td>3.0</td>\n",
              "      <td>2.0</td>\n",
              "      <td>0.0</td>\n",
              "      <td>1.0</td>\n",
              "      <td>2.0</td>\n",
              "      <td>2.0</td>\n",
              "      <td>0.0</td>\n",
              "      <td>1.0</td>\n",
              "      <td>0.0</td>\n",
              "    </tr>\n",
              "  </tbody>\n",
              "</table>\n",
              "<p>839985 rows × 12 columns</p>\n",
              "</div>"
            ],
            "text/plain": [
              "             Num_Acc  catr voie  circ  nbv  ...  plan  surf  infra  situ  env1\n",
              "0       201600000001   3.0   39   2.0  0.0  ...   3.0   1.0    0.0   1.0   0.0\n",
              "1       201600000002   3.0   39   1.0  0.0  ...   2.0   1.0    0.0   1.0   0.0\n",
              "2       201600000003   3.0    1   2.0  2.0  ...   3.0   2.0    0.0   3.0  99.0\n",
              "3       201600000004   4.0    0   2.0  0.0  ...   1.0   1.0    0.0   1.0  99.0\n",
              "4       201600000005   4.0    0   0.0  0.0  ...   1.0   1.0    0.0   1.0   3.0\n",
              "...              ...   ...  ...   ...  ...  ...   ...   ...    ...   ...   ...\n",
              "839980  200500087950   4.0    0   2.0  3.0  ...   1.0   1.0    0.0   1.0   3.0\n",
              "839981  200500087951   4.0    0   2.0  2.0  ...   2.0   1.0    0.0   1.0   0.0\n",
              "839982  200500087952   4.0    0   1.0  2.0  ...   1.0   1.0    0.0   1.0   3.0\n",
              "839983  200500087953   4.0    0   2.0  0.0  ...   1.0   1.0    0.0   1.0   0.0\n",
              "839984  200500087954   2.0    0   3.0  2.0  ...   2.0   2.0    0.0   1.0   0.0\n",
              "\n",
              "[839985 rows x 12 columns]"
            ]
          },
          "metadata": {
            "tags": []
          },
          "execution_count": 6
        }
      ]
    },
    {
      "cell_type": "code",
      "metadata": {
        "id": "bhrzxX8UJIID",
        "outputId": "0fa1796f-a47a-4493-9188-0234b846619b",
        "colab": {
          "base_uri": "https://localhost:8080/",
          "height": 224
        }
      },
      "source": [
        "df_char.columns = ['ID', 'year', 'month', 'day', 'time', 'lum', 'agg', 'int', 'atm', 'col', 'lat', 'long', 'dep']\n",
        "df_pl.columns = ['ID','road_cat', 'road_num', 'traf_reg', 'num_lanes', 'res_lane', 'long_prof', 'shape', 'surf', 'infra', 'situation', 'school']\n",
        "df = df_char.merge(df_pl, how='inner',on='ID')\n",
        "df.head(5)"
      ],
      "execution_count": 7,
      "outputs": [
        {
          "output_type": "execute_result",
          "data": {
            "text/html": [
              "<div>\n",
              "<style scoped>\n",
              "    .dataframe tbody tr th:only-of-type {\n",
              "        vertical-align: middle;\n",
              "    }\n",
              "\n",
              "    .dataframe tbody tr th {\n",
              "        vertical-align: top;\n",
              "    }\n",
              "\n",
              "    .dataframe thead th {\n",
              "        text-align: right;\n",
              "    }\n",
              "</style>\n",
              "<table border=\"1\" class=\"dataframe\">\n",
              "  <thead>\n",
              "    <tr style=\"text-align: right;\">\n",
              "      <th></th>\n",
              "      <th>ID</th>\n",
              "      <th>year</th>\n",
              "      <th>month</th>\n",
              "      <th>day</th>\n",
              "      <th>time</th>\n",
              "      <th>lum</th>\n",
              "      <th>agg</th>\n",
              "      <th>int</th>\n",
              "      <th>atm</th>\n",
              "      <th>col</th>\n",
              "      <th>lat</th>\n",
              "      <th>long</th>\n",
              "      <th>dep</th>\n",
              "      <th>road_cat</th>\n",
              "      <th>road_num</th>\n",
              "      <th>traf_reg</th>\n",
              "      <th>num_lanes</th>\n",
              "      <th>res_lane</th>\n",
              "      <th>long_prof</th>\n",
              "      <th>shape</th>\n",
              "      <th>surf</th>\n",
              "      <th>infra</th>\n",
              "      <th>situation</th>\n",
              "      <th>school</th>\n",
              "    </tr>\n",
              "  </thead>\n",
              "  <tbody>\n",
              "    <tr>\n",
              "      <th>0</th>\n",
              "      <td>201600000001</td>\n",
              "      <td>16</td>\n",
              "      <td>2</td>\n",
              "      <td>1</td>\n",
              "      <td>1445</td>\n",
              "      <td>1</td>\n",
              "      <td>2</td>\n",
              "      <td>1</td>\n",
              "      <td>8.0</td>\n",
              "      <td>3.0</td>\n",
              "      <td>0.0</td>\n",
              "      <td>0</td>\n",
              "      <td>590</td>\n",
              "      <td>3.0</td>\n",
              "      <td>39</td>\n",
              "      <td>2.0</td>\n",
              "      <td>0.0</td>\n",
              "      <td>0.0</td>\n",
              "      <td>1.0</td>\n",
              "      <td>3.0</td>\n",
              "      <td>1.0</td>\n",
              "      <td>0.0</td>\n",
              "      <td>1.0</td>\n",
              "      <td>0.0</td>\n",
              "    </tr>\n",
              "    <tr>\n",
              "      <th>1</th>\n",
              "      <td>201600000002</td>\n",
              "      <td>16</td>\n",
              "      <td>3</td>\n",
              "      <td>16</td>\n",
              "      <td>1800</td>\n",
              "      <td>1</td>\n",
              "      <td>2</td>\n",
              "      <td>6</td>\n",
              "      <td>1.0</td>\n",
              "      <td>6.0</td>\n",
              "      <td>0.0</td>\n",
              "      <td>0</td>\n",
              "      <td>590</td>\n",
              "      <td>3.0</td>\n",
              "      <td>39</td>\n",
              "      <td>1.0</td>\n",
              "      <td>0.0</td>\n",
              "      <td>0.0</td>\n",
              "      <td>1.0</td>\n",
              "      <td>2.0</td>\n",
              "      <td>1.0</td>\n",
              "      <td>0.0</td>\n",
              "      <td>1.0</td>\n",
              "      <td>0.0</td>\n",
              "    </tr>\n",
              "    <tr>\n",
              "      <th>2</th>\n",
              "      <td>201600000003</td>\n",
              "      <td>16</td>\n",
              "      <td>7</td>\n",
              "      <td>13</td>\n",
              "      <td>1900</td>\n",
              "      <td>1</td>\n",
              "      <td>1</td>\n",
              "      <td>1</td>\n",
              "      <td>1.0</td>\n",
              "      <td>6.0</td>\n",
              "      <td>0.0</td>\n",
              "      <td>0</td>\n",
              "      <td>590</td>\n",
              "      <td>3.0</td>\n",
              "      <td>1</td>\n",
              "      <td>2.0</td>\n",
              "      <td>2.0</td>\n",
              "      <td>0.0</td>\n",
              "      <td>1.0</td>\n",
              "      <td>3.0</td>\n",
              "      <td>2.0</td>\n",
              "      <td>0.0</td>\n",
              "      <td>3.0</td>\n",
              "      <td>99.0</td>\n",
              "    </tr>\n",
              "    <tr>\n",
              "      <th>3</th>\n",
              "      <td>201600000004</td>\n",
              "      <td>16</td>\n",
              "      <td>8</td>\n",
              "      <td>15</td>\n",
              "      <td>1930</td>\n",
              "      <td>2</td>\n",
              "      <td>2</td>\n",
              "      <td>1</td>\n",
              "      <td>7.0</td>\n",
              "      <td>3.0</td>\n",
              "      <td>0.0</td>\n",
              "      <td>0</td>\n",
              "      <td>590</td>\n",
              "      <td>4.0</td>\n",
              "      <td>0</td>\n",
              "      <td>2.0</td>\n",
              "      <td>0.0</td>\n",
              "      <td>0.0</td>\n",
              "      <td>1.0</td>\n",
              "      <td>1.0</td>\n",
              "      <td>1.0</td>\n",
              "      <td>0.0</td>\n",
              "      <td>1.0</td>\n",
              "      <td>99.0</td>\n",
              "    </tr>\n",
              "    <tr>\n",
              "      <th>4</th>\n",
              "      <td>201600000005</td>\n",
              "      <td>16</td>\n",
              "      <td>12</td>\n",
              "      <td>23</td>\n",
              "      <td>1100</td>\n",
              "      <td>1</td>\n",
              "      <td>2</td>\n",
              "      <td>3</td>\n",
              "      <td>1.0</td>\n",
              "      <td>3.0</td>\n",
              "      <td>0.0</td>\n",
              "      <td>0</td>\n",
              "      <td>590</td>\n",
              "      <td>4.0</td>\n",
              "      <td>0</td>\n",
              "      <td>0.0</td>\n",
              "      <td>0.0</td>\n",
              "      <td>0.0</td>\n",
              "      <td>0.0</td>\n",
              "      <td>1.0</td>\n",
              "      <td>1.0</td>\n",
              "      <td>0.0</td>\n",
              "      <td>1.0</td>\n",
              "      <td>3.0</td>\n",
              "    </tr>\n",
              "  </tbody>\n",
              "</table>\n",
              "</div>"
            ],
            "text/plain": [
              "             ID  year  month  day  time  ...  shape  surf  infra  situation  school\n",
              "0  201600000001    16      2    1  1445  ...    3.0   1.0    0.0        1.0     0.0\n",
              "1  201600000002    16      3   16  1800  ...    2.0   1.0    0.0        1.0     0.0\n",
              "2  201600000003    16      7   13  1900  ...    3.0   2.0    0.0        3.0    99.0\n",
              "3  201600000004    16      8   15  1930  ...    1.0   1.0    0.0        1.0    99.0\n",
              "4  201600000005    16     12   23  1100  ...    1.0   1.0    0.0        1.0     3.0\n",
              "\n",
              "[5 rows x 24 columns]"
            ]
          },
          "metadata": {
            "tags": []
          },
          "execution_count": 7
        }
      ]
    },
    {
      "cell_type": "markdown",
      "metadata": {
        "id": "_GbYHYpXKr6V"
      },
      "source": [
        "## vehicles"
      ]
    },
    {
      "cell_type": "code",
      "metadata": {
        "id": "LQNCWYhjJQEd",
        "outputId": "680b419e-7a72-4531-a99b-a9515cab98b8",
        "colab": {
          "base_uri": "https://localhost:8080/",
          "height": 34
        }
      },
      "source": [
        "df_veh.columns"
      ],
      "execution_count": 8,
      "outputs": [
        {
          "output_type": "execute_result",
          "data": {
            "text/plain": [
              "Index(['Num_Acc', 'catv'], dtype='object')"
            ]
          },
          "metadata": {
            "tags": []
          },
          "execution_count": 8
        }
      ]
    },
    {
      "cell_type": "code",
      "metadata": {
        "id": "Tpe1z1EeJrtH",
        "outputId": "0dfdef20-83e4-4b0d-a2b7-129cbe8996b3",
        "colab": {
          "base_uri": "https://localhost:8080/",
          "height": 359
        }
      },
      "source": [
        "df_veh.head(10)"
      ],
      "execution_count": 9,
      "outputs": [
        {
          "output_type": "execute_result",
          "data": {
            "text/html": [
              "<div>\n",
              "<style scoped>\n",
              "    .dataframe tbody tr th:only-of-type {\n",
              "        vertical-align: middle;\n",
              "    }\n",
              "\n",
              "    .dataframe tbody tr th {\n",
              "        vertical-align: top;\n",
              "    }\n",
              "\n",
              "    .dataframe thead th {\n",
              "        text-align: right;\n",
              "    }\n",
              "</style>\n",
              "<table border=\"1\" class=\"dataframe\">\n",
              "  <thead>\n",
              "    <tr style=\"text-align: right;\">\n",
              "      <th></th>\n",
              "      <th>Num_Acc</th>\n",
              "      <th>catv</th>\n",
              "    </tr>\n",
              "  </thead>\n",
              "  <tbody>\n",
              "    <tr>\n",
              "      <th>0</th>\n",
              "      <td>201600000001</td>\n",
              "      <td>7</td>\n",
              "    </tr>\n",
              "    <tr>\n",
              "      <th>1</th>\n",
              "      <td>201600000001</td>\n",
              "      <td>2</td>\n",
              "    </tr>\n",
              "    <tr>\n",
              "      <th>2</th>\n",
              "      <td>201600000002</td>\n",
              "      <td>7</td>\n",
              "    </tr>\n",
              "    <tr>\n",
              "      <th>3</th>\n",
              "      <td>201600000003</td>\n",
              "      <td>7</td>\n",
              "    </tr>\n",
              "    <tr>\n",
              "      <th>4</th>\n",
              "      <td>201600000004</td>\n",
              "      <td>32</td>\n",
              "    </tr>\n",
              "    <tr>\n",
              "      <th>5</th>\n",
              "      <td>201600000004</td>\n",
              "      <td>7</td>\n",
              "    </tr>\n",
              "    <tr>\n",
              "      <th>6</th>\n",
              "      <td>201600000005</td>\n",
              "      <td>30</td>\n",
              "    </tr>\n",
              "    <tr>\n",
              "      <th>7</th>\n",
              "      <td>201600000005</td>\n",
              "      <td>7</td>\n",
              "    </tr>\n",
              "    <tr>\n",
              "      <th>8</th>\n",
              "      <td>201600000006</td>\n",
              "      <td>7</td>\n",
              "    </tr>\n",
              "    <tr>\n",
              "      <th>9</th>\n",
              "      <td>201600000007</td>\n",
              "      <td>30</td>\n",
              "    </tr>\n",
              "  </tbody>\n",
              "</table>\n",
              "</div>"
            ],
            "text/plain": [
              "        Num_Acc  catv\n",
              "0  201600000001     7\n",
              "1  201600000001     2\n",
              "2  201600000002     7\n",
              "3  201600000003     7\n",
              "4  201600000004    32\n",
              "5  201600000004     7\n",
              "6  201600000005    30\n",
              "7  201600000005     7\n",
              "8  201600000006     7\n",
              "9  201600000007    30"
            ]
          },
          "metadata": {
            "tags": []
          },
          "execution_count": 9
        }
      ]
    },
    {
      "cell_type": "code",
      "metadata": {
        "id": "bNrEAzg2KCMi",
        "outputId": "437f605a-4310-4071-9081-6b1d6fc44349",
        "colab": {
          "base_uri": "https://localhost:8080/",
          "height": 595
        }
      },
      "source": [
        "categories = df_veh['catv'].value_counts()\n",
        "categories.sort_index()"
      ],
      "execution_count": 10,
      "outputs": [
        {
          "output_type": "execute_result",
          "data": {
            "text/plain": [
              "1      58128\n",
              "2      79884\n",
              "3       5008\n",
              "4       7463\n",
              "5      21816\n",
              "6         39\n",
              "7     890217\n",
              "8        120\n",
              "9        300\n",
              "10     70205\n",
              "11        17\n",
              "12        79\n",
              "13      5295\n",
              "14     15392\n",
              "15     11782\n",
              "16       657\n",
              "17     11501\n",
              "18      2075\n",
              "19       183\n",
              "20      1383\n",
              "21      2762\n",
              "30     59918\n",
              "31     28038\n",
              "32     29596\n",
              "33     97185\n",
              "34     13436\n",
              "35       367\n",
              "36      1624\n",
              "37      9071\n",
              "38      2524\n",
              "39       328\n",
              "40      1555\n",
              "99      5441\n",
              "Name: catv, dtype: int64"
            ]
          },
          "metadata": {
            "tags": []
          },
          "execution_count": 10
        }
      ]
    },
    {
      "cell_type": "markdown",
      "metadata": {
        "id": "1Il8h5P9KaUs"
      },
      "source": [
        "Values in the category of vehicle feature do no match with the description of this feature. There are more than 33 different classifications are found in the vehicles data set. Thus, I won't use this data due to lack of information on its meaning."
      ]
    },
    {
      "cell_type": "markdown",
      "metadata": {
        "id": "IBaEOZZcLcgQ"
      },
      "source": [
        "### users"
      ]
    },
    {
      "cell_type": "code",
      "metadata": {
        "id": "n46qfx5cKKrh",
        "outputId": "ee92be33-d0cf-4ee8-ae66-2816b665a5a0",
        "colab": {
          "base_uri": "https://localhost:8080/",
          "height": 204
        }
      },
      "source": [
        "df_users.head(5)"
      ],
      "execution_count": 11,
      "outputs": [
        {
          "output_type": "execute_result",
          "data": {
            "text/html": [
              "<div>\n",
              "<style scoped>\n",
              "    .dataframe tbody tr th:only-of-type {\n",
              "        vertical-align: middle;\n",
              "    }\n",
              "\n",
              "    .dataframe tbody tr th {\n",
              "        vertical-align: top;\n",
              "    }\n",
              "\n",
              "    .dataframe thead th {\n",
              "        text-align: right;\n",
              "    }\n",
              "</style>\n",
              "<table border=\"1\" class=\"dataframe\">\n",
              "  <thead>\n",
              "    <tr style=\"text-align: right;\">\n",
              "      <th></th>\n",
              "      <th>Num_Acc</th>\n",
              "      <th>place</th>\n",
              "      <th>catu</th>\n",
              "      <th>grav</th>\n",
              "      <th>sexe</th>\n",
              "      <th>trajet</th>\n",
              "      <th>secu</th>\n",
              "      <th>locp</th>\n",
              "      <th>actp</th>\n",
              "      <th>etatp</th>\n",
              "      <th>an_nais</th>\n",
              "      <th>num_veh</th>\n",
              "    </tr>\n",
              "  </thead>\n",
              "  <tbody>\n",
              "    <tr>\n",
              "      <th>0</th>\n",
              "      <td>201600000001</td>\n",
              "      <td>1.0</td>\n",
              "      <td>1</td>\n",
              "      <td>1</td>\n",
              "      <td>2</td>\n",
              "      <td>0.0</td>\n",
              "      <td>11.0</td>\n",
              "      <td>0.0</td>\n",
              "      <td>0.0</td>\n",
              "      <td>0.0</td>\n",
              "      <td>1983.0</td>\n",
              "      <td>B02</td>\n",
              "    </tr>\n",
              "    <tr>\n",
              "      <th>1</th>\n",
              "      <td>201600000001</td>\n",
              "      <td>1.0</td>\n",
              "      <td>1</td>\n",
              "      <td>3</td>\n",
              "      <td>1</td>\n",
              "      <td>9.0</td>\n",
              "      <td>21.0</td>\n",
              "      <td>0.0</td>\n",
              "      <td>0.0</td>\n",
              "      <td>0.0</td>\n",
              "      <td>2001.0</td>\n",
              "      <td>A01</td>\n",
              "    </tr>\n",
              "    <tr>\n",
              "      <th>2</th>\n",
              "      <td>201600000002</td>\n",
              "      <td>1.0</td>\n",
              "      <td>1</td>\n",
              "      <td>3</td>\n",
              "      <td>1</td>\n",
              "      <td>5.0</td>\n",
              "      <td>11.0</td>\n",
              "      <td>0.0</td>\n",
              "      <td>0.0</td>\n",
              "      <td>0.0</td>\n",
              "      <td>1960.0</td>\n",
              "      <td>A01</td>\n",
              "    </tr>\n",
              "    <tr>\n",
              "      <th>3</th>\n",
              "      <td>201600000002</td>\n",
              "      <td>2.0</td>\n",
              "      <td>2</td>\n",
              "      <td>3</td>\n",
              "      <td>1</td>\n",
              "      <td>0.0</td>\n",
              "      <td>11.0</td>\n",
              "      <td>0.0</td>\n",
              "      <td>0.0</td>\n",
              "      <td>0.0</td>\n",
              "      <td>2000.0</td>\n",
              "      <td>A01</td>\n",
              "    </tr>\n",
              "    <tr>\n",
              "      <th>4</th>\n",
              "      <td>201600000002</td>\n",
              "      <td>3.0</td>\n",
              "      <td>2</td>\n",
              "      <td>3</td>\n",
              "      <td>2</td>\n",
              "      <td>0.0</td>\n",
              "      <td>11.0</td>\n",
              "      <td>0.0</td>\n",
              "      <td>0.0</td>\n",
              "      <td>0.0</td>\n",
              "      <td>1962.0</td>\n",
              "      <td>A01</td>\n",
              "    </tr>\n",
              "  </tbody>\n",
              "</table>\n",
              "</div>"
            ],
            "text/plain": [
              "        Num_Acc  place  catu  grav  sexe  ...  locp  actp  etatp  an_nais  num_veh\n",
              "0  201600000001    1.0     1     1     2  ...   0.0   0.0    0.0   1983.0      B02\n",
              "1  201600000001    1.0     1     3     1  ...   0.0   0.0    0.0   2001.0      A01\n",
              "2  201600000002    1.0     1     3     1  ...   0.0   0.0    0.0   1960.0      A01\n",
              "3  201600000002    2.0     2     3     1  ...   0.0   0.0    0.0   2000.0      A01\n",
              "4  201600000002    3.0     2     3     2  ...   0.0   0.0    0.0   1962.0      A01\n",
              "\n",
              "[5 rows x 12 columns]"
            ]
          },
          "metadata": {
            "tags": []
          },
          "execution_count": 11
        }
      ]
    },
    {
      "cell_type": "code",
      "metadata": {
        "id": "qqZJPsSKLhIU",
        "outputId": "3690e4ba-3456-4935-b6a1-2db6abb05653",
        "colab": {
          "base_uri": "https://localhost:8080/",
          "height": 359
        }
      },
      "source": [
        "df_users.drop(['place', 'sexe', 'trajet', 'locp', 'actp', 'etatp', 'num_veh'], axis=1, inplace=True)\n",
        "df_users.columns = ['ID', 'catu', 'grav', 'secu', 'year_birth']\n",
        "df_users.sort_values(by='ID').head(10)"
      ],
      "execution_count": 12,
      "outputs": [
        {
          "output_type": "execute_result",
          "data": {
            "text/html": [
              "<div>\n",
              "<style scoped>\n",
              "    .dataframe tbody tr th:only-of-type {\n",
              "        vertical-align: middle;\n",
              "    }\n",
              "\n",
              "    .dataframe tbody tr th {\n",
              "        vertical-align: top;\n",
              "    }\n",
              "\n",
              "    .dataframe thead th {\n",
              "        text-align: right;\n",
              "    }\n",
              "</style>\n",
              "<table border=\"1\" class=\"dataframe\">\n",
              "  <thead>\n",
              "    <tr style=\"text-align: right;\">\n",
              "      <th></th>\n",
              "      <th>ID</th>\n",
              "      <th>catu</th>\n",
              "      <th>grav</th>\n",
              "      <th>secu</th>\n",
              "      <th>year_birth</th>\n",
              "    </tr>\n",
              "  </thead>\n",
              "  <tbody>\n",
              "    <tr>\n",
              "      <th>1678507</th>\n",
              "      <td>200500000001</td>\n",
              "      <td>1</td>\n",
              "      <td>4</td>\n",
              "      <td>11.0</td>\n",
              "      <td>1976.0</td>\n",
              "    </tr>\n",
              "    <tr>\n",
              "      <th>1678512</th>\n",
              "      <td>200500000001</td>\n",
              "      <td>2</td>\n",
              "      <td>1</td>\n",
              "      <td>11.0</td>\n",
              "      <td>1991.0</td>\n",
              "    </tr>\n",
              "    <tr>\n",
              "      <th>1678511</th>\n",
              "      <td>200500000001</td>\n",
              "      <td>2</td>\n",
              "      <td>1</td>\n",
              "      <td>11.0</td>\n",
              "      <td>1998.0</td>\n",
              "    </tr>\n",
              "    <tr>\n",
              "      <th>1678508</th>\n",
              "      <td>200500000001</td>\n",
              "      <td>1</td>\n",
              "      <td>3</td>\n",
              "      <td>11.0</td>\n",
              "      <td>1968.0</td>\n",
              "    </tr>\n",
              "    <tr>\n",
              "      <th>1678509</th>\n",
              "      <td>200500000001</td>\n",
              "      <td>2</td>\n",
              "      <td>1</td>\n",
              "      <td>11.0</td>\n",
              "      <td>1964.0</td>\n",
              "    </tr>\n",
              "    <tr>\n",
              "      <th>1678510</th>\n",
              "      <td>200500000001</td>\n",
              "      <td>2</td>\n",
              "      <td>1</td>\n",
              "      <td>31.0</td>\n",
              "      <td>2004.0</td>\n",
              "    </tr>\n",
              "    <tr>\n",
              "      <th>1678514</th>\n",
              "      <td>200500000002</td>\n",
              "      <td>1</td>\n",
              "      <td>3</td>\n",
              "      <td>21.0</td>\n",
              "      <td>1979.0</td>\n",
              "    </tr>\n",
              "    <tr>\n",
              "      <th>1678513</th>\n",
              "      <td>200500000002</td>\n",
              "      <td>1</td>\n",
              "      <td>1</td>\n",
              "      <td>11.0</td>\n",
              "      <td>1955.0</td>\n",
              "    </tr>\n",
              "    <tr>\n",
              "      <th>1678516</th>\n",
              "      <td>200500000003</td>\n",
              "      <td>1</td>\n",
              "      <td>3</td>\n",
              "      <td>21.0</td>\n",
              "      <td>1956.0</td>\n",
              "    </tr>\n",
              "    <tr>\n",
              "      <th>1678515</th>\n",
              "      <td>200500000003</td>\n",
              "      <td>1</td>\n",
              "      <td>1</td>\n",
              "      <td>21.0</td>\n",
              "      <td>1983.0</td>\n",
              "    </tr>\n",
              "  </tbody>\n",
              "</table>\n",
              "</div>"
            ],
            "text/plain": [
              "                   ID  catu  grav  secu  year_birth\n",
              "1678507  200500000001     1     4  11.0      1976.0\n",
              "1678512  200500000001     2     1  11.0      1991.0\n",
              "1678511  200500000001     2     1  11.0      1998.0\n",
              "1678508  200500000001     1     3  11.0      1968.0\n",
              "1678509  200500000001     2     1  11.0      1964.0\n",
              "1678510  200500000001     2     1  31.0      2004.0\n",
              "1678514  200500000002     1     3  21.0      1979.0\n",
              "1678513  200500000002     1     1  11.0      1955.0\n",
              "1678516  200500000003     1     3  21.0      1956.0\n",
              "1678515  200500000003     1     1  21.0      1983.0"
            ]
          },
          "metadata": {
            "tags": []
          },
          "execution_count": 12
        }
      ]
    },
    {
      "cell_type": "code",
      "metadata": {
        "id": "kDc80UfnLq9S",
        "outputId": "0e9fea49-cb8b-4605-9c7d-5e03727b1ff6",
        "colab": {
          "base_uri": "https://localhost:8080/",
          "height": 221
        }
      },
      "source": [
        "#number of users\n",
        "\n",
        "num_users = df_users.ID.value_counts().sort_index(ascending=True)\n",
        "num_users"
      ],
      "execution_count": 13,
      "outputs": [
        {
          "output_type": "execute_result",
          "data": {
            "text/plain": [
              "200500000001    6\n",
              "200500000002    2\n",
              "200500000003    2\n",
              "200500000004    4\n",
              "200500000005    2\n",
              "               ..\n",
              "201600059428    2\n",
              "201600059429    1\n",
              "201600059430    2\n",
              "201600059431    2\n",
              "201600059432    3\n",
              "Name: ID, Length: 839985, dtype: int64"
            ]
          },
          "metadata": {
            "tags": []
          },
          "execution_count": 13
        }
      ]
    },
    {
      "cell_type": "code",
      "metadata": {
        "id": "3ZBALjOCLv3F",
        "outputId": "0a209fce-05b1-46d1-de5f-2c2e4f665f0b",
        "colab": {
          "base_uri": "https://localhost:8080/",
          "height": 204
        }
      },
      "source": [
        "#pedestrians\n",
        "\n",
        "df_users['ped'] = df_users['catu'].apply(lambda x: 1 if x==3 else 0)\n",
        "df_users.head(5)"
      ],
      "execution_count": 14,
      "outputs": [
        {
          "output_type": "execute_result",
          "data": {
            "text/html": [
              "<div>\n",
              "<style scoped>\n",
              "    .dataframe tbody tr th:only-of-type {\n",
              "        vertical-align: middle;\n",
              "    }\n",
              "\n",
              "    .dataframe tbody tr th {\n",
              "        vertical-align: top;\n",
              "    }\n",
              "\n",
              "    .dataframe thead th {\n",
              "        text-align: right;\n",
              "    }\n",
              "</style>\n",
              "<table border=\"1\" class=\"dataframe\">\n",
              "  <thead>\n",
              "    <tr style=\"text-align: right;\">\n",
              "      <th></th>\n",
              "      <th>ID</th>\n",
              "      <th>catu</th>\n",
              "      <th>grav</th>\n",
              "      <th>secu</th>\n",
              "      <th>year_birth</th>\n",
              "      <th>ped</th>\n",
              "    </tr>\n",
              "  </thead>\n",
              "  <tbody>\n",
              "    <tr>\n",
              "      <th>0</th>\n",
              "      <td>201600000001</td>\n",
              "      <td>1</td>\n",
              "      <td>1</td>\n",
              "      <td>11.0</td>\n",
              "      <td>1983.0</td>\n",
              "      <td>0</td>\n",
              "    </tr>\n",
              "    <tr>\n",
              "      <th>1</th>\n",
              "      <td>201600000001</td>\n",
              "      <td>1</td>\n",
              "      <td>3</td>\n",
              "      <td>21.0</td>\n",
              "      <td>2001.0</td>\n",
              "      <td>0</td>\n",
              "    </tr>\n",
              "    <tr>\n",
              "      <th>2</th>\n",
              "      <td>201600000002</td>\n",
              "      <td>1</td>\n",
              "      <td>3</td>\n",
              "      <td>11.0</td>\n",
              "      <td>1960.0</td>\n",
              "      <td>0</td>\n",
              "    </tr>\n",
              "    <tr>\n",
              "      <th>3</th>\n",
              "      <td>201600000002</td>\n",
              "      <td>2</td>\n",
              "      <td>3</td>\n",
              "      <td>11.0</td>\n",
              "      <td>2000.0</td>\n",
              "      <td>0</td>\n",
              "    </tr>\n",
              "    <tr>\n",
              "      <th>4</th>\n",
              "      <td>201600000002</td>\n",
              "      <td>2</td>\n",
              "      <td>3</td>\n",
              "      <td>11.0</td>\n",
              "      <td>1962.0</td>\n",
              "      <td>0</td>\n",
              "    </tr>\n",
              "  </tbody>\n",
              "</table>\n",
              "</div>"
            ],
            "text/plain": [
              "             ID  catu  grav  secu  year_birth  ped\n",
              "0  201600000001     1     1  11.0      1983.0    0\n",
              "1  201600000001     1     3  21.0      2001.0    0\n",
              "2  201600000002     1     3  11.0      1960.0    0\n",
              "3  201600000002     2     3  11.0      2000.0    0\n",
              "4  201600000002     2     3  11.0      1962.0    0"
            ]
          },
          "metadata": {
            "tags": []
          },
          "execution_count": 14
        }
      ]
    },
    {
      "cell_type": "code",
      "metadata": {
        "id": "pf12fbmSLzlt",
        "outputId": "3f919d6b-d1e3-4723-cb26-5bcc7fe22414",
        "colab": {
          "base_uri": "https://localhost:8080/",
          "height": 289
        }
      },
      "source": [
        "df_users2 = df_users.groupby('ID').sum()\n",
        "ped = df_users2.ped\n",
        "print('Accidents in which pedestrians have been involved:')\n",
        "df_users2.ped.value_counts()"
      ],
      "execution_count": 15,
      "outputs": [
        {
          "output_type": "stream",
          "text": [
            "Accidents in which pedestrians have been involved:\n"
          ],
          "name": "stdout"
        },
        {
          "output_type": "execute_result",
          "data": {
            "text/plain": [
              "0     693464\n",
              "1     139020\n",
              "2       6415\n",
              "3        773\n",
              "4        214\n",
              "5         55\n",
              "6         19\n",
              "7         13\n",
              "10         4\n",
              "9          3\n",
              "8          2\n",
              "25         1\n",
              "21         1\n",
              "15         1\n",
              "Name: ped, dtype: int64"
            ]
          },
          "metadata": {
            "tags": []
          },
          "execution_count": 15
        }
      ]
    },
    {
      "cell_type": "code",
      "metadata": {
        "id": "oKxudQRAL6dL",
        "outputId": "f1fe1c5e-1adf-4beb-ad61-9436e7cdae29",
        "colab": {
          "base_uri": "https://localhost:8080/",
          "height": 419
        }
      },
      "source": [
        "# crical age\n",
        "\n",
        "acc_year = df_users.ID.astype(str).str[:4] # year of the accident\n",
        "age = acc_year.astype(int) - df_users['year_birth'] # age of the user\n",
        "df_users['age']= age\n",
        "df_users"
      ],
      "execution_count": 16,
      "outputs": [
        {
          "output_type": "execute_result",
          "data": {
            "text/html": [
              "<div>\n",
              "<style scoped>\n",
              "    .dataframe tbody tr th:only-of-type {\n",
              "        vertical-align: middle;\n",
              "    }\n",
              "\n",
              "    .dataframe tbody tr th {\n",
              "        vertical-align: top;\n",
              "    }\n",
              "\n",
              "    .dataframe thead th {\n",
              "        text-align: right;\n",
              "    }\n",
              "</style>\n",
              "<table border=\"1\" class=\"dataframe\">\n",
              "  <thead>\n",
              "    <tr style=\"text-align: right;\">\n",
              "      <th></th>\n",
              "      <th>ID</th>\n",
              "      <th>catu</th>\n",
              "      <th>grav</th>\n",
              "      <th>secu</th>\n",
              "      <th>year_birth</th>\n",
              "      <th>ped</th>\n",
              "      <th>age</th>\n",
              "    </tr>\n",
              "  </thead>\n",
              "  <tbody>\n",
              "    <tr>\n",
              "      <th>0</th>\n",
              "      <td>201600000001</td>\n",
              "      <td>1</td>\n",
              "      <td>1</td>\n",
              "      <td>11.0</td>\n",
              "      <td>1983.0</td>\n",
              "      <td>0</td>\n",
              "      <td>33.0</td>\n",
              "    </tr>\n",
              "    <tr>\n",
              "      <th>1</th>\n",
              "      <td>201600000001</td>\n",
              "      <td>1</td>\n",
              "      <td>3</td>\n",
              "      <td>21.0</td>\n",
              "      <td>2001.0</td>\n",
              "      <td>0</td>\n",
              "      <td>15.0</td>\n",
              "    </tr>\n",
              "    <tr>\n",
              "      <th>2</th>\n",
              "      <td>201600000002</td>\n",
              "      <td>1</td>\n",
              "      <td>3</td>\n",
              "      <td>11.0</td>\n",
              "      <td>1960.0</td>\n",
              "      <td>0</td>\n",
              "      <td>56.0</td>\n",
              "    </tr>\n",
              "    <tr>\n",
              "      <th>3</th>\n",
              "      <td>201600000002</td>\n",
              "      <td>2</td>\n",
              "      <td>3</td>\n",
              "      <td>11.0</td>\n",
              "      <td>2000.0</td>\n",
              "      <td>0</td>\n",
              "      <td>16.0</td>\n",
              "    </tr>\n",
              "    <tr>\n",
              "      <th>4</th>\n",
              "      <td>201600000002</td>\n",
              "      <td>2</td>\n",
              "      <td>3</td>\n",
              "      <td>11.0</td>\n",
              "      <td>1962.0</td>\n",
              "      <td>0</td>\n",
              "      <td>54.0</td>\n",
              "    </tr>\n",
              "    <tr>\n",
              "      <th>...</th>\n",
              "      <td>...</td>\n",
              "      <td>...</td>\n",
              "      <td>...</td>\n",
              "      <td>...</td>\n",
              "      <td>...</td>\n",
              "      <td>...</td>\n",
              "      <td>...</td>\n",
              "    </tr>\n",
              "    <tr>\n",
              "      <th>1876000</th>\n",
              "      <td>200500087953</td>\n",
              "      <td>1</td>\n",
              "      <td>1</td>\n",
              "      <td>13.0</td>\n",
              "      <td>1972.0</td>\n",
              "      <td>0</td>\n",
              "      <td>33.0</td>\n",
              "    </tr>\n",
              "    <tr>\n",
              "      <th>1876001</th>\n",
              "      <td>200500087953</td>\n",
              "      <td>1</td>\n",
              "      <td>1</td>\n",
              "      <td>13.0</td>\n",
              "      <td>1965.0</td>\n",
              "      <td>0</td>\n",
              "      <td>40.0</td>\n",
              "    </tr>\n",
              "    <tr>\n",
              "      <th>1876002</th>\n",
              "      <td>200500087953</td>\n",
              "      <td>1</td>\n",
              "      <td>4</td>\n",
              "      <td>23.0</td>\n",
              "      <td>1990.0</td>\n",
              "      <td>0</td>\n",
              "      <td>15.0</td>\n",
              "    </tr>\n",
              "    <tr>\n",
              "      <th>1876003</th>\n",
              "      <td>200500087954</td>\n",
              "      <td>1</td>\n",
              "      <td>4</td>\n",
              "      <td>13.0</td>\n",
              "      <td>1951.0</td>\n",
              "      <td>0</td>\n",
              "      <td>54.0</td>\n",
              "    </tr>\n",
              "    <tr>\n",
              "      <th>1876004</th>\n",
              "      <td>200500087954</td>\n",
              "      <td>2</td>\n",
              "      <td>4</td>\n",
              "      <td>13.0</td>\n",
              "      <td>1946.0</td>\n",
              "      <td>0</td>\n",
              "      <td>59.0</td>\n",
              "    </tr>\n",
              "  </tbody>\n",
              "</table>\n",
              "<p>1876005 rows × 7 columns</p>\n",
              "</div>"
            ],
            "text/plain": [
              "                   ID  catu  grav  secu  year_birth  ped   age\n",
              "0        201600000001     1     1  11.0      1983.0    0  33.0\n",
              "1        201600000001     1     3  21.0      2001.0    0  15.0\n",
              "2        201600000002     1     3  11.0      1960.0    0  56.0\n",
              "3        201600000002     2     3  11.0      2000.0    0  16.0\n",
              "4        201600000002     2     3  11.0      1962.0    0  54.0\n",
              "...               ...   ...   ...   ...         ...  ...   ...\n",
              "1876000  200500087953     1     1  13.0      1972.0    0  33.0\n",
              "1876001  200500087953     1     1  13.0      1965.0    0  40.0\n",
              "1876002  200500087953     1     4  23.0      1990.0    0  15.0\n",
              "1876003  200500087954     1     4  13.0      1951.0    0  54.0\n",
              "1876004  200500087954     2     4  13.0      1946.0    0  59.0\n",
              "\n",
              "[1876005 rows x 7 columns]"
            ]
          },
          "metadata": {
            "tags": []
          },
          "execution_count": 16
        }
      ]
    },
    {
      "cell_type": "code",
      "metadata": {
        "id": "RTZ7ew4zMI1o",
        "outputId": "9184e3b5-bd66-4e67-bc84-a03d56e9b120",
        "colab": {
          "base_uri": "https://localhost:8080/",
          "height": 34
        }
      },
      "source": [
        "df2 = df_users[df_users['grav']==2]\n",
        "deaths = df2['age'].value_counts()\n",
        "deaths.sort_values(ascending=False)\n",
        "\n",
        "total, suma, i = deaths.values.sum(), 0, 0\n",
        "\n",
        "for num in deaths.values:\n",
        "    suma += num\n",
        "    per = (suma/total)*100\n",
        "    if per<=50:\n",
        "        i += 1\n",
        "        percentage = per\n",
        "print('A % 2.2f percent of a total of %4i deaths is found on the %2i first ages, being the deaths array sorted by number of deaths.' %(percentage,total,i))"
      ],
      "execution_count": 17,
      "outputs": [
        {
          "output_type": "stream",
          "text": [
            "A  49.96 percent of a total of 50487 deaths is found on the 25 first ages, being the deaths array sorted by number of deaths.\n"
          ],
          "name": "stdout"
        }
      ]
    },
    {
      "cell_type": "code",
      "metadata": {
        "id": "2SdyyD3ZMSd7",
        "outputId": "e4239f07-bd29-4761-e8bd-dd7cb2007167",
        "colab": {
          "base_uri": "https://localhost:8080/",
          "height": 306
        }
      },
      "source": [
        "topdeaths = deaths.head(15)\n",
        "print('Half of the deaths in a car accident are aged between % 2d and % 2.0i y.o.'\n",
        "      % (topdeaths.index.min(), topdeaths.index.max()))\n",
        "topdeaths"
      ],
      "execution_count": 18,
      "outputs": [
        {
          "output_type": "stream",
          "text": [
            "Half of the deaths in a car accident are aged between  17 and  31 y.o.\n"
          ],
          "name": "stdout"
        },
        {
          "output_type": "execute_result",
          "data": {
            "text/plain": [
              "20.0    1630\n",
              "21.0    1600\n",
              "22.0    1582\n",
              "19.0    1529\n",
              "23.0    1401\n",
              "24.0    1401\n",
              "25.0    1289\n",
              "18.0    1219\n",
              "26.0    1177\n",
              "27.0    1006\n",
              "28.0     923\n",
              "29.0     918\n",
              "31.0     822\n",
              "17.0     811\n",
              "30.0     801\n",
              "Name: age, dtype: int64"
            ]
          },
          "metadata": {
            "tags": []
          },
          "execution_count": 18
        }
      ]
    },
    {
      "cell_type": "code",
      "metadata": {
        "id": "enguk7GmMgrE",
        "outputId": "2c67f2c6-67da-4e87-e59e-ceeb7781f957",
        "colab": {
          "base_uri": "https://localhost:8080/",
          "height": 448
        }
      },
      "source": [
        "\n",
        "pd.DataFrame(deaths)\n",
        "dplot=deaths.sort_index()\n",
        "dplot.plot.bar(figsize=(14,6))\n",
        "\n",
        "plt.annotate('  50% of deaths',\n",
        "             color='r',\n",
        "            xy=(17,1650),\n",
        "            xytext=(31,1635),\n",
        "            arrowprops=dict(arrowstyle='<->', color='r')\n",
        "            )\n",
        "\n",
        "plt.axvline(x=17, color='black', linestyle='-')\n",
        "plt.axvline(x=31, color='black', linestyle='-')\n",
        "\n",
        "plt.xlabel('Age', size=12)\n",
        "plt.ylabel('number of deaths', size=12)\n",
        "plt.title('Total number of deahts by age from 2005 to 2016', size=20)"
      ],
      "execution_count": 19,
      "outputs": [
        {
          "output_type": "execute_result",
          "data": {
            "text/plain": [
              "Text(0.5, 1.0, 'Total number of deahts by age from 2005 to 2016')"
            ]
          },
          "metadata": {
            "tags": []
          },
          "execution_count": 19
        },
        {
          "output_type": "display_data",
          "data": {
            "image/png": "[encoded data removed]",
            "text/plain": [
              "<Figure size 1008x432 with 1 Axes>"
            ]
          },
          "metadata": {
            "tags": [],
            "needs_background": "light"
          }
        }
      ]
    },
    {
      "cell_type": "code",
      "metadata": {
        "id": "9u4cKB66MoeV",
        "outputId": "bb9b88c5-921f-40e4-9123-db532018ef9d",
        "colab": {
          "base_uri": "https://localhost:8080/",
          "height": 448
        }
      },
      "source": [
        "#deadth age\n",
        "death = df2['age'].value_counts().sort_index()\n",
        "total = df_users['age'].value_counts().sort_index()\n",
        "death_prop = (deaths/total)*100\n",
        "d = death_prop.dropna()\n",
        "minimum = d[d>9.9].index.min()\n",
        "d.plot.bar(figsize=(14,6))\n",
        "# plt.xticks(range(108)[0::2])\n",
        "plt.title('Percentage of fatal accidents by age', size=20)\n",
        "plt.xlabel('Age', size=12)\n",
        "plt.ylabel('%', size=12)\n",
        "plt.axhline(y=10, color='r')\n",
        "plt.axvline(x=84, color='r')\n",
        "print('People older than {0:2} are more likely to die\\\n",
        " with at least 1 out of 10 of the times, rising to beyond 35% in some cases.'.format(int(minimum)))"
      ],
      "execution_count": 20,
      "outputs": [
        {
          "output_type": "stream",
          "text": [
            "People older than 84 are more likely to die with at least 1 out of 10 of the times, rising to beyond 35% in some cases.\n"
          ],
          "name": "stdout"
        },
        {
          "output_type": "display_data",
          "data": {
            "image/png": "[encoded data removed]",
            "text/plain": [
              "<Figure size 1008x432 with 1 Axes>"
            ]
          },
          "metadata": {
            "tags": [],
            "needs_background": "light"
          }
        }
      ]
    },
    {
      "cell_type": "code",
      "metadata": {
        "id": "pZM3-a15qEQH",
        "outputId": "4929d1e8-34d6-4b69-e005-1f33dce3e7a9",
        "colab": {
          "base_uri": "https://localhost:8080/",
          "height": 204
        }
      },
      "source": [
        "df_users['crit_age'] = df_users['age'].apply(lambda x: 1 if 17<=x<=31 else 0)\n",
        "df_users['dead_age'] = df_users['age'].apply(lambda x: 1 if x>84 else 0)\n",
        "\n",
        "df_users.head(5)"
      ],
      "execution_count": 21,
      "outputs": [
        {
          "output_type": "execute_result",
          "data": {
            "text/html": [
              "<div>\n",
              "<style scoped>\n",
              "    .dataframe tbody tr th:only-of-type {\n",
              "        vertical-align: middle;\n",
              "    }\n",
              "\n",
              "    .dataframe tbody tr th {\n",
              "        vertical-align: top;\n",
              "    }\n",
              "\n",
              "    .dataframe thead th {\n",
              "        text-align: right;\n",
              "    }\n",
              "</style>\n",
              "<table border=\"1\" class=\"dataframe\">\n",
              "  <thead>\n",
              "    <tr style=\"text-align: right;\">\n",
              "      <th></th>\n",
              "      <th>ID</th>\n",
              "      <th>catu</th>\n",
              "      <th>grav</th>\n",
              "      <th>secu</th>\n",
              "      <th>year_birth</th>\n",
              "      <th>ped</th>\n",
              "      <th>age</th>\n",
              "      <th>crit_age</th>\n",
              "      <th>dead_age</th>\n",
              "    </tr>\n",
              "  </thead>\n",
              "  <tbody>\n",
              "    <tr>\n",
              "      <th>0</th>\n",
              "      <td>201600000001</td>\n",
              "      <td>1</td>\n",
              "      <td>1</td>\n",
              "      <td>11.0</td>\n",
              "      <td>1983.0</td>\n",
              "      <td>0</td>\n",
              "      <td>33.0</td>\n",
              "      <td>0</td>\n",
              "      <td>0</td>\n",
              "    </tr>\n",
              "    <tr>\n",
              "      <th>1</th>\n",
              "      <td>201600000001</td>\n",
              "      <td>1</td>\n",
              "      <td>3</td>\n",
              "      <td>21.0</td>\n",
              "      <td>2001.0</td>\n",
              "      <td>0</td>\n",
              "      <td>15.0</td>\n",
              "      <td>0</td>\n",
              "      <td>0</td>\n",
              "    </tr>\n",
              "    <tr>\n",
              "      <th>2</th>\n",
              "      <td>201600000002</td>\n",
              "      <td>1</td>\n",
              "      <td>3</td>\n",
              "      <td>11.0</td>\n",
              "      <td>1960.0</td>\n",
              "      <td>0</td>\n",
              "      <td>56.0</td>\n",
              "      <td>0</td>\n",
              "      <td>0</td>\n",
              "    </tr>\n",
              "    <tr>\n",
              "      <th>3</th>\n",
              "      <td>201600000002</td>\n",
              "      <td>2</td>\n",
              "      <td>3</td>\n",
              "      <td>11.0</td>\n",
              "      <td>2000.0</td>\n",
              "      <td>0</td>\n",
              "      <td>16.0</td>\n",
              "      <td>0</td>\n",
              "      <td>0</td>\n",
              "    </tr>\n",
              "    <tr>\n",
              "      <th>4</th>\n",
              "      <td>201600000002</td>\n",
              "      <td>2</td>\n",
              "      <td>3</td>\n",
              "      <td>11.0</td>\n",
              "      <td>1962.0</td>\n",
              "      <td>0</td>\n",
              "      <td>54.0</td>\n",
              "      <td>0</td>\n",
              "      <td>0</td>\n",
              "    </tr>\n",
              "  </tbody>\n",
              "</table>\n",
              "</div>"
            ],
            "text/plain": [
              "             ID  catu  grav  secu  year_birth  ped   age  crit_age  dead_age\n",
              "0  201600000001     1     1  11.0      1983.0    0  33.0         0         0\n",
              "1  201600000001     1     3  21.0      2001.0    0  15.0         0         0\n",
              "2  201600000002     1     3  11.0      1960.0    0  56.0         0         0\n",
              "3  201600000002     2     3  11.0      2000.0    0  16.0         0         0\n",
              "4  201600000002     2     3  11.0      1962.0    0  54.0         0         0"
            ]
          },
          "metadata": {
            "tags": []
          },
          "execution_count": 21
        }
      ]
    },
    {
      "cell_type": "code",
      "metadata": {
        "id": "_putBX28qLPS",
        "outputId": "941f938b-2ae9-491e-8e8f-61180d60299d",
        "colab": {
          "base_uri": "https://localhost:8080/",
          "height": 450
        }
      },
      "source": [
        "df2 = df_users.groupby('ID').sum().sort_index(ascending=True)\n",
        "df2['crit_age1'] = df2['crit_age'].apply(lambda x: 1 if x>0 else 0)\n",
        "df2['dead_age1'] = df2['dead_age'].apply(lambda x: 1 if x>0 else 0)\n",
        "df2['ped1'] = df2['ped'].apply(lambda x: 1 if x>0 else 0)\n",
        "df2['num_us'] = num_users\n",
        "df2"
      ],
      "execution_count": 22,
      "outputs": [
        {
          "output_type": "execute_result",
          "data": {
            "text/html": [
              "<div>\n",
              "<style scoped>\n",
              "    .dataframe tbody tr th:only-of-type {\n",
              "        vertical-align: middle;\n",
              "    }\n",
              "\n",
              "    .dataframe tbody tr th {\n",
              "        vertical-align: top;\n",
              "    }\n",
              "\n",
              "    .dataframe thead th {\n",
              "        text-align: right;\n",
              "    }\n",
              "</style>\n",
              "<table border=\"1\" class=\"dataframe\">\n",
              "  <thead>\n",
              "    <tr style=\"text-align: right;\">\n",
              "      <th></th>\n",
              "      <th>catu</th>\n",
              "      <th>grav</th>\n",
              "      <th>secu</th>\n",
              "      <th>year_birth</th>\n",
              "      <th>ped</th>\n",
              "      <th>age</th>\n",
              "      <th>crit_age</th>\n",
              "      <th>dead_age</th>\n",
              "      <th>crit_age1</th>\n",
              "      <th>dead_age1</th>\n",
              "      <th>ped1</th>\n",
              "      <th>num_us</th>\n",
              "    </tr>\n",
              "    <tr>\n",
              "      <th>ID</th>\n",
              "      <th></th>\n",
              "      <th></th>\n",
              "      <th></th>\n",
              "      <th></th>\n",
              "      <th></th>\n",
              "      <th></th>\n",
              "      <th></th>\n",
              "      <th></th>\n",
              "      <th></th>\n",
              "      <th></th>\n",
              "      <th></th>\n",
              "      <th></th>\n",
              "    </tr>\n",
              "  </thead>\n",
              "  <tbody>\n",
              "    <tr>\n",
              "      <th>200500000001</th>\n",
              "      <td>10</td>\n",
              "      <td>11</td>\n",
              "      <td>86.0</td>\n",
              "      <td>11901.0</td>\n",
              "      <td>0</td>\n",
              "      <td>129.0</td>\n",
              "      <td>1</td>\n",
              "      <td>0</td>\n",
              "      <td>1</td>\n",
              "      <td>0</td>\n",
              "      <td>0</td>\n",
              "      <td>6</td>\n",
              "    </tr>\n",
              "    <tr>\n",
              "      <th>200500000002</th>\n",
              "      <td>2</td>\n",
              "      <td>4</td>\n",
              "      <td>32.0</td>\n",
              "      <td>3934.0</td>\n",
              "      <td>0</td>\n",
              "      <td>76.0</td>\n",
              "      <td>1</td>\n",
              "      <td>0</td>\n",
              "      <td>1</td>\n",
              "      <td>0</td>\n",
              "      <td>0</td>\n",
              "      <td>2</td>\n",
              "    </tr>\n",
              "    <tr>\n",
              "      <th>200500000003</th>\n",
              "      <td>2</td>\n",
              "      <td>4</td>\n",
              "      <td>42.0</td>\n",
              "      <td>3939.0</td>\n",
              "      <td>0</td>\n",
              "      <td>71.0</td>\n",
              "      <td>1</td>\n",
              "      <td>0</td>\n",
              "      <td>1</td>\n",
              "      <td>0</td>\n",
              "      <td>0</td>\n",
              "      <td>2</td>\n",
              "    </tr>\n",
              "    <tr>\n",
              "      <th>200500000004</th>\n",
              "      <td>5</td>\n",
              "      <td>14</td>\n",
              "      <td>44.0</td>\n",
              "      <td>7779.0</td>\n",
              "      <td>0</td>\n",
              "      <td>241.0</td>\n",
              "      <td>0</td>\n",
              "      <td>1</td>\n",
              "      <td>0</td>\n",
              "      <td>1</td>\n",
              "      <td>0</td>\n",
              "      <td>4</td>\n",
              "    </tr>\n",
              "    <tr>\n",
              "      <th>200500000005</th>\n",
              "      <td>3</td>\n",
              "      <td>7</td>\n",
              "      <td>22.0</td>\n",
              "      <td>3939.0</td>\n",
              "      <td>0</td>\n",
              "      <td>71.0</td>\n",
              "      <td>0</td>\n",
              "      <td>0</td>\n",
              "      <td>0</td>\n",
              "      <td>0</td>\n",
              "      <td>0</td>\n",
              "      <td>2</td>\n",
              "    </tr>\n",
              "    <tr>\n",
              "      <th>...</th>\n",
              "      <td>...</td>\n",
              "      <td>...</td>\n",
              "      <td>...</td>\n",
              "      <td>...</td>\n",
              "      <td>...</td>\n",
              "      <td>...</td>\n",
              "      <td>...</td>\n",
              "      <td>...</td>\n",
              "      <td>...</td>\n",
              "      <td>...</td>\n",
              "      <td>...</td>\n",
              "      <td>...</td>\n",
              "    </tr>\n",
              "    <tr>\n",
              "      <th>201600059428</th>\n",
              "      <td>4</td>\n",
              "      <td>5</td>\n",
              "      <td>21.0</td>\n",
              "      <td>3994.0</td>\n",
              "      <td>1</td>\n",
              "      <td>38.0</td>\n",
              "      <td>1</td>\n",
              "      <td>0</td>\n",
              "      <td>1</td>\n",
              "      <td>0</td>\n",
              "      <td>1</td>\n",
              "      <td>2</td>\n",
              "    </tr>\n",
              "    <tr>\n",
              "      <th>201600059429</th>\n",
              "      <td>1</td>\n",
              "      <td>4</td>\n",
              "      <td>21.0</td>\n",
              "      <td>1984.0</td>\n",
              "      <td>0</td>\n",
              "      <td>32.0</td>\n",
              "      <td>0</td>\n",
              "      <td>0</td>\n",
              "      <td>0</td>\n",
              "      <td>0</td>\n",
              "      <td>0</td>\n",
              "      <td>1</td>\n",
              "    </tr>\n",
              "    <tr>\n",
              "      <th>201600059430</th>\n",
              "      <td>2</td>\n",
              "      <td>5</td>\n",
              "      <td>32.0</td>\n",
              "      <td>3972.0</td>\n",
              "      <td>0</td>\n",
              "      <td>60.0</td>\n",
              "      <td>1</td>\n",
              "      <td>0</td>\n",
              "      <td>1</td>\n",
              "      <td>0</td>\n",
              "      <td>0</td>\n",
              "      <td>2</td>\n",
              "    </tr>\n",
              "    <tr>\n",
              "      <th>201600059431</th>\n",
              "      <td>2</td>\n",
              "      <td>8</td>\n",
              "      <td>42.0</td>\n",
              "      <td>3984.0</td>\n",
              "      <td>0</td>\n",
              "      <td>48.0</td>\n",
              "      <td>2</td>\n",
              "      <td>0</td>\n",
              "      <td>1</td>\n",
              "      <td>0</td>\n",
              "      <td>0</td>\n",
              "      <td>2</td>\n",
              "    </tr>\n",
              "    <tr>\n",
              "      <th>201600059432</th>\n",
              "      <td>4</td>\n",
              "      <td>9</td>\n",
              "      <td>53.0</td>\n",
              "      <td>5915.0</td>\n",
              "      <td>0</td>\n",
              "      <td>133.0</td>\n",
              "      <td>0</td>\n",
              "      <td>0</td>\n",
              "      <td>0</td>\n",
              "      <td>0</td>\n",
              "      <td>0</td>\n",
              "      <td>3</td>\n",
              "    </tr>\n",
              "  </tbody>\n",
              "</table>\n",
              "<p>839985 rows × 12 columns</p>\n",
              "</div>"
            ],
            "text/plain": [
              "              catu  grav  secu  year_birth  ...  crit_age1  dead_age1  ped1  num_us\n",
              "ID                                          ...                                    \n",
              "200500000001    10    11  86.0     11901.0  ...          1          0     0       6\n",
              "200500000002     2     4  32.0      3934.0  ...          1          0     0       2\n",
              "200500000003     2     4  42.0      3939.0  ...          1          0     0       2\n",
              "200500000004     5    14  44.0      7779.0  ...          0          1     0       4\n",
              "200500000005     3     7  22.0      3939.0  ...          0          0     0       2\n",
              "...            ...   ...   ...         ...  ...        ...        ...   ...     ...\n",
              "201600059428     4     5  21.0      3994.0  ...          1          0     1       2\n",
              "201600059429     1     4  21.0      1984.0  ...          0          0     0       1\n",
              "201600059430     2     5  32.0      3972.0  ...          1          0     0       2\n",
              "201600059431     2     8  42.0      3984.0  ...          1          0     0       2\n",
              "201600059432     4     9  53.0      5915.0  ...          0          0     0       3\n",
              "\n",
              "[839985 rows x 12 columns]"
            ]
          },
          "metadata": {
            "tags": []
          },
          "execution_count": 22
        }
      ]
    },
    {
      "cell_type": "markdown",
      "metadata": {
        "id": "nfA7xhFfPSef"
      },
      "source": [
        "Last feature is the severity from the gravity feature of the users dataset. Currently it consists of 4 labels:\n",
        "\n",
        "* Unscathed\n",
        "* Dead\n",
        "* Hospitalized Wonded\n",
        "* Light Injury"
      ]
    },
    {
      "cell_type": "code",
      "metadata": {
        "id": "Q_Hze5lAObvm",
        "outputId": "4b99c180-65e3-4e75-c484-63006f018fd6",
        "colab": {
          "base_uri": "https://localhost:8080/",
          "height": 419
        }
      },
      "source": [
        "def change_grav(x):\n",
        "    if x==1 or x==4:\n",
        "        return 0\n",
        "    else:\n",
        "        return 1\n",
        "df3 = df_users[['ID', 'grav']].copy()\n",
        "df3['grav'] = df_users['grav'].apply(change_grav)\n",
        "df3.sort_values(by='ID')"
      ],
      "execution_count": 23,
      "outputs": [
        {
          "output_type": "execute_result",
          "data": {
            "text/html": [
              "<div>\n",
              "<style scoped>\n",
              "    .dataframe tbody tr th:only-of-type {\n",
              "        vertical-align: middle;\n",
              "    }\n",
              "\n",
              "    .dataframe tbody tr th {\n",
              "        vertical-align: top;\n",
              "    }\n",
              "\n",
              "    .dataframe thead th {\n",
              "        text-align: right;\n",
              "    }\n",
              "</style>\n",
              "<table border=\"1\" class=\"dataframe\">\n",
              "  <thead>\n",
              "    <tr style=\"text-align: right;\">\n",
              "      <th></th>\n",
              "      <th>ID</th>\n",
              "      <th>grav</th>\n",
              "    </tr>\n",
              "  </thead>\n",
              "  <tbody>\n",
              "    <tr>\n",
              "      <th>1678507</th>\n",
              "      <td>200500000001</td>\n",
              "      <td>0</td>\n",
              "    </tr>\n",
              "    <tr>\n",
              "      <th>1678512</th>\n",
              "      <td>200500000001</td>\n",
              "      <td>0</td>\n",
              "    </tr>\n",
              "    <tr>\n",
              "      <th>1678511</th>\n",
              "      <td>200500000001</td>\n",
              "      <td>0</td>\n",
              "    </tr>\n",
              "    <tr>\n",
              "      <th>1678508</th>\n",
              "      <td>200500000001</td>\n",
              "      <td>1</td>\n",
              "    </tr>\n",
              "    <tr>\n",
              "      <th>1678509</th>\n",
              "      <td>200500000001</td>\n",
              "      <td>0</td>\n",
              "    </tr>\n",
              "    <tr>\n",
              "      <th>...</th>\n",
              "      <td>...</td>\n",
              "      <td>...</td>\n",
              "    </tr>\n",
              "    <tr>\n",
              "      <th>133417</th>\n",
              "      <td>201600059431</td>\n",
              "      <td>0</td>\n",
              "    </tr>\n",
              "    <tr>\n",
              "      <th>133418</th>\n",
              "      <td>201600059431</td>\n",
              "      <td>0</td>\n",
              "    </tr>\n",
              "    <tr>\n",
              "      <th>133421</th>\n",
              "      <td>201600059432</td>\n",
              "      <td>0</td>\n",
              "    </tr>\n",
              "    <tr>\n",
              "      <th>133420</th>\n",
              "      <td>201600059432</td>\n",
              "      <td>0</td>\n",
              "    </tr>\n",
              "    <tr>\n",
              "      <th>133419</th>\n",
              "      <td>201600059432</td>\n",
              "      <td>0</td>\n",
              "    </tr>\n",
              "  </tbody>\n",
              "</table>\n",
              "<p>1876005 rows × 2 columns</p>\n",
              "</div>"
            ],
            "text/plain": [
              "                   ID  grav\n",
              "1678507  200500000001     0\n",
              "1678512  200500000001     0\n",
              "1678511  200500000001     0\n",
              "1678508  200500000001     1\n",
              "1678509  200500000001     0\n",
              "...               ...   ...\n",
              "133417   201600059431     0\n",
              "133418   201600059431     0\n",
              "133421   201600059432     0\n",
              "133420   201600059432     0\n",
              "133419   201600059432     0\n",
              "\n",
              "[1876005 rows x 2 columns]"
            ]
          },
          "metadata": {
            "tags": []
          },
          "execution_count": 23
        }
      ]
    },
    {
      "cell_type": "code",
      "metadata": {
        "id": "Ry9YwUb6PkWW",
        "outputId": "0f3639b0-17a3-4295-bf35-28998b3cc191",
        "colab": {
          "base_uri": "https://localhost:8080/",
          "height": 450
        }
      },
      "source": [
        "severity = df3[['grav', 'ID']].groupby('ID').max().sort_index(ascending=True)\n",
        "severity"
      ],
      "execution_count": 24,
      "outputs": [
        {
          "output_type": "execute_result",
          "data": {
            "text/html": [
              "<div>\n",
              "<style scoped>\n",
              "    .dataframe tbody tr th:only-of-type {\n",
              "        vertical-align: middle;\n",
              "    }\n",
              "\n",
              "    .dataframe tbody tr th {\n",
              "        vertical-align: top;\n",
              "    }\n",
              "\n",
              "    .dataframe thead th {\n",
              "        text-align: right;\n",
              "    }\n",
              "</style>\n",
              "<table border=\"1\" class=\"dataframe\">\n",
              "  <thead>\n",
              "    <tr style=\"text-align: right;\">\n",
              "      <th></th>\n",
              "      <th>grav</th>\n",
              "    </tr>\n",
              "    <tr>\n",
              "      <th>ID</th>\n",
              "      <th></th>\n",
              "    </tr>\n",
              "  </thead>\n",
              "  <tbody>\n",
              "    <tr>\n",
              "      <th>200500000001</th>\n",
              "      <td>1</td>\n",
              "    </tr>\n",
              "    <tr>\n",
              "      <th>200500000002</th>\n",
              "      <td>1</td>\n",
              "    </tr>\n",
              "    <tr>\n",
              "      <th>200500000003</th>\n",
              "      <td>1</td>\n",
              "    </tr>\n",
              "    <tr>\n",
              "      <th>200500000004</th>\n",
              "      <td>1</td>\n",
              "    </tr>\n",
              "    <tr>\n",
              "      <th>200500000005</th>\n",
              "      <td>1</td>\n",
              "    </tr>\n",
              "    <tr>\n",
              "      <th>...</th>\n",
              "      <td>...</td>\n",
              "    </tr>\n",
              "    <tr>\n",
              "      <th>201600059428</th>\n",
              "      <td>0</td>\n",
              "    </tr>\n",
              "    <tr>\n",
              "      <th>201600059429</th>\n",
              "      <td>0</td>\n",
              "    </tr>\n",
              "    <tr>\n",
              "      <th>201600059430</th>\n",
              "      <td>0</td>\n",
              "    </tr>\n",
              "    <tr>\n",
              "      <th>201600059431</th>\n",
              "      <td>0</td>\n",
              "    </tr>\n",
              "    <tr>\n",
              "      <th>201600059432</th>\n",
              "      <td>0</td>\n",
              "    </tr>\n",
              "  </tbody>\n",
              "</table>\n",
              "<p>839985 rows × 1 columns</p>\n",
              "</div>"
            ],
            "text/plain": [
              "              grav\n",
              "ID                \n",
              "200500000001     1\n",
              "200500000002     1\n",
              "200500000003     1\n",
              "200500000004     1\n",
              "200500000005     1\n",
              "...            ...\n",
              "201600059428     0\n",
              "201600059429     0\n",
              "201600059430     0\n",
              "201600059431     0\n",
              "201600059432     0\n",
              "\n",
              "[839985 rows x 1 columns]"
            ]
          },
          "metadata": {
            "tags": []
          },
          "execution_count": 24
        }
      ]
    },
    {
      "cell_type": "code",
      "metadata": {
        "id": "T65z9EgBPoph",
        "outputId": "15cafa05-955c-4245-f5a8-93f4268817a2",
        "colab": {
          "base_uri": "https://localhost:8080/",
          "height": 419
        }
      },
      "source": [
        "df2['sev'] = severity\n",
        "df2.reset_index(inplace=True)\n",
        "df2"
      ],
      "execution_count": 25,
      "outputs": [
        {
          "output_type": "execute_result",
          "data": {
            "text/html": [
              "<div>\n",
              "<style scoped>\n",
              "    .dataframe tbody tr th:only-of-type {\n",
              "        vertical-align: middle;\n",
              "    }\n",
              "\n",
              "    .dataframe tbody tr th {\n",
              "        vertical-align: top;\n",
              "    }\n",
              "\n",
              "    .dataframe thead th {\n",
              "        text-align: right;\n",
              "    }\n",
              "</style>\n",
              "<table border=\"1\" class=\"dataframe\">\n",
              "  <thead>\n",
              "    <tr style=\"text-align: right;\">\n",
              "      <th></th>\n",
              "      <th>ID</th>\n",
              "      <th>catu</th>\n",
              "      <th>grav</th>\n",
              "      <th>secu</th>\n",
              "      <th>year_birth</th>\n",
              "      <th>ped</th>\n",
              "      <th>age</th>\n",
              "      <th>crit_age</th>\n",
              "      <th>dead_age</th>\n",
              "      <th>crit_age1</th>\n",
              "      <th>dead_age1</th>\n",
              "      <th>ped1</th>\n",
              "      <th>num_us</th>\n",
              "      <th>sev</th>\n",
              "    </tr>\n",
              "  </thead>\n",
              "  <tbody>\n",
              "    <tr>\n",
              "      <th>0</th>\n",
              "      <td>200500000001</td>\n",
              "      <td>10</td>\n",
              "      <td>11</td>\n",
              "      <td>86.0</td>\n",
              "      <td>11901.0</td>\n",
              "      <td>0</td>\n",
              "      <td>129.0</td>\n",
              "      <td>1</td>\n",
              "      <td>0</td>\n",
              "      <td>1</td>\n",
              "      <td>0</td>\n",
              "      <td>0</td>\n",
              "      <td>6</td>\n",
              "      <td>1</td>\n",
              "    </tr>\n",
              "    <tr>\n",
              "      <th>1</th>\n",
              "      <td>200500000002</td>\n",
              "      <td>2</td>\n",
              "      <td>4</td>\n",
              "      <td>32.0</td>\n",
              "      <td>3934.0</td>\n",
              "      <td>0</td>\n",
              "      <td>76.0</td>\n",
              "      <td>1</td>\n",
              "      <td>0</td>\n",
              "      <td>1</td>\n",
              "      <td>0</td>\n",
              "      <td>0</td>\n",
              "      <td>2</td>\n",
              "      <td>1</td>\n",
              "    </tr>\n",
              "    <tr>\n",
              "      <th>2</th>\n",
              "      <td>200500000003</td>\n",
              "      <td>2</td>\n",
              "      <td>4</td>\n",
              "      <td>42.0</td>\n",
              "      <td>3939.0</td>\n",
              "      <td>0</td>\n",
              "      <td>71.0</td>\n",
              "      <td>1</td>\n",
              "      <td>0</td>\n",
              "      <td>1</td>\n",
              "      <td>0</td>\n",
              "      <td>0</td>\n",
              "      <td>2</td>\n",
              "      <td>1</td>\n",
              "    </tr>\n",
              "    <tr>\n",
              "      <th>3</th>\n",
              "      <td>200500000004</td>\n",
              "      <td>5</td>\n",
              "      <td>14</td>\n",
              "      <td>44.0</td>\n",
              "      <td>7779.0</td>\n",
              "      <td>0</td>\n",
              "      <td>241.0</td>\n",
              "      <td>0</td>\n",
              "      <td>1</td>\n",
              "      <td>0</td>\n",
              "      <td>1</td>\n",
              "      <td>0</td>\n",
              "      <td>4</td>\n",
              "      <td>1</td>\n",
              "    </tr>\n",
              "    <tr>\n",
              "      <th>4</th>\n",
              "      <td>200500000005</td>\n",
              "      <td>3</td>\n",
              "      <td>7</td>\n",
              "      <td>22.0</td>\n",
              "      <td>3939.0</td>\n",
              "      <td>0</td>\n",
              "      <td>71.0</td>\n",
              "      <td>0</td>\n",
              "      <td>0</td>\n",
              "      <td>0</td>\n",
              "      <td>0</td>\n",
              "      <td>0</td>\n",
              "      <td>2</td>\n",
              "      <td>1</td>\n",
              "    </tr>\n",
              "    <tr>\n",
              "      <th>...</th>\n",
              "      <td>...</td>\n",
              "      <td>...</td>\n",
              "      <td>...</td>\n",
              "      <td>...</td>\n",
              "      <td>...</td>\n",
              "      <td>...</td>\n",
              "      <td>...</td>\n",
              "      <td>...</td>\n",
              "      <td>...</td>\n",
              "      <td>...</td>\n",
              "      <td>...</td>\n",
              "      <td>...</td>\n",
              "      <td>...</td>\n",
              "      <td>...</td>\n",
              "    </tr>\n",
              "    <tr>\n",
              "      <th>839980</th>\n",
              "      <td>201600059428</td>\n",
              "      <td>4</td>\n",
              "      <td>5</td>\n",
              "      <td>21.0</td>\n",
              "      <td>3994.0</td>\n",
              "      <td>1</td>\n",
              "      <td>38.0</td>\n",
              "      <td>1</td>\n",
              "      <td>0</td>\n",
              "      <td>1</td>\n",
              "      <td>0</td>\n",
              "      <td>1</td>\n",
              "      <td>2</td>\n",
              "      <td>0</td>\n",
              "    </tr>\n",
              "    <tr>\n",
              "      <th>839981</th>\n",
              "      <td>201600059429</td>\n",
              "      <td>1</td>\n",
              "      <td>4</td>\n",
              "      <td>21.0</td>\n",
              "      <td>1984.0</td>\n",
              "      <td>0</td>\n",
              "      <td>32.0</td>\n",
              "      <td>0</td>\n",
              "      <td>0</td>\n",
              "      <td>0</td>\n",
              "      <td>0</td>\n",
              "      <td>0</td>\n",
              "      <td>1</td>\n",
              "      <td>0</td>\n",
              "    </tr>\n",
              "    <tr>\n",
              "      <th>839982</th>\n",
              "      <td>201600059430</td>\n",
              "      <td>2</td>\n",
              "      <td>5</td>\n",
              "      <td>32.0</td>\n",
              "      <td>3972.0</td>\n",
              "      <td>0</td>\n",
              "      <td>60.0</td>\n",
              "      <td>1</td>\n",
              "      <td>0</td>\n",
              "      <td>1</td>\n",
              "      <td>0</td>\n",
              "      <td>0</td>\n",
              "      <td>2</td>\n",
              "      <td>0</td>\n",
              "    </tr>\n",
              "    <tr>\n",
              "      <th>839983</th>\n",
              "      <td>201600059431</td>\n",
              "      <td>2</td>\n",
              "      <td>8</td>\n",
              "      <td>42.0</td>\n",
              "      <td>3984.0</td>\n",
              "      <td>0</td>\n",
              "      <td>48.0</td>\n",
              "      <td>2</td>\n",
              "      <td>0</td>\n",
              "      <td>1</td>\n",
              "      <td>0</td>\n",
              "      <td>0</td>\n",
              "      <td>2</td>\n",
              "      <td>0</td>\n",
              "    </tr>\n",
              "    <tr>\n",
              "      <th>839984</th>\n",
              "      <td>201600059432</td>\n",
              "      <td>4</td>\n",
              "      <td>9</td>\n",
              "      <td>53.0</td>\n",
              "      <td>5915.0</td>\n",
              "      <td>0</td>\n",
              "      <td>133.0</td>\n",
              "      <td>0</td>\n",
              "      <td>0</td>\n",
              "      <td>0</td>\n",
              "      <td>0</td>\n",
              "      <td>0</td>\n",
              "      <td>3</td>\n",
              "      <td>0</td>\n",
              "    </tr>\n",
              "  </tbody>\n",
              "</table>\n",
              "<p>839985 rows × 14 columns</p>\n",
              "</div>"
            ],
            "text/plain": [
              "                  ID  catu  grav  secu  ...  dead_age1  ped1  num_us  sev\n",
              "0       200500000001    10    11  86.0  ...          0     0       6    1\n",
              "1       200500000002     2     4  32.0  ...          0     0       2    1\n",
              "2       200500000003     2     4  42.0  ...          0     0       2    1\n",
              "3       200500000004     5    14  44.0  ...          1     0       4    1\n",
              "4       200500000005     3     7  22.0  ...          0     0       2    1\n",
              "...              ...   ...   ...   ...  ...        ...   ...     ...  ...\n",
              "839980  201600059428     4     5  21.0  ...          0     1       2    0\n",
              "839981  201600059429     1     4  21.0  ...          0     0       1    0\n",
              "839982  201600059430     2     5  32.0  ...          0     0       2    0\n",
              "839983  201600059431     2     8  42.0  ...          0     0       2    0\n",
              "839984  201600059432     4     9  53.0  ...          0     0       3    0\n",
              "\n",
              "[839985 rows x 14 columns]"
            ]
          },
          "metadata": {
            "tags": []
          },
          "execution_count": 25
        }
      ]
    },
    {
      "cell_type": "code",
      "metadata": {
        "id": "sKN0IsTDqiOn",
        "outputId": "a927fb33-33a9-4a43-aa9f-875302e124ac",
        "colab": {
          "base_uri": "https://localhost:8080/",
          "height": 439
        }
      },
      "source": [
        "df = df.merge(df2[['ID','crit_age1', 'ped1','dead_age1', 'num_us', 'sev']], on='ID', how='left')\n",
        "df"
      ],
      "execution_count": 26,
      "outputs": [
        {
          "output_type": "execute_result",
          "data": {
            "text/html": [
              "<div>\n",
              "<style scoped>\n",
              "    .dataframe tbody tr th:only-of-type {\n",
              "        vertical-align: middle;\n",
              "    }\n",
              "\n",
              "    .dataframe tbody tr th {\n",
              "        vertical-align: top;\n",
              "    }\n",
              "\n",
              "    .dataframe thead th {\n",
              "        text-align: right;\n",
              "    }\n",
              "</style>\n",
              "<table border=\"1\" class=\"dataframe\">\n",
              "  <thead>\n",
              "    <tr style=\"text-align: right;\">\n",
              "      <th></th>\n",
              "      <th>ID</th>\n",
              "      <th>year</th>\n",
              "      <th>month</th>\n",
              "      <th>day</th>\n",
              "      <th>time</th>\n",
              "      <th>lum</th>\n",
              "      <th>agg</th>\n",
              "      <th>int</th>\n",
              "      <th>atm</th>\n",
              "      <th>col</th>\n",
              "      <th>lat</th>\n",
              "      <th>long</th>\n",
              "      <th>dep</th>\n",
              "      <th>road_cat</th>\n",
              "      <th>road_num</th>\n",
              "      <th>traf_reg</th>\n",
              "      <th>num_lanes</th>\n",
              "      <th>res_lane</th>\n",
              "      <th>long_prof</th>\n",
              "      <th>shape</th>\n",
              "      <th>surf</th>\n",
              "      <th>infra</th>\n",
              "      <th>situation</th>\n",
              "      <th>school</th>\n",
              "      <th>crit_age1</th>\n",
              "      <th>ped1</th>\n",
              "      <th>dead_age1</th>\n",
              "      <th>num_us</th>\n",
              "      <th>sev</th>\n",
              "    </tr>\n",
              "  </thead>\n",
              "  <tbody>\n",
              "    <tr>\n",
              "      <th>0</th>\n",
              "      <td>201600000001</td>\n",
              "      <td>16</td>\n",
              "      <td>2</td>\n",
              "      <td>1</td>\n",
              "      <td>1445</td>\n",
              "      <td>1</td>\n",
              "      <td>2</td>\n",
              "      <td>1</td>\n",
              "      <td>8.0</td>\n",
              "      <td>3.0</td>\n",
              "      <td>0.0</td>\n",
              "      <td>0</td>\n",
              "      <td>590</td>\n",
              "      <td>3.0</td>\n",
              "      <td>39</td>\n",
              "      <td>2.0</td>\n",
              "      <td>0.0</td>\n",
              "      <td>0.0</td>\n",
              "      <td>1.0</td>\n",
              "      <td>3.0</td>\n",
              "      <td>1.0</td>\n",
              "      <td>0.0</td>\n",
              "      <td>1.0</td>\n",
              "      <td>0.0</td>\n",
              "      <td>0</td>\n",
              "      <td>0</td>\n",
              "      <td>0</td>\n",
              "      <td>2</td>\n",
              "      <td>1</td>\n",
              "    </tr>\n",
              "    <tr>\n",
              "      <th>1</th>\n",
              "      <td>201600000002</td>\n",
              "      <td>16</td>\n",
              "      <td>3</td>\n",
              "      <td>16</td>\n",
              "      <td>1800</td>\n",
              "      <td>1</td>\n",
              "      <td>2</td>\n",
              "      <td>6</td>\n",
              "      <td>1.0</td>\n",
              "      <td>6.0</td>\n",
              "      <td>0.0</td>\n",
              "      <td>0</td>\n",
              "      <td>590</td>\n",
              "      <td>3.0</td>\n",
              "      <td>39</td>\n",
              "      <td>1.0</td>\n",
              "      <td>0.0</td>\n",
              "      <td>0.0</td>\n",
              "      <td>1.0</td>\n",
              "      <td>2.0</td>\n",
              "      <td>1.0</td>\n",
              "      <td>0.0</td>\n",
              "      <td>1.0</td>\n",
              "      <td>0.0</td>\n",
              "      <td>0</td>\n",
              "      <td>0</td>\n",
              "      <td>0</td>\n",
              "      <td>3</td>\n",
              "      <td>1</td>\n",
              "    </tr>\n",
              "    <tr>\n",
              "      <th>2</th>\n",
              "      <td>201600000003</td>\n",
              "      <td>16</td>\n",
              "      <td>7</td>\n",
              "      <td>13</td>\n",
              "      <td>1900</td>\n",
              "      <td>1</td>\n",
              "      <td>1</td>\n",
              "      <td>1</td>\n",
              "      <td>1.0</td>\n",
              "      <td>6.0</td>\n",
              "      <td>0.0</td>\n",
              "      <td>0</td>\n",
              "      <td>590</td>\n",
              "      <td>3.0</td>\n",
              "      <td>1</td>\n",
              "      <td>2.0</td>\n",
              "      <td>2.0</td>\n",
              "      <td>0.0</td>\n",
              "      <td>1.0</td>\n",
              "      <td>3.0</td>\n",
              "      <td>2.0</td>\n",
              "      <td>0.0</td>\n",
              "      <td>3.0</td>\n",
              "      <td>99.0</td>\n",
              "      <td>1</td>\n",
              "      <td>1</td>\n",
              "      <td>0</td>\n",
              "      <td>2</td>\n",
              "      <td>1</td>\n",
              "    </tr>\n",
              "    <tr>\n",
              "      <th>3</th>\n",
              "      <td>201600000004</td>\n",
              "      <td>16</td>\n",
              "      <td>8</td>\n",
              "      <td>15</td>\n",
              "      <td>1930</td>\n",
              "      <td>2</td>\n",
              "      <td>2</td>\n",
              "      <td>1</td>\n",
              "      <td>7.0</td>\n",
              "      <td>3.0</td>\n",
              "      <td>0.0</td>\n",
              "      <td>0</td>\n",
              "      <td>590</td>\n",
              "      <td>4.0</td>\n",
              "      <td>0</td>\n",
              "      <td>2.0</td>\n",
              "      <td>0.0</td>\n",
              "      <td>0.0</td>\n",
              "      <td>1.0</td>\n",
              "      <td>1.0</td>\n",
              "      <td>1.0</td>\n",
              "      <td>0.0</td>\n",
              "      <td>1.0</td>\n",
              "      <td>99.0</td>\n",
              "      <td>1</td>\n",
              "      <td>0</td>\n",
              "      <td>0</td>\n",
              "      <td>3</td>\n",
              "      <td>1</td>\n",
              "    </tr>\n",
              "    <tr>\n",
              "      <th>4</th>\n",
              "      <td>201600000005</td>\n",
              "      <td>16</td>\n",
              "      <td>12</td>\n",
              "      <td>23</td>\n",
              "      <td>1100</td>\n",
              "      <td>1</td>\n",
              "      <td>2</td>\n",
              "      <td>3</td>\n",
              "      <td>1.0</td>\n",
              "      <td>3.0</td>\n",
              "      <td>0.0</td>\n",
              "      <td>0</td>\n",
              "      <td>590</td>\n",
              "      <td>4.0</td>\n",
              "      <td>0</td>\n",
              "      <td>0.0</td>\n",
              "      <td>0.0</td>\n",
              "      <td>0.0</td>\n",
              "      <td>0.0</td>\n",
              "      <td>1.0</td>\n",
              "      <td>1.0</td>\n",
              "      <td>0.0</td>\n",
              "      <td>1.0</td>\n",
              "      <td>3.0</td>\n",
              "      <td>0</td>\n",
              "      <td>0</td>\n",
              "      <td>0</td>\n",
              "      <td>3</td>\n",
              "      <td>1</td>\n",
              "    </tr>\n",
              "    <tr>\n",
              "      <th>...</th>\n",
              "      <td>...</td>\n",
              "      <td>...</td>\n",
              "      <td>...</td>\n",
              "      <td>...</td>\n",
              "      <td>...</td>\n",
              "      <td>...</td>\n",
              "      <td>...</td>\n",
              "      <td>...</td>\n",
              "      <td>...</td>\n",
              "      <td>...</td>\n",
              "      <td>...</td>\n",
              "      <td>...</td>\n",
              "      <td>...</td>\n",
              "      <td>...</td>\n",
              "      <td>...</td>\n",
              "      <td>...</td>\n",
              "      <td>...</td>\n",
              "      <td>...</td>\n",
              "      <td>...</td>\n",
              "      <td>...</td>\n",
              "      <td>...</td>\n",
              "      <td>...</td>\n",
              "      <td>...</td>\n",
              "      <td>...</td>\n",
              "      <td>...</td>\n",
              "      <td>...</td>\n",
              "      <td>...</td>\n",
              "      <td>...</td>\n",
              "      <td>...</td>\n",
              "    </tr>\n",
              "    <tr>\n",
              "      <th>839980</th>\n",
              "      <td>200500087950</td>\n",
              "      <td>5</td>\n",
              "      <td>12</td>\n",
              "      <td>21</td>\n",
              "      <td>2035</td>\n",
              "      <td>5</td>\n",
              "      <td>2</td>\n",
              "      <td>2</td>\n",
              "      <td>1.0</td>\n",
              "      <td>3.0</td>\n",
              "      <td>NaN</td>\n",
              "      <td>NaN</td>\n",
              "      <td>974</td>\n",
              "      <td>4.0</td>\n",
              "      <td>0</td>\n",
              "      <td>2.0</td>\n",
              "      <td>3.0</td>\n",
              "      <td>0.0</td>\n",
              "      <td>1.0</td>\n",
              "      <td>1.0</td>\n",
              "      <td>1.0</td>\n",
              "      <td>0.0</td>\n",
              "      <td>1.0</td>\n",
              "      <td>3.0</td>\n",
              "      <td>1</td>\n",
              "      <td>0</td>\n",
              "      <td>0</td>\n",
              "      <td>2</td>\n",
              "      <td>0</td>\n",
              "    </tr>\n",
              "    <tr>\n",
              "      <th>839981</th>\n",
              "      <td>200500087951</td>\n",
              "      <td>5</td>\n",
              "      <td>12</td>\n",
              "      <td>23</td>\n",
              "      <td>1010</td>\n",
              "      <td>1</td>\n",
              "      <td>2</td>\n",
              "      <td>1</td>\n",
              "      <td>1.0</td>\n",
              "      <td>3.0</td>\n",
              "      <td>NaN</td>\n",
              "      <td>NaN</td>\n",
              "      <td>974</td>\n",
              "      <td>4.0</td>\n",
              "      <td>0</td>\n",
              "      <td>2.0</td>\n",
              "      <td>2.0</td>\n",
              "      <td>0.0</td>\n",
              "      <td>1.0</td>\n",
              "      <td>2.0</td>\n",
              "      <td>1.0</td>\n",
              "      <td>0.0</td>\n",
              "      <td>1.0</td>\n",
              "      <td>0.0</td>\n",
              "      <td>0</td>\n",
              "      <td>0</td>\n",
              "      <td>0</td>\n",
              "      <td>3</td>\n",
              "      <td>0</td>\n",
              "    </tr>\n",
              "    <tr>\n",
              "      <th>839982</th>\n",
              "      <td>200500087952</td>\n",
              "      <td>5</td>\n",
              "      <td>12</td>\n",
              "      <td>26</td>\n",
              "      <td>1715</td>\n",
              "      <td>1</td>\n",
              "      <td>2</td>\n",
              "      <td>2</td>\n",
              "      <td>1.0</td>\n",
              "      <td>3.0</td>\n",
              "      <td>NaN</td>\n",
              "      <td>NaN</td>\n",
              "      <td>974</td>\n",
              "      <td>4.0</td>\n",
              "      <td>0</td>\n",
              "      <td>1.0</td>\n",
              "      <td>2.0</td>\n",
              "      <td>0.0</td>\n",
              "      <td>1.0</td>\n",
              "      <td>1.0</td>\n",
              "      <td>1.0</td>\n",
              "      <td>0.0</td>\n",
              "      <td>1.0</td>\n",
              "      <td>3.0</td>\n",
              "      <td>1</td>\n",
              "      <td>0</td>\n",
              "      <td>0</td>\n",
              "      <td>3</td>\n",
              "      <td>0</td>\n",
              "    </tr>\n",
              "    <tr>\n",
              "      <th>839983</th>\n",
              "      <td>200500087953</td>\n",
              "      <td>5</td>\n",
              "      <td>12</td>\n",
              "      <td>27</td>\n",
              "      <td>1500</td>\n",
              "      <td>1</td>\n",
              "      <td>2</td>\n",
              "      <td>3</td>\n",
              "      <td>2.0</td>\n",
              "      <td>5.0</td>\n",
              "      <td>NaN</td>\n",
              "      <td>NaN</td>\n",
              "      <td>974</td>\n",
              "      <td>4.0</td>\n",
              "      <td>0</td>\n",
              "      <td>2.0</td>\n",
              "      <td>0.0</td>\n",
              "      <td>0.0</td>\n",
              "      <td>1.0</td>\n",
              "      <td>1.0</td>\n",
              "      <td>1.0</td>\n",
              "      <td>0.0</td>\n",
              "      <td>1.0</td>\n",
              "      <td>0.0</td>\n",
              "      <td>0</td>\n",
              "      <td>0</td>\n",
              "      <td>0</td>\n",
              "      <td>3</td>\n",
              "      <td>0</td>\n",
              "    </tr>\n",
              "    <tr>\n",
              "      <th>839984</th>\n",
              "      <td>200500087954</td>\n",
              "      <td>5</td>\n",
              "      <td>12</td>\n",
              "      <td>31</td>\n",
              "      <td>2100</td>\n",
              "      <td>5</td>\n",
              "      <td>2</td>\n",
              "      <td>1</td>\n",
              "      <td>2.0</td>\n",
              "      <td>7.0</td>\n",
              "      <td>NaN</td>\n",
              "      <td>NaN</td>\n",
              "      <td>974</td>\n",
              "      <td>2.0</td>\n",
              "      <td>0</td>\n",
              "      <td>3.0</td>\n",
              "      <td>2.0</td>\n",
              "      <td>0.0</td>\n",
              "      <td>1.0</td>\n",
              "      <td>2.0</td>\n",
              "      <td>2.0</td>\n",
              "      <td>0.0</td>\n",
              "      <td>1.0</td>\n",
              "      <td>0.0</td>\n",
              "      <td>0</td>\n",
              "      <td>0</td>\n",
              "      <td>0</td>\n",
              "      <td>2</td>\n",
              "      <td>0</td>\n",
              "    </tr>\n",
              "  </tbody>\n",
              "</table>\n",
              "<p>839985 rows × 29 columns</p>\n",
              "</div>"
            ],
            "text/plain": [
              "                  ID  year  month  day  ...  ped1  dead_age1  num_us  sev\n",
              "0       201600000001    16      2    1  ...     0          0       2    1\n",
              "1       201600000002    16      3   16  ...     0          0       3    1\n",
              "2       201600000003    16      7   13  ...     1          0       2    1\n",
              "3       201600000004    16      8   15  ...     0          0       3    1\n",
              "4       201600000005    16     12   23  ...     0          0       3    1\n",
              "...              ...   ...    ...  ...  ...   ...        ...     ...  ...\n",
              "839980  200500087950     5     12   21  ...     0          0       2    0\n",
              "839981  200500087951     5     12   23  ...     0          0       3    0\n",
              "839982  200500087952     5     12   26  ...     0          0       3    0\n",
              "839983  200500087953     5     12   27  ...     0          0       3    0\n",
              "839984  200500087954     5     12   31  ...     0          0       2    0\n",
              "\n",
              "[839985 rows x 29 columns]"
            ]
          },
          "metadata": {
            "tags": []
          },
          "execution_count": 26
        }
      ]
    },
    {
      "cell_type": "markdown",
      "metadata": {
        "id": "MeQB5LPcP4cK"
      },
      "source": [
        "## Date and time"
      ]
    },
    {
      "cell_type": "code",
      "metadata": {
        "id": "nNz5d8FcPrZa",
        "outputId": "68d68432-b652-48cb-de58-87a711c5b1cd",
        "colab": {
          "base_uri": "https://localhost:8080/",
          "height": 799
        }
      },
      "source": [
        "from datetime import datetime \n",
        "\n",
        "dt = df[['ID','year', 'month', 'day', 'time' ]]\n",
        "#weekday\n",
        "date = (dt.year+2000)*10000+dt.month*100+dt.day\n",
        "dt['date'] = pd.to_datetime(date, format='%Y%m%d')\n",
        "dt['weekday'] = dt['date'].dt.weekday #weekday functin from datetime gives a number to each day of the week from 0 to 6.\n",
        "\n",
        "#weekend\n",
        "dt['weekend'] = dt['weekday'].apply(lambda x: 1 if x>4 else 0)\n",
        "\n",
        "#night\n",
        "# dt['night'] = dt['hhmm'].apply(lambda x: 1 if 700>x or x>2100 else 0) \n",
        "\n",
        "#holiday\n",
        "dt.loc[dt.date.isin(df_holi.ds) , 'holiday'] = 1\n",
        "dt.holiday.fillna(0, inplace=True)\n",
        "dt.head(5)"
      ],
      "execution_count": 27,
      "outputs": [
        {
          "output_type": "stream",
          "text": [
            "/usr/local/lib/python3.6/dist-packages/ipykernel_launcher.py:6: SettingWithCopyWarning: \n",
            "A value is trying to be set on a copy of a slice from a DataFrame.\n",
            "Try using .loc[row_indexer,col_indexer] = value instead\n",
            "\n",
            "See the caveats in the documentation: https://pandas.pydata.org/pandas-docs/stable/user_guide/indexing.html#returning-a-view-versus-a-copy\n",
            "  \n",
            "/usr/local/lib/python3.6/dist-packages/ipykernel_launcher.py:7: SettingWithCopyWarning: \n",
            "A value is trying to be set on a copy of a slice from a DataFrame.\n",
            "Try using .loc[row_indexer,col_indexer] = value instead\n",
            "\n",
            "See the caveats in the documentation: https://pandas.pydata.org/pandas-docs/stable/user_guide/indexing.html#returning-a-view-versus-a-copy\n",
            "  import sys\n",
            "/usr/local/lib/python3.6/dist-packages/ipykernel_launcher.py:10: SettingWithCopyWarning: \n",
            "A value is trying to be set on a copy of a slice from a DataFrame.\n",
            "Try using .loc[row_indexer,col_indexer] = value instead\n",
            "\n",
            "See the caveats in the documentation: https://pandas.pydata.org/pandas-docs/stable/user_guide/indexing.html#returning-a-view-versus-a-copy\n",
            "  # Remove the CWD from sys.path while we load stuff.\n",
            "/usr/local/lib/python3.6/dist-packages/pandas/core/indexing.py:1596: SettingWithCopyWarning: \n",
            "A value is trying to be set on a copy of a slice from a DataFrame.\n",
            "Try using .loc[row_indexer,col_indexer] = value instead\n",
            "\n",
            "See the caveats in the documentation: https://pandas.pydata.org/pandas-docs/stable/user_guide/indexing.html#returning-a-view-versus-a-copy\n",
            "  self.obj[key] = _infer_fill_value(value)\n",
            "/usr/local/lib/python3.6/dist-packages/pandas/core/indexing.py:1765: SettingWithCopyWarning: \n",
            "A value is trying to be set on a copy of a slice from a DataFrame.\n",
            "Try using .loc[row_indexer,col_indexer] = value instead\n",
            "\n",
            "See the caveats in the documentation: https://pandas.pydata.org/pandas-docs/stable/user_guide/indexing.html#returning-a-view-versus-a-copy\n",
            "  isetter(loc, value)\n",
            "/usr/local/lib/python3.6/dist-packages/pandas/core/series.py:4523: SettingWithCopyWarning: \n",
            "A value is trying to be set on a copy of a slice from a DataFrame\n",
            "\n",
            "See the caveats in the documentation: https://pandas.pydata.org/pandas-docs/stable/user_guide/indexing.html#returning-a-view-versus-a-copy\n",
            "  downcast=downcast,\n"
          ],
          "name": "stderr"
        },
        {
          "output_type": "execute_result",
          "data": {
            "text/html": [
              "<div>\n",
              "<style scoped>\n",
              "    .dataframe tbody tr th:only-of-type {\n",
              "        vertical-align: middle;\n",
              "    }\n",
              "\n",
              "    .dataframe tbody tr th {\n",
              "        vertical-align: top;\n",
              "    }\n",
              "\n",
              "    .dataframe thead th {\n",
              "        text-align: right;\n",
              "    }\n",
              "</style>\n",
              "<table border=\"1\" class=\"dataframe\">\n",
              "  <thead>\n",
              "    <tr style=\"text-align: right;\">\n",
              "      <th></th>\n",
              "      <th>ID</th>\n",
              "      <th>year</th>\n",
              "      <th>month</th>\n",
              "      <th>day</th>\n",
              "      <th>time</th>\n",
              "      <th>date</th>\n",
              "      <th>weekday</th>\n",
              "      <th>weekend</th>\n",
              "      <th>holiday</th>\n",
              "    </tr>\n",
              "  </thead>\n",
              "  <tbody>\n",
              "    <tr>\n",
              "      <th>0</th>\n",
              "      <td>201600000001</td>\n",
              "      <td>16</td>\n",
              "      <td>2</td>\n",
              "      <td>1</td>\n",
              "      <td>1445</td>\n",
              "      <td>2016-02-01</td>\n",
              "      <td>0</td>\n",
              "      <td>0</td>\n",
              "      <td>0.0</td>\n",
              "    </tr>\n",
              "    <tr>\n",
              "      <th>1</th>\n",
              "      <td>201600000002</td>\n",
              "      <td>16</td>\n",
              "      <td>3</td>\n",
              "      <td>16</td>\n",
              "      <td>1800</td>\n",
              "      <td>2016-03-16</td>\n",
              "      <td>2</td>\n",
              "      <td>0</td>\n",
              "      <td>0.0</td>\n",
              "    </tr>\n",
              "    <tr>\n",
              "      <th>2</th>\n",
              "      <td>201600000003</td>\n",
              "      <td>16</td>\n",
              "      <td>7</td>\n",
              "      <td>13</td>\n",
              "      <td>1900</td>\n",
              "      <td>2016-07-13</td>\n",
              "      <td>2</td>\n",
              "      <td>0</td>\n",
              "      <td>0.0</td>\n",
              "    </tr>\n",
              "    <tr>\n",
              "      <th>3</th>\n",
              "      <td>201600000004</td>\n",
              "      <td>16</td>\n",
              "      <td>8</td>\n",
              "      <td>15</td>\n",
              "      <td>1930</td>\n",
              "      <td>2016-08-15</td>\n",
              "      <td>0</td>\n",
              "      <td>0</td>\n",
              "      <td>1.0</td>\n",
              "    </tr>\n",
              "    <tr>\n",
              "      <th>4</th>\n",
              "      <td>201600000005</td>\n",
              "      <td>16</td>\n",
              "      <td>12</td>\n",
              "      <td>23</td>\n",
              "      <td>1100</td>\n",
              "      <td>2016-12-23</td>\n",
              "      <td>4</td>\n",
              "      <td>0</td>\n",
              "      <td>0.0</td>\n",
              "    </tr>\n",
              "  </tbody>\n",
              "</table>\n",
              "</div>"
            ],
            "text/plain": [
              "             ID  year  month  day  time       date  weekday  weekend  holiday\n",
              "0  201600000001    16      2    1  1445 2016-02-01        0        0      0.0\n",
              "1  201600000002    16      3   16  1800 2016-03-16        2        0      0.0\n",
              "2  201600000003    16      7   13  1900 2016-07-13        2        0      0.0\n",
              "3  201600000004    16      8   15  1930 2016-08-15        0        0      1.0\n",
              "4  201600000005    16     12   23  1100 2016-12-23        4        0      0.0"
            ]
          },
          "metadata": {
            "tags": []
          },
          "execution_count": 27
        }
      ]
    },
    {
      "cell_type": "code",
      "metadata": {
        "id": "62UqwANwfqHs",
        "outputId": "4964ecb7-c18f-485b-9dcf-7fc7db75db51",
        "colab": {
          "base_uri": "https://localhost:8080/",
          "height": 309
        }
      },
      "source": [
        "df = df.merge(dt[['ID', 'date', 'weekend', 'holiday']],on='ID', how='left')\n",
        "df.drop(['year', 'month', 'day'], axis=1, inplace=True)\n",
        "df.head()"
      ],
      "execution_count": 28,
      "outputs": [
        {
          "output_type": "execute_result",
          "data": {
            "text/html": [
              "<div>\n",
              "<style scoped>\n",
              "    .dataframe tbody tr th:only-of-type {\n",
              "        vertical-align: middle;\n",
              "    }\n",
              "\n",
              "    .dataframe tbody tr th {\n",
              "        vertical-align: top;\n",
              "    }\n",
              "\n",
              "    .dataframe thead th {\n",
              "        text-align: right;\n",
              "    }\n",
              "</style>\n",
              "<table border=\"1\" class=\"dataframe\">\n",
              "  <thead>\n",
              "    <tr style=\"text-align: right;\">\n",
              "      <th></th>\n",
              "      <th>ID</th>\n",
              "      <th>time</th>\n",
              "      <th>lum</th>\n",
              "      <th>agg</th>\n",
              "      <th>int</th>\n",
              "      <th>atm</th>\n",
              "      <th>col</th>\n",
              "      <th>lat</th>\n",
              "      <th>long</th>\n",
              "      <th>dep</th>\n",
              "      <th>road_cat</th>\n",
              "      <th>road_num</th>\n",
              "      <th>traf_reg</th>\n",
              "      <th>num_lanes</th>\n",
              "      <th>res_lane</th>\n",
              "      <th>long_prof</th>\n",
              "      <th>shape</th>\n",
              "      <th>surf</th>\n",
              "      <th>infra</th>\n",
              "      <th>situation</th>\n",
              "      <th>school</th>\n",
              "      <th>crit_age1</th>\n",
              "      <th>ped1</th>\n",
              "      <th>dead_age1</th>\n",
              "      <th>num_us</th>\n",
              "      <th>sev</th>\n",
              "      <th>date</th>\n",
              "      <th>weekend</th>\n",
              "      <th>holiday</th>\n",
              "    </tr>\n",
              "  </thead>\n",
              "  <tbody>\n",
              "    <tr>\n",
              "      <th>0</th>\n",
              "      <td>201600000001</td>\n",
              "      <td>1445</td>\n",
              "      <td>1</td>\n",
              "      <td>2</td>\n",
              "      <td>1</td>\n",
              "      <td>8.0</td>\n",
              "      <td>3.0</td>\n",
              "      <td>0.0</td>\n",
              "      <td>0</td>\n",
              "      <td>590</td>\n",
              "      <td>3.0</td>\n",
              "      <td>39</td>\n",
              "      <td>2.0</td>\n",
              "      <td>0.0</td>\n",
              "      <td>0.0</td>\n",
              "      <td>1.0</td>\n",
              "      <td>3.0</td>\n",
              "      <td>1.0</td>\n",
              "      <td>0.0</td>\n",
              "      <td>1.0</td>\n",
              "      <td>0.0</td>\n",
              "      <td>0</td>\n",
              "      <td>0</td>\n",
              "      <td>0</td>\n",
              "      <td>2</td>\n",
              "      <td>1</td>\n",
              "      <td>2016-02-01</td>\n",
              "      <td>0</td>\n",
              "      <td>0.0</td>\n",
              "    </tr>\n",
              "    <tr>\n",
              "      <th>1</th>\n",
              "      <td>201600000002</td>\n",
              "      <td>1800</td>\n",
              "      <td>1</td>\n",
              "      <td>2</td>\n",
              "      <td>6</td>\n",
              "      <td>1.0</td>\n",
              "      <td>6.0</td>\n",
              "      <td>0.0</td>\n",
              "      <td>0</td>\n",
              "      <td>590</td>\n",
              "      <td>3.0</td>\n",
              "      <td>39</td>\n",
              "      <td>1.0</td>\n",
              "      <td>0.0</td>\n",
              "      <td>0.0</td>\n",
              "      <td>1.0</td>\n",
              "      <td>2.0</td>\n",
              "      <td>1.0</td>\n",
              "      <td>0.0</td>\n",
              "      <td>1.0</td>\n",
              "      <td>0.0</td>\n",
              "      <td>0</td>\n",
              "      <td>0</td>\n",
              "      <td>0</td>\n",
              "      <td>3</td>\n",
              "      <td>1</td>\n",
              "      <td>2016-03-16</td>\n",
              "      <td>0</td>\n",
              "      <td>0.0</td>\n",
              "    </tr>\n",
              "    <tr>\n",
              "      <th>2</th>\n",
              "      <td>201600000003</td>\n",
              "      <td>1900</td>\n",
              "      <td>1</td>\n",
              "      <td>1</td>\n",
              "      <td>1</td>\n",
              "      <td>1.0</td>\n",
              "      <td>6.0</td>\n",
              "      <td>0.0</td>\n",
              "      <td>0</td>\n",
              "      <td>590</td>\n",
              "      <td>3.0</td>\n",
              "      <td>1</td>\n",
              "      <td>2.0</td>\n",
              "      <td>2.0</td>\n",
              "      <td>0.0</td>\n",
              "      <td>1.0</td>\n",
              "      <td>3.0</td>\n",
              "      <td>2.0</td>\n",
              "      <td>0.0</td>\n",
              "      <td>3.0</td>\n",
              "      <td>99.0</td>\n",
              "      <td>1</td>\n",
              "      <td>1</td>\n",
              "      <td>0</td>\n",
              "      <td>2</td>\n",
              "      <td>1</td>\n",
              "      <td>2016-07-13</td>\n",
              "      <td>0</td>\n",
              "      <td>0.0</td>\n",
              "    </tr>\n",
              "    <tr>\n",
              "      <th>3</th>\n",
              "      <td>201600000004</td>\n",
              "      <td>1930</td>\n",
              "      <td>2</td>\n",
              "      <td>2</td>\n",
              "      <td>1</td>\n",
              "      <td>7.0</td>\n",
              "      <td>3.0</td>\n",
              "      <td>0.0</td>\n",
              "      <td>0</td>\n",
              "      <td>590</td>\n",
              "      <td>4.0</td>\n",
              "      <td>0</td>\n",
              "      <td>2.0</td>\n",
              "      <td>0.0</td>\n",
              "      <td>0.0</td>\n",
              "      <td>1.0</td>\n",
              "      <td>1.0</td>\n",
              "      <td>1.0</td>\n",
              "      <td>0.0</td>\n",
              "      <td>1.0</td>\n",
              "      <td>99.0</td>\n",
              "      <td>1</td>\n",
              "      <td>0</td>\n",
              "      <td>0</td>\n",
              "      <td>3</td>\n",
              "      <td>1</td>\n",
              "      <td>2016-08-15</td>\n",
              "      <td>0</td>\n",
              "      <td>1.0</td>\n",
              "    </tr>\n",
              "    <tr>\n",
              "      <th>4</th>\n",
              "      <td>201600000005</td>\n",
              "      <td>1100</td>\n",
              "      <td>1</td>\n",
              "      <td>2</td>\n",
              "      <td>3</td>\n",
              "      <td>1.0</td>\n",
              "      <td>3.0</td>\n",
              "      <td>0.0</td>\n",
              "      <td>0</td>\n",
              "      <td>590</td>\n",
              "      <td>4.0</td>\n",
              "      <td>0</td>\n",
              "      <td>0.0</td>\n",
              "      <td>0.0</td>\n",
              "      <td>0.0</td>\n",
              "      <td>0.0</td>\n",
              "      <td>1.0</td>\n",
              "      <td>1.0</td>\n",
              "      <td>0.0</td>\n",
              "      <td>1.0</td>\n",
              "      <td>3.0</td>\n",
              "      <td>0</td>\n",
              "      <td>0</td>\n",
              "      <td>0</td>\n",
              "      <td>3</td>\n",
              "      <td>1</td>\n",
              "      <td>2016-12-23</td>\n",
              "      <td>0</td>\n",
              "      <td>0.0</td>\n",
              "    </tr>\n",
              "  </tbody>\n",
              "</table>\n",
              "</div>"
            ],
            "text/plain": [
              "             ID  time  lum  agg  int  ...  num_us  sev       date weekend  holiday\n",
              "0  201600000001  1445    1    2    1  ...       2    1 2016-02-01       0      0.0\n",
              "1  201600000002  1800    1    2    6  ...       3    1 2016-03-16       0      0.0\n",
              "2  201600000003  1900    1    1    1  ...       2    1 2016-07-13       0      0.0\n",
              "3  201600000004  1930    2    2    1  ...       3    1 2016-08-15       0      1.0\n",
              "4  201600000005  1100    1    2    3  ...       3    1 2016-12-23       0      0.0\n",
              "\n",
              "[5 rows x 29 columns]"
            ]
          },
          "metadata": {
            "tags": []
          },
          "execution_count": 28
        }
      ]
    },
    {
      "cell_type": "code",
      "metadata": {
        "id": "x4bNJ4FYre_x"
      },
      "source": [
        "df.rename(columns={'crit_age1':'crit_age','dead_age1':'dead_age', 'ped1':'ped'},inplace=True)\n",
        "df.to_csv('Data.csv')"
      ],
      "execution_count": 29,
      "outputs": []
    },
    {
      "cell_type": "markdown",
      "metadata": {
        "id": "my-nKujNt2aG"
      },
      "source": [
        "# 3. Data Cleaning\n",
        "\n",
        " Importing Data"
      ]
    },
    {
      "cell_type": "code",
      "metadata": {
        "id": "fqjr50RktJe0",
        "outputId": "1e33ea93-c7ac-4528-e287-bf2d8f6f3c22",
        "colab": {
          "base_uri": "https://localhost:8080/",
          "height": 583
        }
      },
      "source": [
        "df = pd.read_csv('Data.csv', index_col=0)\n",
        "df.head(10)"
      ],
      "execution_count": 30,
      "outputs": [
        {
          "output_type": "stream",
          "text": [
            "/usr/local/lib/python3.6/dist-packages/IPython/core/interactiveshell.py:2718: DtypeWarning: Columns (9,12) have mixed types.Specify dtype option on import or set low_memory=False.\n",
            "  interactivity=interactivity, compiler=compiler, result=result)\n"
          ],
          "name": "stderr"
        },
        {
          "output_type": "execute_result",
          "data": {
            "text/html": [
              "<div>\n",
              "<style scoped>\n",
              "    .dataframe tbody tr th:only-of-type {\n",
              "        vertical-align: middle;\n",
              "    }\n",
              "\n",
              "    .dataframe tbody tr th {\n",
              "        vertical-align: top;\n",
              "    }\n",
              "\n",
              "    .dataframe thead th {\n",
              "        text-align: right;\n",
              "    }\n",
              "</style>\n",
              "<table border=\"1\" class=\"dataframe\">\n",
              "  <thead>\n",
              "    <tr style=\"text-align: right;\">\n",
              "      <th></th>\n",
              "      <th>ID</th>\n",
              "      <th>time</th>\n",
              "      <th>lum</th>\n",
              "      <th>agg</th>\n",
              "      <th>int</th>\n",
              "      <th>atm</th>\n",
              "      <th>col</th>\n",
              "      <th>lat</th>\n",
              "      <th>long</th>\n",
              "      <th>dep</th>\n",
              "      <th>road_cat</th>\n",
              "      <th>road_num</th>\n",
              "      <th>traf_reg</th>\n",
              "      <th>num_lanes</th>\n",
              "      <th>res_lane</th>\n",
              "      <th>long_prof</th>\n",
              "      <th>shape</th>\n",
              "      <th>surf</th>\n",
              "      <th>infra</th>\n",
              "      <th>situation</th>\n",
              "      <th>school</th>\n",
              "      <th>crit_age</th>\n",
              "      <th>ped</th>\n",
              "      <th>dead_age</th>\n",
              "      <th>num_us</th>\n",
              "      <th>sev</th>\n",
              "      <th>date</th>\n",
              "      <th>weekend</th>\n",
              "      <th>holiday</th>\n",
              "    </tr>\n",
              "  </thead>\n",
              "  <tbody>\n",
              "    <tr>\n",
              "      <th>0</th>\n",
              "      <td>201600000001</td>\n",
              "      <td>1445</td>\n",
              "      <td>1</td>\n",
              "      <td>2</td>\n",
              "      <td>1</td>\n",
              "      <td>8.0</td>\n",
              "      <td>3.0</td>\n",
              "      <td>0.0</td>\n",
              "      <td>0</td>\n",
              "      <td>590</td>\n",
              "      <td>3.0</td>\n",
              "      <td>39</td>\n",
              "      <td>2.0</td>\n",
              "      <td>0.0</td>\n",
              "      <td>0.0</td>\n",
              "      <td>1.0</td>\n",
              "      <td>3.0</td>\n",
              "      <td>1.0</td>\n",
              "      <td>0.0</td>\n",
              "      <td>1.0</td>\n",
              "      <td>0.0</td>\n",
              "      <td>0</td>\n",
              "      <td>0</td>\n",
              "      <td>0</td>\n",
              "      <td>2</td>\n",
              "      <td>1</td>\n",
              "      <td>2016-02-01</td>\n",
              "      <td>0</td>\n",
              "      <td>0.0</td>\n",
              "    </tr>\n",
              "    <tr>\n",
              "      <th>1</th>\n",
              "      <td>201600000002</td>\n",
              "      <td>1800</td>\n",
              "      <td>1</td>\n",
              "      <td>2</td>\n",
              "      <td>6</td>\n",
              "      <td>1.0</td>\n",
              "      <td>6.0</td>\n",
              "      <td>0.0</td>\n",
              "      <td>0</td>\n",
              "      <td>590</td>\n",
              "      <td>3.0</td>\n",
              "      <td>39</td>\n",
              "      <td>1.0</td>\n",
              "      <td>0.0</td>\n",
              "      <td>0.0</td>\n",
              "      <td>1.0</td>\n",
              "      <td>2.0</td>\n",
              "      <td>1.0</td>\n",
              "      <td>0.0</td>\n",
              "      <td>1.0</td>\n",
              "      <td>0.0</td>\n",
              "      <td>0</td>\n",
              "      <td>0</td>\n",
              "      <td>0</td>\n",
              "      <td>3</td>\n",
              "      <td>1</td>\n",
              "      <td>2016-03-16</td>\n",
              "      <td>0</td>\n",
              "      <td>0.0</td>\n",
              "    </tr>\n",
              "    <tr>\n",
              "      <th>2</th>\n",
              "      <td>201600000003</td>\n",
              "      <td>1900</td>\n",
              "      <td>1</td>\n",
              "      <td>1</td>\n",
              "      <td>1</td>\n",
              "      <td>1.0</td>\n",
              "      <td>6.0</td>\n",
              "      <td>0.0</td>\n",
              "      <td>0</td>\n",
              "      <td>590</td>\n",
              "      <td>3.0</td>\n",
              "      <td>1</td>\n",
              "      <td>2.0</td>\n",
              "      <td>2.0</td>\n",
              "      <td>0.0</td>\n",
              "      <td>1.0</td>\n",
              "      <td>3.0</td>\n",
              "      <td>2.0</td>\n",
              "      <td>0.0</td>\n",
              "      <td>3.0</td>\n",
              "      <td>99.0</td>\n",
              "      <td>1</td>\n",
              "      <td>1</td>\n",
              "      <td>0</td>\n",
              "      <td>2</td>\n",
              "      <td>1</td>\n",
              "      <td>2016-07-13</td>\n",
              "      <td>0</td>\n",
              "      <td>0.0</td>\n",
              "    </tr>\n",
              "    <tr>\n",
              "      <th>3</th>\n",
              "      <td>201600000004</td>\n",
              "      <td>1930</td>\n",
              "      <td>2</td>\n",
              "      <td>2</td>\n",
              "      <td>1</td>\n",
              "      <td>7.0</td>\n",
              "      <td>3.0</td>\n",
              "      <td>0.0</td>\n",
              "      <td>0</td>\n",
              "      <td>590</td>\n",
              "      <td>4.0</td>\n",
              "      <td>0</td>\n",
              "      <td>2.0</td>\n",
              "      <td>0.0</td>\n",
              "      <td>0.0</td>\n",
              "      <td>1.0</td>\n",
              "      <td>1.0</td>\n",
              "      <td>1.0</td>\n",
              "      <td>0.0</td>\n",
              "      <td>1.0</td>\n",
              "      <td>99.0</td>\n",
              "      <td>1</td>\n",
              "      <td>0</td>\n",
              "      <td>0</td>\n",
              "      <td>3</td>\n",
              "      <td>1</td>\n",
              "      <td>2016-08-15</td>\n",
              "      <td>0</td>\n",
              "      <td>1.0</td>\n",
              "    </tr>\n",
              "    <tr>\n",
              "      <th>4</th>\n",
              "      <td>201600000005</td>\n",
              "      <td>1100</td>\n",
              "      <td>1</td>\n",
              "      <td>2</td>\n",
              "      <td>3</td>\n",
              "      <td>1.0</td>\n",
              "      <td>3.0</td>\n",
              "      <td>0.0</td>\n",
              "      <td>0</td>\n",
              "      <td>590</td>\n",
              "      <td>4.0</td>\n",
              "      <td>0</td>\n",
              "      <td>0.0</td>\n",
              "      <td>0.0</td>\n",
              "      <td>0.0</td>\n",
              "      <td>0.0</td>\n",
              "      <td>1.0</td>\n",
              "      <td>1.0</td>\n",
              "      <td>0.0</td>\n",
              "      <td>1.0</td>\n",
              "      <td>3.0</td>\n",
              "      <td>0</td>\n",
              "      <td>0</td>\n",
              "      <td>0</td>\n",
              "      <td>3</td>\n",
              "      <td>1</td>\n",
              "      <td>2016-12-23</td>\n",
              "      <td>0</td>\n",
              "      <td>0.0</td>\n",
              "    </tr>\n",
              "    <tr>\n",
              "      <th>5</th>\n",
              "      <td>201600000006</td>\n",
              "      <td>1115</td>\n",
              "      <td>1</td>\n",
              "      <td>2</td>\n",
              "      <td>1</td>\n",
              "      <td>7.0</td>\n",
              "      <td>6.0</td>\n",
              "      <td>0.0</td>\n",
              "      <td>0</td>\n",
              "      <td>590</td>\n",
              "      <td>3.0</td>\n",
              "      <td>41</td>\n",
              "      <td>2.0</td>\n",
              "      <td>0.0</td>\n",
              "      <td>0.0</td>\n",
              "      <td>1.0</td>\n",
              "      <td>1.0</td>\n",
              "      <td>1.0</td>\n",
              "      <td>0.0</td>\n",
              "      <td>1.0</td>\n",
              "      <td>99.0</td>\n",
              "      <td>0</td>\n",
              "      <td>1</td>\n",
              "      <td>0</td>\n",
              "      <td>2</td>\n",
              "      <td>1</td>\n",
              "      <td>2016-12-23</td>\n",
              "      <td>0</td>\n",
              "      <td>0.0</td>\n",
              "    </tr>\n",
              "    <tr>\n",
              "      <th>6</th>\n",
              "      <td>201600000007</td>\n",
              "      <td>1145</td>\n",
              "      <td>1</td>\n",
              "      <td>2</td>\n",
              "      <td>1</td>\n",
              "      <td>7.0</td>\n",
              "      <td>2.0</td>\n",
              "      <td>0.0</td>\n",
              "      <td>0</td>\n",
              "      <td>590</td>\n",
              "      <td>3.0</td>\n",
              "      <td>1</td>\n",
              "      <td>2.0</td>\n",
              "      <td>0.0</td>\n",
              "      <td>0.0</td>\n",
              "      <td>1.0</td>\n",
              "      <td>1.0</td>\n",
              "      <td>1.0</td>\n",
              "      <td>0.0</td>\n",
              "      <td>1.0</td>\n",
              "      <td>99.0</td>\n",
              "      <td>0</td>\n",
              "      <td>0</td>\n",
              "      <td>0</td>\n",
              "      <td>3</td>\n",
              "      <td>0</td>\n",
              "      <td>2016-05-01</td>\n",
              "      <td>1</td>\n",
              "      <td>1.0</td>\n",
              "    </tr>\n",
              "    <tr>\n",
              "      <th>7</th>\n",
              "      <td>201600000008</td>\n",
              "      <td>1915</td>\n",
              "      <td>2</td>\n",
              "      <td>1</td>\n",
              "      <td>1</td>\n",
              "      <td>1.0</td>\n",
              "      <td>1.0</td>\n",
              "      <td>0.0</td>\n",
              "      <td>0</td>\n",
              "      <td>590</td>\n",
              "      <td>3.0</td>\n",
              "      <td>2</td>\n",
              "      <td>2.0</td>\n",
              "      <td>2.0</td>\n",
              "      <td>0.0</td>\n",
              "      <td>1.0</td>\n",
              "      <td>1.0</td>\n",
              "      <td>1.0</td>\n",
              "      <td>0.0</td>\n",
              "      <td>1.0</td>\n",
              "      <td>0.0</td>\n",
              "      <td>0</td>\n",
              "      <td>0</td>\n",
              "      <td>0</td>\n",
              "      <td>3</td>\n",
              "      <td>1</td>\n",
              "      <td>2016-05-14</td>\n",
              "      <td>1</td>\n",
              "      <td>0.0</td>\n",
              "    </tr>\n",
              "    <tr>\n",
              "      <th>8</th>\n",
              "      <td>201600000009</td>\n",
              "      <td>1900</td>\n",
              "      <td>1</td>\n",
              "      <td>2</td>\n",
              "      <td>1</td>\n",
              "      <td>1.0</td>\n",
              "      <td>3.0</td>\n",
              "      <td>0.0</td>\n",
              "      <td>0</td>\n",
              "      <td>590</td>\n",
              "      <td>4.0</td>\n",
              "      <td>0</td>\n",
              "      <td>2.0</td>\n",
              "      <td>2.0</td>\n",
              "      <td>0.0</td>\n",
              "      <td>1.0</td>\n",
              "      <td>0.0</td>\n",
              "      <td>1.0</td>\n",
              "      <td>0.0</td>\n",
              "      <td>1.0</td>\n",
              "      <td>99.0</td>\n",
              "      <td>0</td>\n",
              "      <td>0</td>\n",
              "      <td>0</td>\n",
              "      <td>2</td>\n",
              "      <td>1</td>\n",
              "      <td>2016-09-23</td>\n",
              "      <td>0</td>\n",
              "      <td>0.0</td>\n",
              "    </tr>\n",
              "    <tr>\n",
              "      <th>9</th>\n",
              "      <td>201600000010</td>\n",
              "      <td>1030</td>\n",
              "      <td>1</td>\n",
              "      <td>1</td>\n",
              "      <td>1</td>\n",
              "      <td>9.0</td>\n",
              "      <td>6.0</td>\n",
              "      <td>0.0</td>\n",
              "      <td>0</td>\n",
              "      <td>590</td>\n",
              "      <td>4.0</td>\n",
              "      <td>0</td>\n",
              "      <td>2.0</td>\n",
              "      <td>0.0</td>\n",
              "      <td>0.0</td>\n",
              "      <td>0.0</td>\n",
              "      <td>1.0</td>\n",
              "      <td>7.0</td>\n",
              "      <td>0.0</td>\n",
              "      <td>1.0</td>\n",
              "      <td>0.0</td>\n",
              "      <td>0</td>\n",
              "      <td>1</td>\n",
              "      <td>0</td>\n",
              "      <td>2</td>\n",
              "      <td>1</td>\n",
              "      <td>2016-12-30</td>\n",
              "      <td>0</td>\n",
              "      <td>0.0</td>\n",
              "    </tr>\n",
              "  </tbody>\n",
              "</table>\n",
              "</div>"
            ],
            "text/plain": [
              "             ID  time  lum  agg  int  ...  num_us  sev        date weekend  holiday\n",
              "0  201600000001  1445    1    2    1  ...       2    1  2016-02-01       0      0.0\n",
              "1  201600000002  1800    1    2    6  ...       3    1  2016-03-16       0      0.0\n",
              "2  201600000003  1900    1    1    1  ...       2    1  2016-07-13       0      0.0\n",
              "3  201600000004  1930    2    2    1  ...       3    1  2016-08-15       0      1.0\n",
              "4  201600000005  1100    1    2    3  ...       3    1  2016-12-23       0      0.0\n",
              "5  201600000006  1115    1    2    1  ...       2    1  2016-12-23       0      0.0\n",
              "6  201600000007  1145    1    2    1  ...       3    0  2016-05-01       1      1.0\n",
              "7  201600000008  1915    2    1    1  ...       3    1  2016-05-14       1      0.0\n",
              "8  201600000009  1900    1    2    1  ...       2    1  2016-09-23       0      0.0\n",
              "9  201600000010  1030    1    1    1  ...       2    1  2016-12-30       0      0.0\n",
              "\n",
              "[10 rows x 29 columns]"
            ]
          },
          "metadata": {
            "tags": []
          },
          "execution_count": 30
        }
      ]
    },
    {
      "cell_type": "markdown",
      "metadata": {
        "id": "FLog0ucMuJOL"
      },
      "source": [
        "Missing values"
      ]
    },
    {
      "cell_type": "code",
      "metadata": {
        "id": "3m9-ynZUr_zC",
        "outputId": "f2a8eaa1-b41f-4b04-cfa2-7ce37d8191bd",
        "colab": {
          "base_uri": "https://localhost:8080/",
          "height": 629
        }
      },
      "source": [
        "df.info()"
      ],
      "execution_count": 31,
      "outputs": [
        {
          "output_type": "stream",
          "text": [
            "<class 'pandas.core.frame.DataFrame'>\n",
            "Int64Index: 839985 entries, 0 to 839984\n",
            "Data columns (total 29 columns):\n",
            " #   Column     Non-Null Count   Dtype  \n",
            "---  ------     --------------   -----  \n",
            " 0   ID         839985 non-null  int64  \n",
            " 1   time       839985 non-null  int64  \n",
            " 2   lum        839985 non-null  int64  \n",
            " 3   agg        839985 non-null  int64  \n",
            " 4   int        839985 non-null  int64  \n",
            " 5   atm        839930 non-null  float64\n",
            " 6   col        839974 non-null  float64\n",
            " 7   lat        362471 non-null  float64\n",
            " 8   long       362467 non-null  object \n",
            " 9   dep        839985 non-null  int64  \n",
            " 10  road_cat   839984 non-null  float64\n",
            " 11  road_num   780914 non-null  object \n",
            " 12  traf_reg   839187 non-null  float64\n",
            " 13  num_lanes  838195 non-null  float64\n",
            " 14  res_lane   838345 non-null  float64\n",
            " 15  long_prof  838924 non-null  float64\n",
            " 16  shape      838909 non-null  float64\n",
            " 17  surf       838968 non-null  float64\n",
            " 18  infra      838707 non-null  float64\n",
            " 19  situation  838983 non-null  float64\n",
            " 20  school     838709 non-null  float64\n",
            " 21  crit_age   839985 non-null  int64  \n",
            " 22  ped        839985 non-null  int64  \n",
            " 23  dead_age   839985 non-null  int64  \n",
            " 24  num_us     839985 non-null  int64  \n",
            " 25  sev        839985 non-null  int64  \n",
            " 26  date       839985 non-null  object \n",
            " 27  weekend    839985 non-null  int64  \n",
            " 28  holiday    839985 non-null  float64\n",
            "dtypes: float64(14), int64(12), object(3)\n",
            "memory usage: 192.3+ MB\n"
          ],
          "name": "stdout"
        }
      ]
    },
    {
      "cell_type": "code",
      "metadata": {
        "id": "d74Td-J7uMqZ",
        "outputId": "6650c1eb-a96d-4f96-f995-60fe8deb9f0f",
        "colab": {
          "base_uri": "https://localhost:8080/",
          "height": 102
        }
      },
      "source": [
        "df['road_num'].describe()"
      ],
      "execution_count": 32,
      "outputs": [
        {
          "output_type": "execute_result",
          "data": {
            "text/plain": [
              "count     780914.0\n",
              "unique      2088.0\n",
              "top            0.0\n",
              "freq      439016.0\n",
              "Name: road_num, dtype: float64"
            ]
          },
          "metadata": {
            "tags": []
          },
          "execution_count": 32
        }
      ]
    },
    {
      "cell_type": "markdown",
      "metadata": {
        "id": "eXc5S9OSuq0D"
      },
      "source": [
        "* More than half of the values for the coordenates are missig, as well as roughly a 10% of the data regarding the road_num and more than a 50% of the remaining samples are a 0. Thus, to keep the amount of samples the mentioned features will be dropped.\n",
        "* Few values are missing in some features such as the atmospheric conditions or road category."
      ]
    },
    {
      "cell_type": "code",
      "metadata": {
        "id": "93N5rcESuYq6"
      },
      "source": [
        "df.drop(['lat', 'long', 'road_num'], axis=1, inplace=True)"
      ],
      "execution_count": 33,
      "outputs": []
    },
    {
      "cell_type": "code",
      "metadata": {
        "id": "UL-WnDCjuo6V",
        "outputId": "32e7e4db-13f0-409e-d2d7-c9a349a89675",
        "colab": {
          "base_uri": "https://localhost:8080/",
          "height": 85
        }
      },
      "source": [
        "\n",
        "print('Missing values in atm:', df[\"atm\"].isna().sum(),'\\n'\n",
        "    'Missing values in collision:', df[\"col\"].isna().sum(), '\\n'\n",
        "    'Missing values in road_cat:', df[\"road_cat\"].isna().sum(),'\\n'\n",
        "    'Missing values in surf:', df[\"surf\"].isna().sum())"
      ],
      "execution_count": 34,
      "outputs": [
        {
          "output_type": "stream",
          "text": [
            "Missing values in atm: 55 \n",
            "Missing values in collision: 11 \n",
            "Missing values in road_cat: 1 \n",
            "Missing values in surf: 1017\n"
          ],
          "name": "stdout"
        }
      ]
    },
    {
      "cell_type": "code",
      "metadata": {
        "id": "WJDLQqJiu6-e",
        "outputId": "ef276a7f-525c-4b95-91bb-02adcbfebfe3",
        "colab": {
          "base_uri": "https://localhost:8080/",
          "height": 421
        }
      },
      "source": [
        "df['atm'].hist(alpha=0.5, rwidth=0.35, align='mid', figsize=(12,6), label='atm')\n",
        "df['col'].hist(alpha=0.5, rwidth=0.35, align='mid', label='collision')\n",
        "df['road_cat'].hist(alpha=0.6, rwidth=0.35, align='left', label='road_cat')\n",
        "df['surf'].hist(alpha=0.3,rwidth=0.35, align='left', label='surf')\n",
        "plt.title('Frequency of the values in 4 different features', size=12)\n",
        "plt.xticks(range(10))\n",
        "plt.xlabel('Value')\n",
        "plt.ylabel('Frequency')\n",
        "plt.legend()"
      ],
      "execution_count": 35,
      "outputs": [
        {
          "output_type": "execute_result",
          "data": {
            "text/plain": [
              "<matplotlib.legend.Legend at 0x7f220721b8d0>"
            ]
          },
          "metadata": {
            "tags": []
          },
          "execution_count": 35
        },
        {
          "output_type": "display_data",
          "data": {
            "image/png": "[encoded data removed]",
            "text/plain": [
              "<Figure size 864x432 with 1 Axes>"
            ]
          },
          "metadata": {
            "tags": [],
            "needs_background": "light"
          }
        }
      ]
    },
    {
      "cell_type": "code",
      "metadata": {
        "id": "AP5BpLjJvOhV",
        "outputId": "05571028-0268-495c-9669-8477f6ca9edb",
        "colab": {
          "base_uri": "https://localhost:8080/",
          "height": 187
        }
      },
      "source": [
        "df['atm'].fillna(9, inplace=True)\n",
        "df['col'].fillna(6, inplace=True)\n",
        "df['road_cat'].fillna(9, inplace=True)\n",
        "df['surf'].fillna(9, inplace=True)\n",
        "df['surf'].replace(0,9, inplace=True)\n",
        "df.surf.value_counts()"
      ],
      "execution_count": 36,
      "outputs": [
        {
          "output_type": "execute_result",
          "data": {
            "text/plain": [
              "1.0    652322\n",
              "2.0    143254\n",
              "9.0     32498\n",
              "7.0      5474\n",
              "5.0      2643\n",
              "8.0      2159\n",
              "3.0       861\n",
              "6.0       466\n",
              "4.0       308\n",
              "Name: surf, dtype: int64"
            ]
          },
          "metadata": {
            "tags": []
          },
          "execution_count": 36
        }
      ]
    },
    {
      "cell_type": "code",
      "metadata": {
        "id": "jgwFj2SowaXx",
        "outputId": "21696611-302a-4f21-d9a3-c666a310c263",
        "colab": {
          "base_uri": "https://localhost:8080/",
          "height": 297
        }
      },
      "source": [
        "df[['traf_reg', 'num_lanes','res_lane', 'long_prof', 'shape', 'infra', 'situation']].describe()"
      ],
      "execution_count": 37,
      "outputs": [
        {
          "output_type": "execute_result",
          "data": {
            "text/html": [
              "<div>\n",
              "<style scoped>\n",
              "    .dataframe tbody tr th:only-of-type {\n",
              "        vertical-align: middle;\n",
              "    }\n",
              "\n",
              "    .dataframe tbody tr th {\n",
              "        vertical-align: top;\n",
              "    }\n",
              "\n",
              "    .dataframe thead th {\n",
              "        text-align: right;\n",
              "    }\n",
              "</style>\n",
              "<table border=\"1\" class=\"dataframe\">\n",
              "  <thead>\n",
              "    <tr style=\"text-align: right;\">\n",
              "      <th></th>\n",
              "      <th>traf_reg</th>\n",
              "      <th>num_lanes</th>\n",
              "      <th>res_lane</th>\n",
              "      <th>long_prof</th>\n",
              "      <th>shape</th>\n",
              "      <th>infra</th>\n",
              "      <th>situation</th>\n",
              "    </tr>\n",
              "  </thead>\n",
              "  <tbody>\n",
              "    <tr>\n",
              "      <th>count</th>\n",
              "      <td>839187.000000</td>\n",
              "      <td>838195.000000</td>\n",
              "      <td>838345.000000</td>\n",
              "      <td>838924.000000</td>\n",
              "      <td>838909.000000</td>\n",
              "      <td>838707.000000</td>\n",
              "      <td>838983.000000</td>\n",
              "    </tr>\n",
              "    <tr>\n",
              "      <th>mean</th>\n",
              "      <td>1.855246</td>\n",
              "      <td>2.039593</td>\n",
              "      <td>0.130675</td>\n",
              "      <td>1.135474</td>\n",
              "      <td>1.198732</td>\n",
              "      <td>0.438958</td>\n",
              "      <td>1.147201</td>\n",
              "    </tr>\n",
              "    <tr>\n",
              "      <th>std</th>\n",
              "      <td>0.720949</td>\n",
              "      <td>1.550779</td>\n",
              "      <td>0.555434</td>\n",
              "      <td>0.620295</td>\n",
              "      <td>0.722200</td>\n",
              "      <td>1.350905</td>\n",
              "      <td>0.722495</td>\n",
              "    </tr>\n",
              "    <tr>\n",
              "      <th>min</th>\n",
              "      <td>0.000000</td>\n",
              "      <td>0.000000</td>\n",
              "      <td>0.000000</td>\n",
              "      <td>0.000000</td>\n",
              "      <td>0.000000</td>\n",
              "      <td>0.000000</td>\n",
              "      <td>0.000000</td>\n",
              "    </tr>\n",
              "    <tr>\n",
              "      <th>25%</th>\n",
              "      <td>2.000000</td>\n",
              "      <td>2.000000</td>\n",
              "      <td>0.000000</td>\n",
              "      <td>1.000000</td>\n",
              "      <td>1.000000</td>\n",
              "      <td>0.000000</td>\n",
              "      <td>1.000000</td>\n",
              "    </tr>\n",
              "    <tr>\n",
              "      <th>50%</th>\n",
              "      <td>2.000000</td>\n",
              "      <td>2.000000</td>\n",
              "      <td>0.000000</td>\n",
              "      <td>1.000000</td>\n",
              "      <td>1.000000</td>\n",
              "      <td>0.000000</td>\n",
              "      <td>1.000000</td>\n",
              "    </tr>\n",
              "    <tr>\n",
              "      <th>75%</th>\n",
              "      <td>2.000000</td>\n",
              "      <td>2.000000</td>\n",
              "      <td>0.000000</td>\n",
              "      <td>1.000000</td>\n",
              "      <td>1.000000</td>\n",
              "      <td>0.000000</td>\n",
              "      <td>1.000000</td>\n",
              "    </tr>\n",
              "    <tr>\n",
              "      <th>max</th>\n",
              "      <td>4.000000</td>\n",
              "      <td>99.000000</td>\n",
              "      <td>3.000000</td>\n",
              "      <td>4.000000</td>\n",
              "      <td>4.000000</td>\n",
              "      <td>7.000000</td>\n",
              "      <td>5.000000</td>\n",
              "    </tr>\n",
              "  </tbody>\n",
              "</table>\n",
              "</div>"
            ],
            "text/plain": [
              "            traf_reg      num_lanes  ...          infra      situation\n",
              "count  839187.000000  838195.000000  ...  838707.000000  838983.000000\n",
              "mean        1.855246       2.039593  ...       0.438958       1.147201\n",
              "std         0.720949       1.550779  ...       1.350905       0.722495\n",
              "min         0.000000       0.000000  ...       0.000000       0.000000\n",
              "25%         2.000000       2.000000  ...       0.000000       1.000000\n",
              "50%         2.000000       2.000000  ...       0.000000       1.000000\n",
              "75%         2.000000       2.000000  ...       0.000000       1.000000\n",
              "max         4.000000      99.000000  ...       7.000000       5.000000\n",
              "\n",
              "[8 rows x 7 columns]"
            ]
          },
          "metadata": {
            "tags": []
          },
          "execution_count": 37
        }
      ]
    },
    {
      "cell_type": "markdown",
      "metadata": {
        "id": "eaBS-AnBwxo4"
      },
      "source": [
        " Regarding the infrastructure and the existance of a reservet lane nearby, at least 75% of values are 0. These two features will be drop as to many values are unknown."
      ]
    },
    {
      "cell_type": "code",
      "metadata": {
        "id": "GIXyI84hweyl"
      },
      "source": [
        "df.drop(['infra', 'res_lane'], axis=1, inplace=True)"
      ],
      "execution_count": 38,
      "outputs": []
    },
    {
      "cell_type": "code",
      "metadata": {
        "id": "R30YSA_mw2St",
        "outputId": "ce92cc9f-ba56-4407-c4b4-256b330c94c0",
        "colab": {
          "base_uri": "https://localhost:8080/",
          "height": 136
        }
      },
      "source": [
        "df.num_lanes.fillna(0, inplace=True)\n",
        "df['num_lanes'] = df['num_lanes'].apply(lambda x: 2 if x>6 or x==0 else x)\n",
        "df.num_lanes.value_counts()"
      ],
      "execution_count": 39,
      "outputs": [
        {
          "output_type": "execute_result",
          "data": {
            "text/plain": [
              "2.0    573670\n",
              "1.0    101345\n",
              "4.0     76934\n",
              "3.0     66252\n",
              "6.0     13945\n",
              "5.0      7839\n",
              "Name: num_lanes, dtype: int64"
            ]
          },
          "metadata": {
            "tags": []
          },
          "execution_count": 39
        }
      ]
    },
    {
      "cell_type": "code",
      "metadata": {
        "id": "9ak3BMm2w7Km",
        "outputId": "e1a0eb33-6608-4755-f910-dbb1a1733eb6",
        "colab": {
          "base_uri": "https://localhost:8080/",
          "height": 421
        }
      },
      "source": [
        "df['traf_reg'].hist(alpha=0.5, rwidth=0.35, align='left', figsize=(12,6), label='traf_reg')\n",
        "df['long_prof'].hist(alpha=0.5,rwidth=0.35, align='left', label='long_prof')\n",
        "df['shape'].hist(alpha=0.5,rwidth=0.35, align='mid', label='shape')\n",
        "df['situation'].hist(alpha=0.5,rwidth=0.35, align='mid', label='situation')\n",
        "plt.title('Frequency of the values in 4 different features', size=12)\n",
        "plt.xticks(range(6))\n",
        "plt.xlabel('Value')\n",
        "plt.ylabel('Frequency')\n",
        "plt.legend()"
      ],
      "execution_count": 40,
      "outputs": [
        {
          "output_type": "execute_result",
          "data": {
            "text/plain": [
              "<matplotlib.legend.Legend at 0x7f21ff54e9b0>"
            ]
          },
          "metadata": {
            "tags": []
          },
          "execution_count": 40
        },
        {
          "output_type": "display_data",
          "data": {
            "image/png": "[encoded data removed]",
            "text/plain": [
              "<Figure size 864x432 with 1 Axes>"
            ]
          },
          "metadata": {
            "tags": [],
            "needs_background": "light"
          }
        }
      ]
    },
    {
      "cell_type": "markdown",
      "metadata": {
        "id": "tku-u7YpxILj"
      },
      "source": [
        "Most frequent value for the traffic situation, road profile and shape is 1, while for the traffic regime is 2."
      ]
    },
    {
      "cell_type": "code",
      "metadata": {
        "id": "s3hDlq5hxAC2"
      },
      "source": [
        "df['traf_reg'].fillna(0, inplace=True)\n",
        "df['traf_reg'] = df['traf_reg'].replace(0,2)\n",
        "\n",
        "df['long_prof'].fillna(0, inplace=True)\n",
        "df['long_prof'] = df['long_prof'].replace(0,1)\n",
        "\n",
        "df['shape'].fillna(0, inplace=True)\n",
        "df['shape'] = df['shape'].replace(0,1)\n",
        "\n",
        "df['situation'].fillna(0, inplace=True)\n",
        "df['situation'] = df['situation'].replace(0,1)\n"
      ],
      "execution_count": 41,
      "outputs": []
    },
    {
      "cell_type": "code",
      "metadata": {
        "id": "_uNNCVehxPtC",
        "outputId": "c76adf3f-54d7-4962-d127-22bb959b8559",
        "colab": {
          "base_uri": "https://localhost:8080/",
          "height": 298
        }
      },
      "source": [
        "df.school.describe(), df.school.hist()\n",
        "plt.title('School feature values')"
      ],
      "execution_count": 42,
      "outputs": [
        {
          "output_type": "execute_result",
          "data": {
            "text/plain": [
              "Text(0.5, 1.0, 'School feature values')"
            ]
          },
          "metadata": {
            "tags": []
          },
          "execution_count": 42
        },
        {
          "output_type": "display_data",
          "data": {
            "image/png": "[encoded data removed]",
            "text/plain": [
              "<Figure size 432x288 with 1 Axes>"
            ]
          },
          "metadata": {
            "tags": [],
            "needs_background": "light"
          }
        }
      ]
    },
    {
      "cell_type": "code",
      "metadata": {
        "id": "K8IDly5pxWB9"
      },
      "source": [
        "df.school.fillna(0, inplace=True)\n",
        "df['school'] = df.school.apply(lambda x:1 if x>0 else 0)"
      ],
      "execution_count": 43,
      "outputs": []
    },
    {
      "cell_type": "code",
      "metadata": {
        "id": "93UxVIbGxb2D"
      },
      "source": [
        "df[\"dep\"] = df[\"dep\"].div(10).apply(np.floor)\n",
        "df[\"dep\"] = df[\"dep\"].astype(int)"
      ],
      "execution_count": 44,
      "outputs": []
    },
    {
      "cell_type": "code",
      "metadata": {
        "id": "85CUHaYjxe4U",
        "outputId": "3cb92240-c230-4f49-acb3-80942442e283",
        "colab": {
          "base_uri": "https://localhost:8080/",
          "height": 544
        }
      },
      "source": [
        "df.info()"
      ],
      "execution_count": 45,
      "outputs": [
        {
          "output_type": "stream",
          "text": [
            "<class 'pandas.core.frame.DataFrame'>\n",
            "Int64Index: 839985 entries, 0 to 839984\n",
            "Data columns (total 24 columns):\n",
            " #   Column     Non-Null Count   Dtype  \n",
            "---  ------     --------------   -----  \n",
            " 0   ID         839985 non-null  int64  \n",
            " 1   time       839985 non-null  int64  \n",
            " 2   lum        839985 non-null  int64  \n",
            " 3   agg        839985 non-null  int64  \n",
            " 4   int        839985 non-null  int64  \n",
            " 5   atm        839985 non-null  float64\n",
            " 6   col        839985 non-null  float64\n",
            " 7   dep        839985 non-null  int64  \n",
            " 8   road_cat   839985 non-null  float64\n",
            " 9   traf_reg   839985 non-null  float64\n",
            " 10  num_lanes  839985 non-null  float64\n",
            " 11  long_prof  839985 non-null  float64\n",
            " 12  shape      839985 non-null  float64\n",
            " 13  surf       839985 non-null  float64\n",
            " 14  situation  839985 non-null  float64\n",
            " 15  school     839985 non-null  int64  \n",
            " 16  crit_age   839985 non-null  int64  \n",
            " 17  ped        839985 non-null  int64  \n",
            " 18  dead_age   839985 non-null  int64  \n",
            " 19  num_us     839985 non-null  int64  \n",
            " 20  sev        839985 non-null  int64  \n",
            " 21  date       839985 non-null  object \n",
            " 22  weekend    839985 non-null  int64  \n",
            " 23  holiday    839985 non-null  float64\n",
            "dtypes: float64(10), int64(13), object(1)\n",
            "memory usage: 160.2+ MB\n"
          ],
          "name": "stdout"
        }
      ]
    },
    {
      "cell_type": "markdown",
      "metadata": {
        "id": "0FK2TNqTxxG2"
      },
      "source": [
        "# 4.Exploratory Data Analysis"
      ]
    },
    {
      "cell_type": "markdown",
      "metadata": {
        "id": "QG83oVtGyBDs"
      },
      "source": [
        "Target: Severity\n",
        "The data is almost evenly distributed on both high and low severity accidents"
      ]
    },
    {
      "cell_type": "code",
      "metadata": {
        "id": "78zxB2jVxiWV",
        "outputId": "51b975ed-0b9b-4080-d028-97b725c19c8e",
        "colab": {
          "base_uri": "https://localhost:8080/",
          "height": 309
        }
      },
      "source": [
        "df.sev.plot.hist(figsize=(4,3))\n",
        "plt.title('Target feature values')\n",
        "plt.xlabel('Severity')\n",
        "plt.ylabel('Frequency')\n",
        "print('Accidents classified in each level of severity:')\n",
        "print(df.sev.value_counts())"
      ],
      "execution_count": 46,
      "outputs": [
        {
          "output_type": "stream",
          "text": [
            "Accidents classified in each level of severity:\n",
            "0    471695\n",
            "1    368290\n",
            "Name: sev, dtype: int64\n"
          ],
          "name": "stdout"
        },
        {
          "output_type": "display_data",
          "data": {
            "image/png": "[encoded data removed]",
            "text/plain": [
              "<Figure size 288x216 with 1 Axes>"
            ]
          },
          "metadata": {
            "tags": [],
            "needs_background": "light"
          }
        }
      ]
    },
    {
      "cell_type": "markdown",
      "metadata": {
        "id": "ZAXeLObNyco6"
      },
      "source": [
        "## Seasonality\n",
        "* The number of traffic accidents decreased over the years from 2005 to 2013, after which the trend became stable.\n",
        "* Analyszing the yearly trend there is a seasonal pattern where the number of accidents increase around March and then again in September.\n",
        "* Regarding the day of the week there is not a significant difference between them. There is a steady trend during the week with more accidents on friday, and sunday is the day with less accident of all.\n",
        "* Lastly analyzing the accidents per hour, there are clearly two spikes, one at 8am, the time people go to work and another one between 5 and 6pm, time when people return home. \n",
        "The number of accidents decreases between these two spikes, nothing unusual but it proves there is a pattern here."
      ]
    },
    {
      "cell_type": "code",
      "metadata": {
        "id": "KRN17Vh_yIOl",
        "outputId": "d0b4cc7e-fd30-4a54-9bd1-c1f4051445ad",
        "colab": {
          "base_uri": "https://localhost:8080/",
          "height": 221
        }
      },
      "source": [
        "df['date'] = pd.to_datetime(df['date'], format='%Y-%m-%d')\n",
        "date = df[['ID','sev', 'date']]\n",
        "date.date\n"
      ],
      "execution_count": 47,
      "outputs": [
        {
          "output_type": "execute_result",
          "data": {
            "text/plain": [
              "0        2016-02-01\n",
              "1        2016-03-16\n",
              "2        2016-07-13\n",
              "3        2016-08-15\n",
              "4        2016-12-23\n",
              "            ...    \n",
              "839980   2005-12-21\n",
              "839981   2005-12-23\n",
              "839982   2005-12-26\n",
              "839983   2005-12-27\n",
              "839984   2005-12-31\n",
              "Name: date, Length: 839985, dtype: datetime64[ns]"
            ]
          },
          "metadata": {
            "tags": []
          },
          "execution_count": 47
        }
      ]
    },
    {
      "cell_type": "code",
      "metadata": {
        "id": "X-IOjkEtyxpG",
        "outputId": "a28ef2e2-0d23-4e2b-b5d2-23e9ebdb21be",
        "colab": {
          "base_uri": "https://localhost:8080/",
          "height": 1000
        }
      },
      "source": [
        "#Seasonality\n",
        "\n",
        "\n",
        "date['year'] = df.date.dt.year\n",
        "date['month'] = df.date.dt.month\n",
        "date['weekday'] = df.date.dt.weekday\n",
        "high_sev = date[date['sev']==1]\n",
        "\n",
        "season = date[['date', 'ID']].groupby('date').count()\n",
        "season['rolling'] = season.ID.rolling(window=30).mean()\n",
        "season['ID'][365*8:].plot(figsize=(20,10), marker='o', markersize=2, linewidth=0.5, label='Daily trend')\n",
        "season['rolling'][365*8:].plot(color='r', linewidth=2, label='Rolling mean')\n",
        "plt.title('Daily accidents, years: 2013, 2014, 2015 and 2016', size=18)\n",
        "plt.xlabel('Day', size=14)\n",
        "plt.ylabel('Accidents', size=14)\n",
        "\n",
        "t0 = dt.datetime.strptime('2012-12-15', '%Y-%m-%d')\n",
        "t1 = dt.datetime.strptime('2017-01-15', '%Y-%m-%d')\n",
        "\n",
        "plt.xlim(t0,t1)\n",
        "plt.legend()\n",
        "plt.show()"
      ],
      "execution_count": 48,
      "outputs": [
        {
          "output_type": "stream",
          "text": [
            "/usr/local/lib/python3.6/dist-packages/ipykernel_launcher.py:4: SettingWithCopyWarning: \n",
            "A value is trying to be set on a copy of a slice from a DataFrame.\n",
            "Try using .loc[row_indexer,col_indexer] = value instead\n",
            "\n",
            "See the caveats in the documentation: https://pandas.pydata.org/pandas-docs/stable/user_guide/indexing.html#returning-a-view-versus-a-copy\n",
            "  after removing the cwd from sys.path.\n",
            "/usr/local/lib/python3.6/dist-packages/ipykernel_launcher.py:5: SettingWithCopyWarning: \n",
            "A value is trying to be set on a copy of a slice from a DataFrame.\n",
            "Try using .loc[row_indexer,col_indexer] = value instead\n",
            "\n",
            "See the caveats in the documentation: https://pandas.pydata.org/pandas-docs/stable/user_guide/indexing.html#returning-a-view-versus-a-copy\n",
            "  \"\"\"\n",
            "/usr/local/lib/python3.6/dist-packages/ipykernel_launcher.py:6: SettingWithCopyWarning: \n",
            "A value is trying to be set on a copy of a slice from a DataFrame.\n",
            "Try using .loc[row_indexer,col_indexer] = value instead\n",
            "\n",
            "See the caveats in the documentation: https://pandas.pydata.org/pandas-docs/stable/user_guide/indexing.html#returning-a-view-versus-a-copy\n",
            "  \n"
          ],
          "name": "stderr"
        },
        {
          "output_type": "error",
          "ename": "AttributeError",
          "evalue": "ignored",
          "traceback": [
            "\u001b[0;31m---------------------------------------------------------------------------\u001b[0m",
            "\u001b[0;31mAttributeError\u001b[0m                            Traceback (most recent call last)",
            "\u001b[0;32m<ipython-input-48-73a05ab160ce>\u001b[0m in \u001b[0;36m<module>\u001b[0;34m()\u001b[0m\n\u001b[1;32m     15\u001b[0m \u001b[0mplt\u001b[0m\u001b[0;34m.\u001b[0m\u001b[0mylabel\u001b[0m\u001b[0;34m(\u001b[0m\u001b[0;34m'Accidents'\u001b[0m\u001b[0;34m,\u001b[0m \u001b[0msize\u001b[0m\u001b[0;34m=\u001b[0m\u001b[0;36m14\u001b[0m\u001b[0;34m)\u001b[0m\u001b[0;34m\u001b[0m\u001b[0;34m\u001b[0m\u001b[0m\n\u001b[1;32m     16\u001b[0m \u001b[0;34m\u001b[0m\u001b[0m\n\u001b[0;32m---> 17\u001b[0;31m \u001b[0mt0\u001b[0m \u001b[0;34m=\u001b[0m \u001b[0mdt\u001b[0m\u001b[0;34m.\u001b[0m\u001b[0mdatetime\u001b[0m\u001b[0;34m.\u001b[0m\u001b[0mstrptime\u001b[0m\u001b[0;34m(\u001b[0m\u001b[0;34m'2012-12-15'\u001b[0m\u001b[0;34m,\u001b[0m \u001b[0;34m'%Y-%m-%d'\u001b[0m\u001b[0;34m)\u001b[0m\u001b[0;34m\u001b[0m\u001b[0;34m\u001b[0m\u001b[0m\n\u001b[0m\u001b[1;32m     18\u001b[0m \u001b[0mt1\u001b[0m \u001b[0;34m=\u001b[0m \u001b[0mdt\u001b[0m\u001b[0;34m.\u001b[0m\u001b[0mdatetime\u001b[0m\u001b[0;34m.\u001b[0m\u001b[0mstrptime\u001b[0m\u001b[0;34m(\u001b[0m\u001b[0;34m'2017-01-15'\u001b[0m\u001b[0;34m,\u001b[0m \u001b[0;34m'%Y-%m-%d'\u001b[0m\u001b[0;34m)\u001b[0m\u001b[0;34m\u001b[0m\u001b[0;34m\u001b[0m\u001b[0m\n\u001b[1;32m     19\u001b[0m \u001b[0;34m\u001b[0m\u001b[0m\n",
            "\u001b[0;32m/usr/local/lib/python3.6/dist-packages/pandas/core/generic.py\u001b[0m in \u001b[0;36m__getattr__\u001b[0;34m(self, name)\u001b[0m\n\u001b[1;32m   5134\u001b[0m             \u001b[0;32mif\u001b[0m \u001b[0mself\u001b[0m\u001b[0;34m.\u001b[0m\u001b[0m_info_axis\u001b[0m\u001b[0;34m.\u001b[0m\u001b[0m_can_hold_identifiers_and_holds_name\u001b[0m\u001b[0;34m(\u001b[0m\u001b[0mname\u001b[0m\u001b[0;34m)\u001b[0m\u001b[0;34m:\u001b[0m\u001b[0;34m\u001b[0m\u001b[0;34m\u001b[0m\u001b[0m\n\u001b[1;32m   5135\u001b[0m                 \u001b[0;32mreturn\u001b[0m \u001b[0mself\u001b[0m\u001b[0;34m[\u001b[0m\u001b[0mname\u001b[0m\u001b[0;34m]\u001b[0m\u001b[0;34m\u001b[0m\u001b[0;34m\u001b[0m\u001b[0m\n\u001b[0;32m-> 5136\u001b[0;31m             \u001b[0;32mreturn\u001b[0m \u001b[0mobject\u001b[0m\u001b[0;34m.\u001b[0m\u001b[0m__getattribute__\u001b[0m\u001b[0;34m(\u001b[0m\u001b[0mself\u001b[0m\u001b[0;34m,\u001b[0m \u001b[0mname\u001b[0m\u001b[0;34m)\u001b[0m\u001b[0;34m\u001b[0m\u001b[0;34m\u001b[0m\u001b[0m\n\u001b[0m\u001b[1;32m   5137\u001b[0m \u001b[0;34m\u001b[0m\u001b[0m\n\u001b[1;32m   5138\u001b[0m     \u001b[0;32mdef\u001b[0m \u001b[0m__setattr__\u001b[0m\u001b[0;34m(\u001b[0m\u001b[0mself\u001b[0m\u001b[0;34m,\u001b[0m \u001b[0mname\u001b[0m\u001b[0;34m:\u001b[0m \u001b[0mstr\u001b[0m\u001b[0;34m,\u001b[0m \u001b[0mvalue\u001b[0m\u001b[0;34m)\u001b[0m \u001b[0;34m->\u001b[0m \u001b[0;32mNone\u001b[0m\u001b[0;34m:\u001b[0m\u001b[0;34m\u001b[0m\u001b[0;34m\u001b[0m\u001b[0m\n",
            "\u001b[0;31mAttributeError\u001b[0m: 'DataFrame' object has no attribute 'datetime'"
          ]
        },
        {
          "output_type": "display_data",
          "data": {
            "image/png": "[encoded data removed]",
            "text/plain": [
              "<Figure size 1440x720 with 1 Axes>"
            ]
          },
          "metadata": {
            "tags": [],
            "needs_background": "light"
          }
        }
      ]
    },
    {
      "cell_type": "code",
      "metadata": {
        "id": "UIbzfYL_y16V",
        "outputId": "b8eab55e-6d58-4889-f78b-6adb54f4ec83",
        "colab": {
          "base_uri": "https://localhost:8080/",
          "height": 312
        }
      },
      "source": [
        "#By year\n",
        "\n",
        "yearly = date[['year', 'ID']].groupby('year').count()\n",
        "yearly['ID'].plot.line(figsize=(10,4), marker='o', linewidth=0.5, color='orange', label='Total')\n",
        "plt.title('Accidents per year')\n",
        "plt.xticks(range(2005,2017))\n",
        "plt.xlim(2004,2017)\n",
        "plt.ylabel('Accidents')\n",
        "plt.legend()"
      ],
      "execution_count": 49,
      "outputs": [
        {
          "output_type": "execute_result",
          "data": {
            "text/plain": [
              "<matplotlib.legend.Legend at 0x7f2206ec0438>"
            ]
          },
          "metadata": {
            "tags": []
          },
          "execution_count": 49
        },
        {
          "output_type": "display_data",
          "data": {
            "image/png": "[encoded data removed]",
            "text/plain": [
              "<Figure size 720x288 with 1 Axes>"
            ]
          },
          "metadata": {
            "tags": [],
            "needs_background": "light"
          }
        }
      ]
    },
    {
      "cell_type": "code",
      "metadata": {
        "id": "E3uOhdKTzCMl",
        "outputId": "1f3e0b9b-1d6d-490a-c068-68003a069670",
        "colab": {
          "base_uri": "https://localhost:8080/",
          "height": 478
        }
      },
      "source": [
        "#By month\n",
        "\n",
        "monthly = date[['month', 'ID']].groupby(['month']).count()\n",
        "monthly['high_sev'] = high_sev[['month', 'ID']].groupby(['month']).count()\n",
        "\n",
        "\n",
        "monthly['ID'].plot.bar(figsize=(14,7), alpha=0.5, color='blue', label='Total accidents')\n",
        "monthly['high_sev'].plot.bar(color='red', label='Severe')\n",
        "\n",
        "plt.title('Accidents per month from 2005 to 2016')\n",
        "plt.xticks(range(13))\n",
        "plt.xlim(-1,12)\n",
        "# plt.ylim(50000,85000)\n",
        "plt.xlabel('Month')\n",
        "plt.ylabel('Accidents')\n",
        "plt.legend()"
      ],
      "execution_count": 50,
      "outputs": [
        {
          "output_type": "execute_result",
          "data": {
            "text/plain": [
              "<matplotlib.legend.Legend at 0x7f2206e35b00>"
            ]
          },
          "metadata": {
            "tags": []
          },
          "execution_count": 50
        },
        {
          "output_type": "display_data",
          "data": {
            "image/png": "[encoded data removed]",
            "text/plain": [
              "<Figure size 1008x504 with 1 Axes>"
            ]
          },
          "metadata": {
            "tags": [],
            "needs_background": "light"
          }
        }
      ]
    },
    {
      "cell_type": "code",
      "metadata": {
        "id": "veFnWjKfzNR8",
        "outputId": "6a9bd214-98fc-4f70-88dd-f2f1ac67185d",
        "colab": {
          "base_uri": "https://localhost:8080/",
          "height": 309
        }
      },
      "source": [
        "#day of the week\n",
        "weekday = date[['weekday', 'ID']].groupby('weekday').count()\n",
        "weekday['high_sev'] = high_sev[['weekday', 'ID']].groupby(['weekday']).count()\n",
        "weekday['ID'].plot.bar(figsize=(8,4), alpha=0.7, color='blue', label='Total')\n",
        "weekday['high_sev'].plot.bar(color='red', label='Severe')\n",
        "\n",
        "plt.title('Accidents per day of the week from 2005 to 2016')\n",
        "plt.xticks(range(7))\n",
        "plt.xlim(-1,7)\n",
        "# plt.ylim(75000,150000)\n",
        "plt.xlabel('Weekday')\n",
        "plt.ylabel('Accidents')\n",
        "plt.legend()"
      ],
      "execution_count": 51,
      "outputs": [
        {
          "output_type": "execute_result",
          "data": {
            "text/plain": [
              "<matplotlib.legend.Legend at 0x7f2206e68cc0>"
            ]
          },
          "metadata": {
            "tags": []
          },
          "execution_count": 51
        },
        {
          "output_type": "display_data",
          "data": {
            "image/png": "[encoded data removed]",
            "text/plain": [
              "<Figure size 576x288 with 1 Axes>"
            ]
          },
          "metadata": {
            "tags": [],
            "needs_background": "light"
          }
        }
      ]
    },
    {
      "cell_type": "code",
      "metadata": {
        "id": "dq-axb7GzoqJ",
        "outputId": "accec341-6459-4b2c-bde9-42484964a09a",
        "colab": {
          "base_uri": "https://localhost:8080/",
          "height": 424
        }
      },
      "source": [
        "#By hour of the day\n",
        "\n",
        "hourly = df[['ID', 'time']].groupby('time').count()\n",
        "hourly['high_sev'] = df[df.sev==1][['ID', 'time']].groupby('time').count()\n",
        "hourly['ID'].plot.bar(figsize=(12,6), alpha=0.7, color='g', label='Total')\n",
        "hourly['high_sev'].plot.bar(color='r', label='Severe')\n",
        "plt.xticks(range(24))\n",
        "plt.title('Accidents per hour from 2005 to 2016')\n",
        "plt.xlabel('Hour of the day')\n",
        "plt.ylabel('Frequency of accidents')\n",
        "plt.legend()\n",
        "# df.time.value_counts()\n",
        "# hourly.ID.value_counts()\n",
        "hourly['ID'].sum()"
      ],
      "execution_count": 52,
      "outputs": [
        {
          "output_type": "execute_result",
          "data": {
            "text/plain": [
              "839985"
            ]
          },
          "metadata": {
            "tags": []
          },
          "execution_count": 52
        },
        {
          "output_type": "display_data",
          "data": {
            "image/png": "[encoded data removed]",
            "text/plain": [
              "<Figure size 864x432 with 1 Axes>"
            ]
          },
          "metadata": {
            "tags": [],
            "needs_background": "light"
          }
        }
      ]
    },
    {
      "cell_type": "code",
      "metadata": {
        "id": "cVByggJ40BFz",
        "outputId": "cd4fb65a-253c-4f63-fe68-b10294b5ca4c",
        "colab": {
          "base_uri": "https://localhost:8080/",
          "height": 424
        }
      },
      "source": [
        "#Zoom in fatal accidents by hour of the day\n",
        "\n",
        "hourly['high_sev'].plot.bar(figsize=(12,6),color='r', label='Fatal')\n",
        "plt.xticks(range(12))\n",
        "plt.ylim((0,7500))\n",
        "plt.title('Fatal accidents per hour from 2005 to 2016')\n",
        "plt.xlabel('Hour of the day')\n",
        "plt.ylabel('Frequency of accidents')\n",
        "plt.legend()"
      ],
      "execution_count": 53,
      "outputs": [
        {
          "output_type": "execute_result",
          "data": {
            "text/plain": [
              "<matplotlib.legend.Legend at 0x7f21fe28e240>"
            ]
          },
          "metadata": {
            "tags": []
          },
          "execution_count": 53
        },
        {
          "output_type": "display_data",
          "data": {
            "image/png": "[encoded data removed]",
            "text/plain": [
              "<Figure size 864x432 with 1 Axes>"
            ]
          },
          "metadata": {
            "tags": [],
            "needs_background": "light"
          }
        }
      ]
    },
    {
      "cell_type": "code",
      "metadata": {
        "id": "3XvKd3F81lYs",
        "outputId": "e95bac89-93a6-47ce-cce0-c39d8b7879cf",
        "colab": {
          "base_uri": "https://localhost:8080/",
          "height": 34
        }
      },
      "source": [
        "noon_morn_severe = hourly.high_sev.loc[0:6].sum()+hourly.high_sev.loc[21:23].sum()\n",
        "day_severe = hourly.high_sev.loc[7:20].sum()\n",
        "noon_morn = hourly.ID.loc[0:6].sum()+hourly.ID.loc[21:23].sum()\n",
        "day = hourly.ID.loc[7:20].sum()\n",
        "noon_morn_prop = (noon_morn_severe/noon_morn)*100\n",
        "day_prop = (day_severe/day)*100\n",
        "print('The percentage of severe accidents from 9pm to 6am is {0:0.2f}% of the total amount of accidents ocurring between this hours,\\\n",
        "     while the percentage of deathly accidents from 7am to 8pm is {1:2.2f}%.'.format(noon_morn_prop.round(2), day_prop))"
      ],
      "execution_count": 54,
      "outputs": [
        {
          "output_type": "stream",
          "text": [
            "The percentage of severe accidents from 9pm to 6am is 49.61% of the total amount of accidents ocurring between this hours,     while the percentage of deathly accidents from 7am to 8pm is 49.26%.\n"
          ],
          "name": "stdout"
        }
      ]
    },
    {
      "cell_type": "code",
      "metadata": {
        "id": "JOWS-fED2mDc"
      },
      "source": [
        "df['month'] = df.date.dt.month\n",
        "df['day'] = df.date.dt.day"
      ],
      "execution_count": 55,
      "outputs": []
    },
    {
      "cell_type": "code",
      "metadata": {
        "id": "lLLmYQ4q2rQf",
        "outputId": "c52b4e50-8e1c-4621-f52d-43a626ac7fb9",
        "colab": {
          "base_uri": "https://localhost:8080/",
          "height": 221
        }
      },
      "source": [
        "df.day.value_counts"
      ],
      "execution_count": 56,
      "outputs": [
        {
          "output_type": "execute_result",
          "data": {
            "text/plain": [
              "<bound method IndexOpsMixin.value_counts of 0          1\n",
              "1         16\n",
              "2         13\n",
              "3         15\n",
              "4         23\n",
              "          ..\n",
              "839980    21\n",
              "839981    23\n",
              "839982    26\n",
              "839983    27\n",
              "839984    31\n",
              "Name: day, Length: 839985, dtype: int64>"
            ]
          },
          "metadata": {
            "tags": []
          },
          "execution_count": 56
        }
      ]
    },
    {
      "cell_type": "markdown",
      "metadata": {
        "id": "Y2GgZ3Nk2wX3"
      },
      "source": [
        "# Correlation"
      ]
    },
    {
      "cell_type": "code",
      "metadata": {
        "id": "Drz9fgEl2tav",
        "outputId": "dfa4bb9b-0deb-4fd8-9e20-f7d5c03125b8",
        "colab": {
          "base_uri": "https://localhost:8080/",
          "height": 425
        }
      },
      "source": [
        "df[['sev','lum', 'agg', 'int', 'atm',\n",
        "    'col', 'dep', 'road_cat', 'traf_reg',\n",
        "    'num_lanes', 'long_prof', 'shape', 'surf', \n",
        "    'situation', 'school', 'crit_age','dead_age', 'ped',\n",
        "    'num_us', 'weekend', 'holiday', 'month', 'day']].corr()['sev'].sort_values(ascending=False)"
      ],
      "execution_count": 57,
      "outputs": [
        {
          "output_type": "execute_result",
          "data": {
            "text/plain": [
              "sev          1.000000\n",
              "shape        0.144514\n",
              "situation    0.128954\n",
              "weekend      0.077594\n",
              "traf_reg     0.076691\n",
              "long_prof    0.069781\n",
              "dead_age     0.048087\n",
              "atm          0.048012\n",
              "num_us       0.027533\n",
              "col          0.026740\n",
              "holiday      0.021744\n",
              "month        0.008851\n",
              "lum          0.002701\n",
              "day          0.002161\n",
              "surf         0.000874\n",
              "ped         -0.005999\n",
              "school      -0.025260\n",
              "crit_age    -0.038168\n",
              "int         -0.062982\n",
              "road_cat    -0.100728\n",
              "num_lanes   -0.101300\n",
              "dep         -0.105883\n",
              "agg         -0.277563\n",
              "Name: sev, dtype: float64"
            ]
          },
          "metadata": {
            "tags": []
          },
          "execution_count": 57
        }
      ]
    },
    {
      "cell_type": "code",
      "metadata": {
        "id": "bT7CnDtC20Hp",
        "outputId": "06857299-4f67-4b48-f94a-19c55129130c",
        "colab": {
          "base_uri": "https://localhost:8080/",
          "height": 225
        }
      },
      "source": [
        "bins = np.linspace(df.atm.min(), df.atm.max(), 10)\n",
        "g = sns.FacetGrid(df, col=\"crit_age\", hue=\"sev\", palette=\"Set1\", col_wrap=2)\n",
        "g.map(plt.hist,'road_cat', bins=bins, ec=\"k\")\n",
        "g.axes[-1].legend()\n",
        "plt.show()\n"
      ],
      "execution_count": 58,
      "outputs": [
        {
          "output_type": "display_data",
          "data": {
            "image/png": "[encoded data removed]",
            "text/plain": [
              "<Figure size 432x216 with 2 Axes>"
            ]
          },
          "metadata": {
            "tags": [],
            "needs_background": "light"
          }
        }
      ]
    },
    {
      "cell_type": "code",
      "metadata": {
        "id": "tjRsu1sO32DF",
        "outputId": "62c26d75-f501-4e66-9a91-4ff9c14562c7",
        "colab": {
          "base_uri": "https://localhost:8080/",
          "height": 225
        }
      },
      "source": [
        "bins = np.linspace(df.lum.min(), df.lum.max(), 10)\n",
        "g = sns.FacetGrid(df, col=\"crit_age\", hue=\"sev\", palette=\"Set1\", col_wrap=2)\n",
        "g.map(plt.hist, 'num_us', bins=bins, ec=\"k\")\n",
        "g.axes[-1].legend()\n",
        "plt.show()"
      ],
      "execution_count": 59,
      "outputs": [
        {
          "output_type": "display_data",
          "data": {
            "image/png": "[encoded data removed]",
            "text/plain": [
              "<Figure size 432x216 with 2 Axes>"
            ]
          },
          "metadata": {
            "tags": [],
            "needs_background": "light"
          }
        }
      ]
    },
    {
      "cell_type": "code",
      "metadata": {
        "id": "gY67mmKm5vh1",
        "outputId": "c04d98a5-4441-43da-b551-0d9e8342afce",
        "colab": {
          "base_uri": "https://localhost:8080/",
          "height": 225
        }
      },
      "source": [
        "bins = np.linspace(df.col.min(), df.col.max(), 10)\n",
        "g = sns.FacetGrid(df, col=\"crit_age\", hue=\"sev\", palette=\"Set1\", col_wrap=2)\n",
        "g.map(plt.hist, 'col', bins=bins, ec=\"k\")\n",
        "g.axes[-1].legend()\n",
        "plt.show()"
      ],
      "execution_count": 60,
      "outputs": [
        {
          "output_type": "display_data",
          "data": {
            "image/png": "[encoded data removed]",
            "text/plain": [
              "<Figure size 432x216 with 2 Axes>"
            ]
          },
          "metadata": {
            "tags": [],
            "needs_background": "light"
          }
        }
      ]
    },
    {
      "cell_type": "code",
      "metadata": {
        "id": "eH35NiWf6LeG",
        "outputId": "ce3650fd-7371-48b9-c6fa-783710931218",
        "colab": {
          "base_uri": "https://localhost:8080/",
          "height": 312
        }
      },
      "source": [
        "df['sev'][df['dead_age']==1].plot.hist(color='r')\n",
        "# plt.xlabel('Hour of the day')\n",
        "plt.title('Accident severity for poeple above 84 y.o.')\n",
        "plt.xlabel('Severity')"
      ],
      "execution_count": 61,
      "outputs": [
        {
          "output_type": "execute_result",
          "data": {
            "text/plain": [
              "Text(0.5, 0, 'Severity')"
            ]
          },
          "metadata": {
            "tags": []
          },
          "execution_count": 61
        },
        {
          "output_type": "display_data",
          "data": {
            "image/png": "[encoded data removed]",
            "text/plain": [
              "<Figure size 432x288 with 1 Axes>"
            ]
          },
          "metadata": {
            "tags": [],
            "needs_background": "light"
          }
        }
      ]
    },
    {
      "cell_type": "markdown",
      "metadata": {
        "id": "nCuHbcuf6gk2"
      },
      "source": [
        "# 5. Data Preparation"
      ]
    },
    {
      "cell_type": "code",
      "metadata": {
        "id": "aR2FljXQ6N-j"
      },
      "source": [
        "df.drop(['ID', 'date'], axis=1, inplace=True)"
      ],
      "execution_count": 62,
      "outputs": []
    },
    {
      "cell_type": "code",
      "metadata": {
        "id": "sAisktjT6k8V",
        "outputId": "f75a870f-f792-4f52-a545-e964974c0642",
        "colab": {
          "base_uri": "https://localhost:8080/",
          "height": 68
        }
      },
      "source": [
        "#Normalizing the data makes that any feature has more influence in the result than others.\n",
        "\n",
        "from sklearn.preprocessing import StandardScaler\n",
        "from sklearn.model_selection import train_test_split\n",
        "\n",
        "# X = df.drop('sev', axis=1)\n",
        "# X = StandardScaler().fit(X).transform(X)\n",
        "\n",
        "xtrain, xtest, ytrain, ytest = train_test_split(df.drop('sev', axis=1), df['sev'], test_size=0.2, random_state=8)\n",
        "xtrain, xval, ytrain, yval = train_test_split(xtrain, ytrain, test_size=0.2) \n",
        "\n",
        "\n",
        "print('Size of training set:', xtrain.shape[0],'\\n'\n",
        "      'Size of test set:',xtest.shape[0],'\\n'\n",
        "      'Size of evaluation set:', xval.shape[0])"
      ],
      "execution_count": 63,
      "outputs": [
        {
          "output_type": "stream",
          "text": [
            "Size of training set: 537590 \n",
            "Size of test set: 167997 \n",
            "Size of evaluation set: 134398\n"
          ],
          "name": "stdout"
        }
      ]
    },
    {
      "cell_type": "markdown",
      "metadata": {
        "id": "P___rBZL6q9Y"
      },
      "source": [
        "# 6. Model Develoment"
      ]
    },
    {
      "cell_type": "code",
      "metadata": {
        "id": "JSdX6lv96nzk"
      },
      "source": [
        "#importing models \n",
        "\n",
        "from sklearn.tree import DecisionTreeClassifier\n",
        "from sklearn.ensemble import RandomForestClassifier\n",
        "from sklearn.linear_model import LogisticRegression\n",
        "from sklearn.neighbors import KNeighborsClassifier\n",
        "from sklearn.svm import SVC\n",
        "\n",
        "#Evaluation Metrics\n",
        "import time\n",
        "from sklearn.metrics import accuracy_score, log_loss, jaccard_similarity_score, classification_report\n",
        "from sklearn.metrics import precision_score, recall_score, roc_curve"
      ],
      "execution_count": 64,
      "outputs": []
    },
    {
      "cell_type": "markdown",
      "metadata": {
        "id": "xz1QG5xo6zSz"
      },
      "source": [
        "\n",
        "1. Decision Tree"
      ]
    },
    {
      "cell_type": "code",
      "metadata": {
        "id": "1H502IlN6vaV",
        "outputId": "2d0ba270-c6d0-4362-cd60-c7cd29eae882",
        "colab": {
          "base_uri": "https://localhost:8080/",
          "height": 51
        }
      },
      "source": [
        "\n",
        "t0=time.time()\n",
        "tree = DecisionTreeClassifier(criterion='entropy')\n",
        "tree.fit(xtrain,ytrain)\n",
        "print('Time taken :' , time.time()-t0)\n",
        "yhat = tree.predict(xval)\n",
        "score_tree = accuracy_score(yval,yhat)\n",
        "print('Accuracy :',score_tree)"
      ],
      "execution_count": 65,
      "outputs": [
        {
          "output_type": "stream",
          "text": [
            "Time taken : 8.269412994384766\n",
            "Accuracy : 0.6380675307668269\n"
          ],
          "name": "stdout"
        }
      ]
    },
    {
      "cell_type": "markdown",
      "metadata": {
        "id": "LZJJTtla69MI"
      },
      "source": [
        "\n",
        "1.1. Random Forest"
      ]
    },
    {
      "cell_type": "code",
      "metadata": {
        "id": "cw7gVVTt62rQ",
        "outputId": "c9c48804-076d-424b-ac48-3e6511c92f6a",
        "colab": {
          "base_uri": "https://localhost:8080/",
          "height": 51
        }
      },
      "source": [
        "#RF 1\n",
        "\n",
        "t0=time.time()\n",
        "model_rf = RandomForestClassifier(n_estimators=100,criterion='entropy',random_state=0, n_jobs=-1)\n",
        "model_rf.fit(xtrain,ytrain)\n",
        "print('Time taken :' , time.time()-t0)\n",
        "yhat = model_rf.predict(xval)\n",
        "score_rf = accuracy_score(yval,yhat)\n",
        "print('Accuracy :',score_rf)"
      ],
      "execution_count": 66,
      "outputs": [
        {
          "output_type": "stream",
          "text": [
            "Time taken : 133.2755424976349\n",
            "Accuracy : 0.7213649012634117\n"
          ],
          "name": "stdout"
        }
      ]
    },
    {
      "cell_type": "code",
      "metadata": {
        "id": "zFRHYwRf7CiY",
        "outputId": "23a9f63a-fc7f-4e18-837d-69a10a4975dd",
        "colab": {
          "base_uri": "https://localhost:8080/",
          "height": 793
        }
      },
      "source": [
        "importances = pd.DataFrame({'feature':df.drop('sev', axis=1).columns,'importance':np.round(model_rf.feature_importances_,3)})\n",
        "importances = importances.sort_values('importance',ascending=False).set_index('feature')\n",
        "importances"
      ],
      "execution_count": 67,
      "outputs": [
        {
          "output_type": "execute_result",
          "data": {
            "text/html": [
              "<div>\n",
              "<style scoped>\n",
              "    .dataframe tbody tr th:only-of-type {\n",
              "        vertical-align: middle;\n",
              "    }\n",
              "\n",
              "    .dataframe tbody tr th {\n",
              "        vertical-align: top;\n",
              "    }\n",
              "\n",
              "    .dataframe thead th {\n",
              "        text-align: right;\n",
              "    }\n",
              "</style>\n",
              "<table border=\"1\" class=\"dataframe\">\n",
              "  <thead>\n",
              "    <tr style=\"text-align: right;\">\n",
              "      <th></th>\n",
              "      <th>importance</th>\n",
              "    </tr>\n",
              "    <tr>\n",
              "      <th>feature</th>\n",
              "      <th></th>\n",
              "    </tr>\n",
              "  </thead>\n",
              "  <tbody>\n",
              "    <tr>\n",
              "      <th>time</th>\n",
              "      <td>0.163</td>\n",
              "    </tr>\n",
              "    <tr>\n",
              "      <th>dep</th>\n",
              "      <td>0.152</td>\n",
              "    </tr>\n",
              "    <tr>\n",
              "      <th>day</th>\n",
              "      <td>0.134</td>\n",
              "    </tr>\n",
              "    <tr>\n",
              "      <th>month</th>\n",
              "      <td>0.096</td>\n",
              "    </tr>\n",
              "    <tr>\n",
              "      <th>road_cat</th>\n",
              "      <td>0.053</td>\n",
              "    </tr>\n",
              "    <tr>\n",
              "      <th>col</th>\n",
              "      <td>0.044</td>\n",
              "    </tr>\n",
              "    <tr>\n",
              "      <th>num_us</th>\n",
              "      <td>0.042</td>\n",
              "    </tr>\n",
              "    <tr>\n",
              "      <th>agg</th>\n",
              "      <td>0.035</td>\n",
              "    </tr>\n",
              "    <tr>\n",
              "      <th>num_lanes</th>\n",
              "      <td>0.033</td>\n",
              "    </tr>\n",
              "    <tr>\n",
              "      <th>int</th>\n",
              "      <td>0.031</td>\n",
              "    </tr>\n",
              "    <tr>\n",
              "      <th>traf_reg</th>\n",
              "      <td>0.028</td>\n",
              "    </tr>\n",
              "    <tr>\n",
              "      <th>atm</th>\n",
              "      <td>0.024</td>\n",
              "    </tr>\n",
              "    <tr>\n",
              "      <th>lum</th>\n",
              "      <td>0.023</td>\n",
              "    </tr>\n",
              "    <tr>\n",
              "      <th>long_prof</th>\n",
              "      <td>0.021</td>\n",
              "    </tr>\n",
              "    <tr>\n",
              "      <th>surf</th>\n",
              "      <td>0.021</td>\n",
              "    </tr>\n",
              "    <tr>\n",
              "      <th>crit_age</th>\n",
              "      <td>0.019</td>\n",
              "    </tr>\n",
              "    <tr>\n",
              "      <th>shape</th>\n",
              "      <td>0.018</td>\n",
              "    </tr>\n",
              "    <tr>\n",
              "      <th>school</th>\n",
              "      <td>0.017</td>\n",
              "    </tr>\n",
              "    <tr>\n",
              "      <th>weekend</th>\n",
              "      <td>0.015</td>\n",
              "    </tr>\n",
              "    <tr>\n",
              "      <th>situation</th>\n",
              "      <td>0.014</td>\n",
              "    </tr>\n",
              "    <tr>\n",
              "      <th>ped</th>\n",
              "      <td>0.008</td>\n",
              "    </tr>\n",
              "    <tr>\n",
              "      <th>holiday</th>\n",
              "      <td>0.005</td>\n",
              "    </tr>\n",
              "    <tr>\n",
              "      <th>dead_age</th>\n",
              "      <td>0.004</td>\n",
              "    </tr>\n",
              "  </tbody>\n",
              "</table>\n",
              "</div>"
            ],
            "text/plain": [
              "           importance\n",
              "feature              \n",
              "time            0.163\n",
              "dep             0.152\n",
              "day             0.134\n",
              "month           0.096\n",
              "road_cat        0.053\n",
              "col             0.044\n",
              "num_us          0.042\n",
              "agg             0.035\n",
              "num_lanes       0.033\n",
              "int             0.031\n",
              "traf_reg        0.028\n",
              "atm             0.024\n",
              "lum             0.023\n",
              "long_prof       0.021\n",
              "surf            0.021\n",
              "crit_age        0.019\n",
              "shape           0.018\n",
              "school          0.017\n",
              "weekend         0.015\n",
              "situation       0.014\n",
              "ped             0.008\n",
              "holiday         0.005\n",
              "dead_age        0.004"
            ]
          },
          "metadata": {
            "tags": []
          },
          "execution_count": 67
        }
      ]
    },
    {
      "cell_type": "code",
      "metadata": {
        "id": "PsjqgeE77QOb"
      },
      "source": [
        "xtrain = pd.DataFrame(xtrain)\n",
        "xtrain.drop(['dead_age', 'holiday', 'ped', 'situation', 'weekend', 'school', 'shape', 'crit_age', 'surf', 'long_prof','lum','atm'], axis=1, inplace=True)\n",
        "xval.drop(['dead_age', 'holiday', 'ped', 'situation', 'weekend', 'school', 'shape', 'crit_age', 'surf', 'long_prof', 'lum', 'atm'], axis=1, inplace=True)\n",
        "xtest.drop(['dead_age', 'holiday', 'ped', 'situation', 'weekend', 'school', 'shape', 'crit_age','surf', 'long_prof', 'lum', 'atm'], axis=1, inplace=True)"
      ],
      "execution_count": 68,
      "outputs": []
    },
    {
      "cell_type": "code",
      "metadata": {
        "id": "OO6QGA6t7RKd",
        "outputId": "fd6eea0b-bf5f-409c-a1f5-9a51df1991e2",
        "colab": {
          "base_uri": "https://localhost:8080/",
          "height": 51
        }
      },
      "source": [
        "#RF 2:\n",
        "#number of features reduced from 23 to 13\n",
        "\n",
        "t0=time.time()\n",
        "model_rf = RandomForestClassifier(n_estimators=100,criterion='entropy',random_state=0, n_jobs=-1)\n",
        "model_rf.fit(xtrain,ytrain)\n",
        "print('Time taken :' , time.time()-t0)\n",
        "yhat = model_rf.predict(xval)\n",
        "score_rf = accuracy_score(yval,yhat)\n",
        "print('Accuracy :',score_rf)"
      ],
      "execution_count": 69,
      "outputs": [
        {
          "output_type": "stream",
          "text": [
            "Time taken : 134.81413435935974\n",
            "Accuracy : 0.7109257578237771\n"
          ],
          "name": "stdout"
        }
      ]
    },
    {
      "cell_type": "code",
      "metadata": {
        "id": "heKpjZ2G7YEe",
        "outputId": "e4776a96-e892-4dc1-aa8d-51b9a4ff52f9",
        "colab": {
          "base_uri": "https://localhost:8080/",
          "height": 51
        }
      },
      "source": [
        "#RF 3:\n",
        "\n",
        "#number of decision trees reduced from 100 to 50\n",
        "#Limiting the number of features to look at when creating the next split to 5\n",
        "#Limiting the max depth of the tree to 10\n",
        "\n",
        "\n",
        "t0=time.time()\n",
        "model_rf = RandomForestClassifier(n_estimators=50, max_features=5, max_depth =10 ,criterion='entropy',random_state=0, n_jobs=-1)\n",
        "model_rf.fit(xtrain,ytrain)\n",
        "print('Time taken :' , time.time()-t0)\n",
        "yhat = model_rf.predict(xval)\n",
        "score_rf = accuracy_score(yval,yhat)\n",
        "print('Accuracy :',score_rf)"
      ],
      "execution_count": 70,
      "outputs": [
        {
          "output_type": "stream",
          "text": [
            "Time taken : 46.73271203041077\n",
            "Accuracy : 0.7159779163380408\n"
          ],
          "name": "stdout"
        }
      ]
    },
    {
      "cell_type": "code",
      "metadata": {
        "id": "ckGrdNkz7c_z",
        "outputId": "3b44e5b4-3999-4ef2-811a-82a5b37d73b0",
        "colab": {
          "base_uri": "https://localhost:8080/",
          "height": 51
        }
      },
      "source": [
        "#RF 4:\n",
        "\n",
        "#number of decision trees reduced from 50 to 10\n",
        "#Limiting the number of features to look at when creating the next split to 8\n",
        "#Limiting the max depth of the tree to 12\n",
        "\n",
        "\n",
        "t0=time.time()\n",
        "model_rf = RandomForestClassifier(n_estimators=10, max_features=8, max_depth =12,criterion='entropy',random_state=0, n_jobs=-1)\n",
        "model_rf.fit(xtrain,ytrain)\n",
        "print('Time taken :' , time.time()-t0)\n",
        "yhat = model_rf.predict(xval)\n",
        "score_rf = accuracy_score(yval,yhat)\n",
        "print('Accuracy :',score_rf)"
      ],
      "execution_count": 71,
      "outputs": [
        {
          "output_type": "stream",
          "text": [
            "Time taken : 16.2274911403656\n",
            "Accuracy : 0.72159555945773\n"
          ],
          "name": "stdout"
        }
      ]
    },
    {
      "cell_type": "code",
      "metadata": {
        "id": "RXRLJ95D7hgW",
        "outputId": "c393969d-a385-4008-e166-97e1ed915741",
        "colab": {
          "base_uri": "https://localhost:8080/",
          "height": 258
        }
      },
      "source": [
        "#evaluation\n",
        "t0=time.time()\n",
        "model_rf = RandomForestClassifier(n_estimators=10, max_features=8, max_depth =12,criterion='entropy',random_state=0, n_jobs=-1)\n",
        "model_rf.fit(xtrain,ytrain)\n",
        "t_rf = time.time()-t0\n",
        "print('Time taken :' , t_rf)\n",
        "yhat_rf = model_rf.predict(xtest)\n",
        "jaccard_rf = jaccard_similarity_score(ytest,yhat_rf)\n",
        "c_rf = classification_report(ytest,yhat_rf)\n",
        "prec_rf = precision_score(ytest, yhat_rf)\n",
        "rec_rf = recall_score(ytest, yhat_rf)\n",
        "print('Jaccard :',jaccard_rf,'\\n',\n",
        "     c_rf)"
      ],
      "execution_count": 72,
      "outputs": [
        {
          "output_type": "stream",
          "text": [
            "Time taken : 15.730784893035889\n"
          ],
          "name": "stdout"
        },
        {
          "output_type": "stream",
          "text": [
            "/usr/local/lib/python3.6/dist-packages/sklearn/metrics/_classification.py:664: FutureWarning: jaccard_similarity_score has been deprecated and replaced with jaccard_score. It will be removed in version 0.23. This implementation has surprising behavior for binary and multiclass classification tasks.\n",
            "  FutureWarning)\n"
          ],
          "name": "stderr"
        },
        {
          "output_type": "stream",
          "text": [
            "Jaccard : 0.7228521937891748 \n",
            "               precision    recall  f1-score   support\n",
            "\n",
            "           0       0.72      0.82      0.77     94297\n",
            "           1       0.72      0.60      0.66     73700\n",
            "\n",
            "    accuracy                           0.72    167997\n",
            "   macro avg       0.72      0.71      0.71    167997\n",
            "weighted avg       0.72      0.72      0.72    167997\n",
            "\n"
          ],
          "name": "stdout"
        }
      ]
    },
    {
      "cell_type": "markdown",
      "metadata": {
        "id": "s6LlRNj4-Lc5"
      },
      "source": [
        "# 2. LogisticRegression"
      ]
    },
    {
      "cell_type": "code",
      "metadata": {
        "id": "lGDGumO7-D78",
        "outputId": "a622f56b-b3a2-449f-e80a-6886334d3f55",
        "colab": {
          "base_uri": "https://localhost:8080/",
          "height": 51
        }
      },
      "source": [
        "acc=np.zeros(6)\n",
        "i=0\n",
        "for c in [0.5, 0.1, 0.01, 0.001, 10, 100]:\n",
        "    lr = LogisticRegression(C=c, solver='liblinear').fit(xtrain, ytrain)\n",
        "    yhat = lr.predict(xval)\n",
        "    acc[i] = accuracy_score(yval,yhat)\n",
        "    i+=1\n",
        "acc"
      ],
      "execution_count": 73,
      "outputs": [
        {
          "output_type": "execute_result",
          "data": {
            "text/plain": [
              "array([0.6605009 , 0.66045626, 0.66079852, 0.66146074, 0.66047858,\n",
              "       0.66049346])"
            ]
          },
          "metadata": {
            "tags": []
          },
          "execution_count": 73
        }
      ]
    },
    {
      "cell_type": "code",
      "metadata": {
        "id": "obfbwMsu-PM1",
        "outputId": "1c9878f0-d293-4576-91bc-9ee5a14c34a0",
        "colab": {
          "base_uri": "https://localhost:8080/",
          "height": 258
        }
      },
      "source": [
        "#Evaluation\n",
        "\n",
        "t0=time.time()\n",
        "lr = LogisticRegression(C=0.001, solver='liblinear').fit(xtrain, ytrain)\n",
        "t_lr = time.time()-t0\n",
        "print('Time taken :' , t_lr)\n",
        "yhat = lr.predict(xtest)\n",
        "jaccard_lr = jaccard_similarity_score(ytest,yhat)\n",
        "c_lr = classification_report(ytest,yhat)\n",
        "prec_lr = precision_score(ytest, yhat)\n",
        "rec_lr = recall_score(ytest, yhat)\n",
        "print('Jaccard :',jaccard_lr,'\\n',\n",
        "     c_lr)"
      ],
      "execution_count": 74,
      "outputs": [
        {
          "output_type": "stream",
          "text": [
            "Time taken : 8.227137327194214\n"
          ],
          "name": "stdout"
        },
        {
          "output_type": "stream",
          "text": [
            "/usr/local/lib/python3.6/dist-packages/sklearn/metrics/_classification.py:664: FutureWarning: jaccard_similarity_score has been deprecated and replaced with jaccard_score. It will be removed in version 0.23. This implementation has surprising behavior for binary and multiclass classification tasks.\n",
            "  FutureWarning)\n"
          ],
          "name": "stderr"
        },
        {
          "output_type": "stream",
          "text": [
            "Jaccard : 0.6620356315886593 \n",
            "               precision    recall  f1-score   support\n",
            "\n",
            "           0       0.66      0.82      0.73     94297\n",
            "           1       0.67      0.46      0.54     73700\n",
            "\n",
            "    accuracy                           0.66    167997\n",
            "   macro avg       0.66      0.64      0.64    167997\n",
            "weighted avg       0.66      0.66      0.65    167997\n",
            "\n"
          ],
          "name": "stdout"
        }
      ]
    },
    {
      "cell_type": "markdown",
      "metadata": {
        "id": "6M72_qu_-rCg"
      },
      "source": [
        "# 3. KNN"
      ]
    },
    {
      "cell_type": "code",
      "metadata": {
        "id": "6dp6wtoZ-kz8",
        "outputId": "8864ba93-b429-4d57-b363-3e26c17d254a",
        "colab": {
          "base_uri": "https://localhost:8080/",
          "height": 34
        }
      },
      "source": [
        "tt = xtrain.shape[0]\n",
        "tv = xval.shape[0]\n",
        "xtrain[int(tt*0.5):].shape[0], xval[int(tv*0.5):].shape[0]"
      ],
      "execution_count": 75,
      "outputs": [
        {
          "output_type": "execute_result",
          "data": {
            "text/plain": [
              "(268795, 67199)"
            ]
          },
          "metadata": {
            "tags": []
          },
          "execution_count": 75
        }
      ]
    },
    {
      "cell_type": "code",
      "metadata": {
        "id": "c2TlRdXY-zzy",
        "outputId": "b83adfd9-0015-4034-8f3f-faf9ab68b0b5",
        "colab": {
          "base_uri": "https://localhost:8080/",
          "height": 34
        }
      },
      "source": [
        "ks = 17\n",
        "mean_acc = np.zeros(ks-1)\n",
        "std_acc = np.zeros(ks-1)\n",
        "\n",
        "for n in range(1,ks):\n",
        "    neigh = KNeighborsClassifier(n_neighbors = n).fit(xtrain[int(tt*0.5):],ytrain[int(tt*0.5):])\n",
        "    yhat = neigh.predict(xval[int(tv*0.5):])\n",
        "    mean_acc[n-1] = accuracy_score(yval[int(tv*0.5):],yhat)\n",
        "    std_acc[n-1] = np.std(yhat==yval[int(tv*0.5):])/np.sqrt(yhat.shape[0])\n",
        "print('Best performing K is '+ str(mean_acc.argmax()+1) + ' with an accuracy of ' +str(mean_acc.max()))\n"
      ],
      "execution_count": 76,
      "outputs": [
        {
          "output_type": "stream",
          "text": [
            "Best performing K is 16 with an accuracy of 0.6313337996101133\n"
          ],
          "name": "stdout"
        }
      ]
    },
    {
      "cell_type": "code",
      "metadata": {
        "id": "PbqSEO3B-5JU",
        "outputId": "28309d42-0c53-42b7-bf8c-f1a936fefe7a",
        "colab": {
          "base_uri": "https://localhost:8080/",
          "height": 312
        }
      },
      "source": [
        "plt.plot(range(1,ks),mean_acc,'g')\n",
        "plt.xlabel('K')\n",
        "plt.ylabel('Accuracy')\n",
        "plt.title('Evaluation of accuracy incrementing the value of K')\n",
        "plt.fill_between(range(1,ks),mean_acc-1*std_acc,mean_acc+1*std_acc, alpha=0.1)"
      ],
      "execution_count": 77,
      "outputs": [
        {
          "output_type": "execute_result",
          "data": {
            "text/plain": [
              "<matplotlib.collections.PolyCollection at 0x7f21fccfceb8>"
            ]
          },
          "metadata": {
            "tags": []
          },
          "execution_count": 77
        },
        {
          "output_type": "display_data",
          "data": {
            "image/png": "[encoded data removed]",
            "text/plain": [
              "<Figure size 432x288 with 1 Axes>"
            ]
          },
          "metadata": {
            "tags": [],
            "needs_background": "light"
          }
        }
      ]
    },
    {
      "cell_type": "code",
      "metadata": {
        "id": "YHyBLYq4_qOC",
        "outputId": "dd8c884e-9d42-4916-c7ee-303080b804b8",
        "colab": {
          "base_uri": "https://localhost:8080/",
          "height": 258
        }
      },
      "source": [
        "#evaluation|\n",
        "\n",
        "t0=time.time()\n",
        "model_knn = KNeighborsClassifier(n_neighbors = 16, n_jobs=-1)\n",
        "model_knn.fit(xtrain,ytrain)\n",
        "t_knn = time.time()-t0\n",
        "print('Time taken :' , t_knn)\n",
        "yhat = model_knn.predict(xtest)\n",
        "jaccard_knn = jaccard_similarity_score(ytest,yhat)\n",
        "c_knn = classification_report(ytest,yhat)\n",
        "prec_knn = precision_score(ytest, yhat)\n",
        "rec_knn = recall_score(ytest, yhat)\n",
        "print('Jaccard :',jaccard_knn,'\\n',\n",
        "     c_knn)"
      ],
      "execution_count": 78,
      "outputs": [
        {
          "output_type": "stream",
          "text": [
            "Time taken : 4.462690830230713\n"
          ],
          "name": "stdout"
        },
        {
          "output_type": "stream",
          "text": [
            "/usr/local/lib/python3.6/dist-packages/sklearn/metrics/_classification.py:664: FutureWarning: jaccard_similarity_score has been deprecated and replaced with jaccard_score. It will be removed in version 0.23. This implementation has surprising behavior for binary and multiclass classification tasks.\n",
            "  FutureWarning)\n"
          ],
          "name": "stderr"
        },
        {
          "output_type": "stream",
          "text": [
            "Jaccard : 0.6435769686363447 \n",
            "               precision    recall  f1-score   support\n",
            "\n",
            "           0       0.65      0.77      0.71     94297\n",
            "           1       0.62      0.48      0.54     73700\n",
            "\n",
            "    accuracy                           0.64    167997\n",
            "   macro avg       0.64      0.63      0.63    167997\n",
            "weighted avg       0.64      0.64      0.64    167997\n",
            "\n"
          ],
          "name": "stdout"
        }
      ]
    },
    {
      "cell_type": "markdown",
      "metadata": {
        "id": "IlTiwWII_4zT"
      },
      "source": [
        "# 4. SVM"
      ]
    },
    {
      "cell_type": "code",
      "metadata": {
        "id": "yHCvrqpf_vQU",
        "outputId": "307b658a-696e-476e-8d47-07c6d923a3cb",
        "colab": {
          "base_uri": "https://localhost:8080/",
          "height": 411
        }
      },
      "source": [
        "size = [1000,5000,10000,12000,15000,20000,30000,40000,50000,75000,100000]\n",
        "acc = []\n",
        "t = []\n",
        "for s in size:\n",
        "    t0=time.time()\n",
        "    sv = SVC().fit(xtrain[:s],ytrain[:s])\n",
        "    t.append(time.time()-t0)\n",
        "    yhat = sv.predict(xval[:s])\n",
        "    acc.append(jaccard_similarity_score(yval[:s],yhat))"
      ],
      "execution_count": 79,
      "outputs": [
        {
          "output_type": "stream",
          "text": [
            "/usr/local/lib/python3.6/dist-packages/sklearn/metrics/_classification.py:664: FutureWarning: jaccard_similarity_score has been deprecated and replaced with jaccard_score. It will be removed in version 0.23. This implementation has surprising behavior for binary and multiclass classification tasks.\n",
            "  FutureWarning)\n",
            "/usr/local/lib/python3.6/dist-packages/sklearn/metrics/_classification.py:664: FutureWarning: jaccard_similarity_score has been deprecated and replaced with jaccard_score. It will be removed in version 0.23. This implementation has surprising behavior for binary and multiclass classification tasks.\n",
            "  FutureWarning)\n",
            "/usr/local/lib/python3.6/dist-packages/sklearn/metrics/_classification.py:664: FutureWarning: jaccard_similarity_score has been deprecated and replaced with jaccard_score. It will be removed in version 0.23. This implementation has surprising behavior for binary and multiclass classification tasks.\n",
            "  FutureWarning)\n",
            "/usr/local/lib/python3.6/dist-packages/sklearn/metrics/_classification.py:664: FutureWarning: jaccard_similarity_score has been deprecated and replaced with jaccard_score. It will be removed in version 0.23. This implementation has surprising behavior for binary and multiclass classification tasks.\n",
            "  FutureWarning)\n",
            "/usr/local/lib/python3.6/dist-packages/sklearn/metrics/_classification.py:664: FutureWarning: jaccard_similarity_score has been deprecated and replaced with jaccard_score. It will be removed in version 0.23. This implementation has surprising behavior for binary and multiclass classification tasks.\n",
            "  FutureWarning)\n",
            "/usr/local/lib/python3.6/dist-packages/sklearn/metrics/_classification.py:664: FutureWarning: jaccard_similarity_score has been deprecated and replaced with jaccard_score. It will be removed in version 0.23. This implementation has surprising behavior for binary and multiclass classification tasks.\n",
            "  FutureWarning)\n",
            "/usr/local/lib/python3.6/dist-packages/sklearn/metrics/_classification.py:664: FutureWarning: jaccard_similarity_score has been deprecated and replaced with jaccard_score. It will be removed in version 0.23. This implementation has surprising behavior for binary and multiclass classification tasks.\n",
            "  FutureWarning)\n",
            "/usr/local/lib/python3.6/dist-packages/sklearn/metrics/_classification.py:664: FutureWarning: jaccard_similarity_score has been deprecated and replaced with jaccard_score. It will be removed in version 0.23. This implementation has surprising behavior for binary and multiclass classification tasks.\n",
            "  FutureWarning)\n",
            "/usr/local/lib/python3.6/dist-packages/sklearn/metrics/_classification.py:664: FutureWarning: jaccard_similarity_score has been deprecated and replaced with jaccard_score. It will be removed in version 0.23. This implementation has surprising behavior for binary and multiclass classification tasks.\n",
            "  FutureWarning)\n",
            "/usr/local/lib/python3.6/dist-packages/sklearn/metrics/_classification.py:664: FutureWarning: jaccard_similarity_score has been deprecated and replaced with jaccard_score. It will be removed in version 0.23. This implementation has surprising behavior for binary and multiclass classification tasks.\n",
            "  FutureWarning)\n",
            "/usr/local/lib/python3.6/dist-packages/sklearn/metrics/_classification.py:664: FutureWarning: jaccard_similarity_score has been deprecated and replaced with jaccard_score. It will be removed in version 0.23. This implementation has surprising behavior for binary and multiclass classification tasks.\n",
            "  FutureWarning)\n"
          ],
          "name": "stderr"
        }
      ]
    },
    {
      "cell_type": "code",
      "metadata": {
        "id": "buX1RnEI_8pe",
        "outputId": "a2e1f9e3-8c9e-42c0-f5a8-96d23b2b1a75",
        "colab": {
          "base_uri": "https://localhost:8080/",
          "height": 390
        }
      },
      "source": [
        "performance = pd.DataFrame({'acc':acc, 'time':t}, index=size)\n",
        "performance"
      ],
      "execution_count": 80,
      "outputs": [
        {
          "output_type": "execute_result",
          "data": {
            "text/html": [
              "<div>\n",
              "<style scoped>\n",
              "    .dataframe tbody tr th:only-of-type {\n",
              "        vertical-align: middle;\n",
              "    }\n",
              "\n",
              "    .dataframe tbody tr th {\n",
              "        vertical-align: top;\n",
              "    }\n",
              "\n",
              "    .dataframe thead th {\n",
              "        text-align: right;\n",
              "    }\n",
              "</style>\n",
              "<table border=\"1\" class=\"dataframe\">\n",
              "  <thead>\n",
              "    <tr style=\"text-align: right;\">\n",
              "      <th></th>\n",
              "      <th>acc</th>\n",
              "      <th>time</th>\n",
              "    </tr>\n",
              "  </thead>\n",
              "  <tbody>\n",
              "    <tr>\n",
              "      <th>1000</th>\n",
              "      <td>0.564000</td>\n",
              "      <td>0.060095</td>\n",
              "    </tr>\n",
              "    <tr>\n",
              "      <th>5000</th>\n",
              "      <td>0.554000</td>\n",
              "      <td>1.400666</td>\n",
              "    </tr>\n",
              "    <tr>\n",
              "      <th>10000</th>\n",
              "      <td>0.558100</td>\n",
              "      <td>5.557400</td>\n",
              "    </tr>\n",
              "    <tr>\n",
              "      <th>12000</th>\n",
              "      <td>0.557833</td>\n",
              "      <td>7.921114</td>\n",
              "    </tr>\n",
              "    <tr>\n",
              "      <th>15000</th>\n",
              "      <td>0.561067</td>\n",
              "      <td>12.800895</td>\n",
              "    </tr>\n",
              "    <tr>\n",
              "      <th>20000</th>\n",
              "      <td>0.558450</td>\n",
              "      <td>21.507102</td>\n",
              "    </tr>\n",
              "    <tr>\n",
              "      <th>30000</th>\n",
              "      <td>0.556267</td>\n",
              "      <td>49.566028</td>\n",
              "    </tr>\n",
              "    <tr>\n",
              "      <th>40000</th>\n",
              "      <td>0.563200</td>\n",
              "      <td>91.929833</td>\n",
              "    </tr>\n",
              "    <tr>\n",
              "      <th>50000</th>\n",
              "      <td>0.563900</td>\n",
              "      <td>151.145529</td>\n",
              "    </tr>\n",
              "    <tr>\n",
              "      <th>75000</th>\n",
              "      <td>0.564440</td>\n",
              "      <td>425.341632</td>\n",
              "    </tr>\n",
              "    <tr>\n",
              "      <th>100000</th>\n",
              "      <td>0.565090</td>\n",
              "      <td>876.045621</td>\n",
              "    </tr>\n",
              "  </tbody>\n",
              "</table>\n",
              "</div>"
            ],
            "text/plain": [
              "             acc        time\n",
              "1000    0.564000    0.060095\n",
              "5000    0.554000    1.400666\n",
              "10000   0.558100    5.557400\n",
              "12000   0.557833    7.921114\n",
              "15000   0.561067   12.800895\n",
              "20000   0.558450   21.507102\n",
              "30000   0.556267   49.566028\n",
              "40000   0.563200   91.929833\n",
              "50000   0.563900  151.145529\n",
              "75000   0.564440  425.341632\n",
              "100000  0.565090  876.045621"
            ]
          },
          "metadata": {
            "tags": []
          },
          "execution_count": 80
        }
      ]
    },
    {
      "cell_type": "code",
      "metadata": {
        "id": "AJf0SKeuACIi",
        "outputId": "56643bd7-ef67-4c0d-9f80-5e280493f88b",
        "colab": {
          "base_uri": "https://localhost:8080/",
          "height": 590
        }
      },
      "source": [
        "performance.plot(y='acc', color='r', label='accuracy')\n",
        "plt.xlabel('Samples')\n",
        "plt.ylabel('Evaluation accuracy')\n",
        "plt.title('Accuracy')\n",
        "performance.plot(y='time', color='green', label='time')\n",
        "plt.xlabel('Samples')\n",
        "plt.ylabel('Computational Time ')\n",
        "plt.title('Time(s)')"
      ],
      "execution_count": 81,
      "outputs": [
        {
          "output_type": "execute_result",
          "data": {
            "text/plain": [
              "Text(0.5, 1.0, 'Time(s)')"
            ]
          },
          "metadata": {
            "tags": []
          },
          "execution_count": 81
        },
        {
          "output_type": "display_data",
          "data": {
            "image/png": "[encoded data removed]",
            "text/plain": [
              "<Figure size 432x288 with 1 Axes>"
            ]
          },
          "metadata": {
            "tags": [],
            "needs_background": "light"
          }
        },
        {
          "output_type": "display_data",
          "data": {
            "image/png": "[encoded data removed]",
            "text/plain": [
              "<Figure size 432x288 with 1 Axes>"
            ]
          },
          "metadata": {
            "tags": [],
            "needs_background": "light"
          }
        }
      ]
    },
    {
      "cell_type": "code",
      "metadata": {
        "id": "DK1RwWqoKvzj",
        "outputId": "8f66bc7a-2a7f-46c3-a992-da90b9bbae68",
        "colab": {
          "base_uri": "https://localhost:8080/",
          "height": 258
        }
      },
      "source": [
        "#Evaluation\n",
        "\n",
        "s=75000\n",
        "t0=time.time()\n",
        "sv = SVC().fit(xtrain[:s],ytrain[:s])\n",
        "t_svm = time.time()-t0\n",
        "print('Time taken :' , t_svm)\n",
        "yhat = sv.predict(xtest[:s])\n",
        "jaccard_svm = jaccard_similarity_score(ytest[:s],yhat)\n",
        "c_svm = classification_report(ytest[:s],yhat)\n",
        "prec_svm = precision_score(ytest[:s], yhat)\n",
        "rec_svm = recall_score(ytest[:s], yhat)\n",
        "print('Jaccard :',jaccard_lr,'\\n',\n",
        "     c_lr)"
      ],
      "execution_count": 82,
      "outputs": [
        {
          "output_type": "stream",
          "text": [
            "Time taken : 440.6032440662384\n"
          ],
          "name": "stdout"
        },
        {
          "output_type": "stream",
          "text": [
            "/usr/local/lib/python3.6/dist-packages/sklearn/metrics/_classification.py:664: FutureWarning: jaccard_similarity_score has been deprecated and replaced with jaccard_score. It will be removed in version 0.23. This implementation has surprising behavior for binary and multiclass classification tasks.\n",
            "  FutureWarning)\n"
          ],
          "name": "stderr"
        },
        {
          "output_type": "stream",
          "text": [
            "Jaccard : 0.6620356315886593 \n",
            "               precision    recall  f1-score   support\n",
            "\n",
            "           0       0.66      0.82      0.73     94297\n",
            "           1       0.67      0.46      0.54     73700\n",
            "\n",
            "    accuracy                           0.66    167997\n",
            "   macro avg       0.66      0.64      0.64    167997\n",
            "weighted avg       0.66      0.66      0.65    167997\n",
            "\n"
          ],
          "name": "stdout"
        }
      ]
    },
    {
      "cell_type": "markdown",
      "metadata": {
        "id": "F5XYoVA8LDiv"
      },
      "source": [
        "#7. Results"
      ]
    },
    {
      "cell_type": "markdown",
      "metadata": {
        "id": "cZ9jFD21LOmo"
      },
      "source": [
        "![resultcap.PNG](data:image/png;base64,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)"
      ]
    },
    {
      "cell_type": "code",
      "metadata": {
        "id": "jP28mPnLLBKJ",
        "outputId": "591d8c2b-f262-4eb2-b5b9-6d07d78f485a",
        "colab": {
          "base_uri": "https://localhost:8080/",
          "height": 85
        }
      },
      "source": [
        "print('Jaccard:',jaccard_rf,'Precision:',prec_rf,'Recall:',rec_rf)\n",
        "print('Jaccard:',jaccard_lr,'Precision:',prec_lr,'Recall:',rec_lr)\n",
        "print('Jaccard:',jaccard_knn,'Precision:',prec_knn,'Recall:',rec_knn)\n",
        "print('Jaccard:',jaccard_svm,'Precision:',prec_svm,'Recall:',rec_svm)"
      ],
      "execution_count": 83,
      "outputs": [
        {
          "output_type": "stream",
          "text": [
            "Jaccard: 0.7228521937891748 Precision: 0.7196503722887666 Recall: 0.6032564450474899\n",
            "Jaccard: 0.6620356315886593 Precision: 0.6681437911094331 Recall: 0.4562143826322931\n",
            "Jaccard: 0.6435769686363447 Precision: 0.621335018785772 Recall: 0.4801899592944369\n",
            "Jaccard: 0.56628 Precision: 0.5231497127407908 Recall: 0.04738872221882079\n"
          ],
          "name": "stdout"
        }
      ]
    },
    {
      "cell_type": "code",
      "metadata": {
        "id": "1FFzZJrWOAOq",
        "outputId": "02e0e968-f5ec-40ec-d5f8-afac0e85f827",
        "colab": {
          "base_uri": "https://localhost:8080/",
          "height": 632
        }
      },
      "source": [
        "#ROC curve\n",
        "yscores = model_rf.predict_proba(xtest)\n",
        "\n",
        "false_positive_rate, true_positive_rate, thresholds = roc_curve(ytest.values, yscores[:,1])\n",
        "\n",
        "def plot_roc_curve(false_positive_rate, true_positive_rate, label=None):\n",
        "    plt.plot(false_positive_rate, true_positive_rate, linewidth=2, label='a')\n",
        "    plt.plot([0, 1], [0, 1], 'r', linewidth=4)\n",
        "    plt.axis([0, 1, 0, 1])\n",
        "    plt.xlabel('False Positive Rate (FPR)', fontsize=16)\n",
        "    plt.ylabel('True Positive Rate (TPR)', fontsize=16)\n",
        "\n",
        "plt.figure(figsize=(10, 10))\n",
        "plt.title('ROC curve', fontsize=20)\n",
        "plot_roc_curve(false_positive_rate, true_positive_rate)\n",
        "plt.show()"
      ],
      "execution_count": 84,
      "outputs": [
        {
          "output_type": "display_data",
          "data": {
            "image/png": "[encoded data removed]",
            "text/plain": [
              "<Figure size 720x720 with 1 Axes>"
            ]
          },
          "metadata": {
            "tags": [],
            "needs_background": "light"
          }
        }
      ]
    }
  ]
}